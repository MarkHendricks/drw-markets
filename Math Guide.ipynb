{
 "cells": [
  {
   "cell_type": "markdown",
   "id": "2d4d2c41",
   "metadata": {
    "heading_collapsed": true
   },
   "source": [
    "# Fixed Income"
   ]
  },
  {
   "cell_type": "markdown",
   "id": "9b65733f",
   "metadata": {
    "hidden": true
   },
   "source": [
    "## A.2. The Yield Curve and Discount Rates"
   ]
  },
  {
   "cell_type": "markdown",
   "id": "2123aef4",
   "metadata": {
    "hidden": true
   },
   "source": [
    "### Yield-to-Maturity\n",
    "\n",
    "Price as discounted cashflows, where the same discount rate, $y_j$ is used for **every cashflow**, but is **unique to the bond**, $j$.\n",
    "\n",
    "$\\begin{align*}\n",
    "P_j(t,T,c) = \\sum_{i=1}^{n-1}\\frac{100\\left(\\frac{c}{2}\\right)}{\\left(1+\\frac{y_j}{2}\\right)^{2(T_i-t)}} + \\frac{100\\left(1+\\frac{c}{2}\\right)}{\\left(1+\\frac{y_j}{2}\\right)^{2(T-t)}}\n",
    "\\end{align*}\n",
    "$\n",
    "\n",
    "### Discount rate pricing\n",
    "Price as discounted cashflows, where the same discount rate, $y_j$ is used for **every bond**, but is **unique to the period**, $t$.\n",
    "\n",
    "$\\begin{align*}\n",
    "P_j(t,T,c) = \\sum_{i=1}^{n-1}\\frac{100\\left(\\frac{c}{2}\\right)}{\\left(1+\\frac{r(t,T_i)}{2}\\right)^{2(T_i-t)}} + \\frac{100\\left(1+\\frac{c}{2}\\right)}{\\left(1+\\frac{r(t,T)}{2}\\right)^{2(T-t)}}\n",
    "\\end{align*}\n",
    "$\n",
    "\n",
    "### Discount factor pricing\n",
    "Like discount rate pricing, but easier because:\n",
    "* no worrying about how it was compounded\n",
    "* no need to exponentiate anything\n",
    "\n",
    "$\\begin{align*}\n",
    "\\displaystyle P_j(t,T,c) = \\sum_{i=1}^{n-1} 100 Z(t,T_i)\\frac{c}{2} + 100 Z(t,T)\\left(1+\\frac{c}{2}\\right)\n",
    "\\end{align*}\n",
    "$\n",
    "\n",
    "These **discount factors** can be used to price **ANY** (default-free) cashflows, including\n",
    "* floating rate bonds\n",
    "* forwards\n",
    "* swaps\n",
    "\n",
    "### Converting between discount factors and discount rates\n",
    "For an $n$-compounded discount rate, (use $n=2$ for semiannual),\n",
    "\n",
    "$Z(t,T) = \\frac{1}{\\left(1+\\frac{r_n}{n}\\right)^{n(T-t)}}$\n",
    "\n",
    "or for a continuously compounded discount rate, $r$, \n",
    "\n",
    "$Z(t,T) = \\; = e^{-r(T-t)}$\n",
    "\n",
    "### Getting the discount factors\n",
    "We get the discount factors, $Z$, by \n",
    "* stacking many security prices, $p$, into a vector\n",
    "* creating a cashflow matrix, $C$, (row is a bond, column is a date)\n",
    "* solving for the unknown vector of discounts, $z$.\n",
    "\n",
    "$$\\boldsymbol{p} = \\boldsymbol{C}\\boldsymbol{z}+\\epsilon$$\n",
    "\n",
    "This is just a regression! (Think of $z$ as the regression \"beta\".)\n",
    "* More serious uses for derivatives pricing need $z$ to be smoother, so it relies on fitting the above with curves rather than linear regression.\n",
    "\n",
    "### Compounding\n",
    "\n",
    "$\n",
    "\\begin{align}\n",
    "\\displaystyle r =& n\\ln\\left(1+\\frac{r_n}{n}\\right)\\\\\n",
    "\\displaystyle r_n=& n\\left(e^{\\frac{r}{n}}-1\\right)\n",
    "\\end{align}\n",
    "$"
   ]
  },
  {
   "cell_type": "markdown",
   "id": "1b53b0fd",
   "metadata": {
    "hidden": true
   },
   "source": [
    "## A.3. Interest Rate Risk\n",
    "\n",
    "### Bond Approximation\n",
    "$$\\begin{align}\n",
    "\\frac{dP}{P} \\approx -D\\times dr + \\frac{1}{2}C\\times (dr)^2\n",
    "\\end{align}$$\n",
    "where \n",
    "* $dr$ is a small change in the level of the spot curve\n",
    "* $D$ is the **duration**\n",
    "* $C$ is the **convexity**\n",
    "\n",
    "### Duration and Convexity for Simple Cases\n",
    "Zero-coupon bond (single payment at $T$):\n",
    "\n",
    "$\\begin{align}\n",
    "D=& \\underbrace{T-t}_{\\text{time to maturity}}\\\\\n",
    "C=& (T-t)^2\n",
    "\\end{align}$\n",
    "\n",
    "Floating-rate bond:\n",
    "\n",
    "$\\begin{align}\n",
    "D=&  \\underbrace{T_i-t}_{\\text{time to reset, (quarterly?)}}\\\\\n",
    "C=& (T_i-t)^2\n",
    "\\end{align}$\n",
    "\n",
    "### Duration for Bonds\n",
    "Coupon Bond: Just a weighted average of the duration for each payment!\n",
    "\n",
    "$$\\begin{align}\n",
    "D_{\\text{coupon bond}} =& \\sum_{i=1}^n w_i T_i\\\\\n",
    "w_i = & \\frac{Z(t,T_i)C_i}{P}\n",
    "\\end{align}$$"
   ]
  },
  {
   "cell_type": "markdown",
   "id": "4396c62d",
   "metadata": {
    "hidden": true
   },
   "source": [
    "## A.4. Floating-Rate Notes\n",
    "\n",
    "The price of the floater with zero spread at reset date $T_i$ equals its face value.\n",
    "\n",
    "$\\price_{\\float}(T_i,T;0) = 100$\n",
    "\n",
    "Pricing floaters between resets, or with spreads, leads to adjustments as given in the appendix to this note. But they are straightforward applications of the A.2. formulas, and for practical purposes, the key insight is the formula above.."
   ]
  },
  {
   "cell_type": "markdown",
   "id": "d2c8b65f",
   "metadata": {
    "hidden": true
   },
   "source": [
    "## A.4. Forwards\n",
    "\n",
    "### Forward Discount Factors\n",
    "Define the **forward discount factor** as\n",
    "\n",
    "$\\begin{align}\n",
    "F(t,T_1,T_2) = \\frac{Z(t,T_2)}{Z(t,T_1)}\n",
    "\\end{align}$\n",
    "\n",
    "This is the time-$t$ implied discount factor effective over $T_1$ to $T_2$.\n",
    "\n",
    "### Between Discount Factors and Discount Rates\n",
    "\n",
    "$F$ is a forward factor analogous to $Z$, the discount factor.\n",
    "\n",
    "We can convert it to a **forward rate**, analogous to switching between $Z$ and the spot (discount) rate, $r$.\n",
    "\n",
    "The **forward discount rate** is typically given with continuous compounding:\n",
    "\n",
    "$\\begin{align}\n",
    "f(t,T_1,T_2) \\equiv & \\quad -\\frac{\\ln\\left\\{F(t,T_1,T_2)\\right\\}}{T_2-T_1}\\\\[6pt]\n",
    "F(t,T_1,T_2) = & \\quad e^{-f(t,T_1,T_2)(T_2-T_1)}\n",
    "\\end{align}$"
   ]
  },
  {
   "cell_type": "markdown",
   "id": "ae87eb1b",
   "metadata": {
    "hidden": true
   },
   "source": [
    "## A.4. Swaps and SOFR"
   ]
  },
  {
   "cell_type": "markdown",
   "id": "c92938e0",
   "metadata": {
    "hidden": true
   },
   "source": [
    "$\\newcommand{\\value}{V}$\n",
    "$\\newcommand{\\price}{P}$\n",
    "$\\newcommand{\\float}{\\text{float}}$\n",
    "$\\newcommand{\\freq}{\\kappa}$\n",
    "$\\newcommand{\\tbond}{\\text{fixed}}$\n",
    "$\\newcommand{\\cpn}{c}$\n",
    "$\\newcommand{\\spread}{s}$\n",
    "$\\newcommand{\\swap}{\\text{swap}}$\n",
    "$\\newcommand{\\swaprate}{\\cpn_{\\swap}}$\n",
    "$\\newcommand{\\cashflow}{C}$\n",
    "$\\newcommand{\\notional}{K}$"
   ]
  },
  {
   "cell_type": "markdown",
   "id": "50a4e94c",
   "metadata": {
    "hidden": true
   },
   "source": [
    "### Swap Cashflow\n",
    "\n",
    "Consider the swap \n",
    "- exchanging payments at frequency $\\freq$\n",
    "- thus making payments every $\\tau = 1/\\freq$.\n",
    "- the interest rate quoted is compounded at frequency $\\freq$.\n",
    "\n",
    "Cashflow, $\\cashflow$, at each swap period is\n",
    "\n",
    "$\\begin{align}\n",
    "\\cashflow(T_i) = \\notional\\, \\tau\\left[r_\\freq(T_{i-1},T_i)-\\cpn_\\swap\\right]\n",
    "\\end{align}$"
   ]
  },
  {
   "cell_type": "markdown",
   "id": "dce894c6",
   "metadata": {
    "hidden": true
   },
   "source": [
    "### Swap Decomposition\n",
    "\n",
    "Swaps are equivalent to a floating bond minus a fixed-rate bond.\n",
    "\n",
    "$\\begin{align}\n",
    "\\value_{\\swap}(t,T,\\swaprate) = P_{\\float}(t,T;0) - P_{\\tbond}(t,T;\\cpn_{\\swap})\n",
    "\\end{align}$\n",
    "\n",
    "(Being long the swap means receiving the floating rate and paying the swap rate.)\n",
    "\n",
    "This makes it easy to get swap\n",
    "* prices\n",
    "* duration\n",
    "\n",
    "Using the formulas from A.2. and A.3.\n",
    "\n",
    "#### Swap Pricing at a Reset Date\n",
    "For example, at a reset date this would lead to...\n",
    "\n",
    "$\\begin{align}\n",
    "\\value_{\\swap}(0,T;\\swaprate) =& 100 - 100\\left[\\sum_{i=1}^{M} Z(0,T_i)\\frac{\\cpn_\\swap}{\\freq} + Z(0,T)\\right]\\\\[6pt]\n",
    "=& 100\\left[1 - Z(0,T) - \\frac{\\cpn_\\swap}{\\freq} \\sum_{i=1}^{M} Z(0,T_i) \\right]\n",
    "\\end{align}$\n",
    "\n",
    "where $\\kappa$ is the compounding frequency, typically 2 or 4."
   ]
  },
  {
   "cell_type": "markdown",
   "id": "130fcb21",
   "metadata": {
    "hidden": true
   },
   "source": [
    "### Pricing the Swap Rate\n",
    "\n",
    "Setting up the swap involves agreeing on a swap rate, $c_{\\text{swap}}$. The market will price this as\n",
    "\n",
    "$\\begin{align}\n",
    "\\swaprate(0,T;\\freq) = \\freq\\, \\frac{1-Z(0,T)}{\\sum_{i=1}^M Z(0,T_i)}\n",
    "\\end{align}$\n",
    "\n",
    "where $\\kappa$ is the compounding frequency, typically 2 or 4."
   ]
  },
  {
   "cell_type": "markdown",
   "id": "01cb3379",
   "metadata": {
    "hidden": true
   },
   "source": [
    "## A.5. Inflation\n",
    "\n",
    "The market's (adjusted) expectation of inflation over $n$ years, **annualized**, is simply\n",
    "\n",
    "$\\text{annual inflation expectation between }  t \\text{ and }T = y^{(T)}_t - \\widetilde{y}^{(T)}_t$\n",
    "\n",
    "* $y^{(T)}$ denotes the yield-to-maturity on $T$-maturing **nominal** (regular) Treasury.\n",
    "* $\\widetilde{y}^{(T)}$ denotes the yield-to-maturity on a $T$-maturing **real** (TIPS) Treasury."
   ]
  },
  {
   "cell_type": "markdown",
   "id": "f18a1234",
   "metadata": {
    "heading_collapsed": true
   },
   "source": [
    "# Currency"
   ]
  },
  {
   "cell_type": "markdown",
   "id": "094530ec",
   "metadata": {
    "heading_collapsed": true,
    "hidden": true
   },
   "source": [
    "## B.1. Currency\n",
    "\n",
    "### FX Returns\n",
    "For a **direct** FX quote (USD per foreign currency), $S_t$, the return to holding foreign currency, denominated in USD, is\n",
    "\n",
    "$\\newcommand{\\RF}{R^{f,\\$}}$\n",
    "$\\newcommand{\\RFa}{R^{f,*}}$\n",
    "\n",
    "$$\\RFa_{t,t+1}\\frac{ S_{t+1}}{S_t}$$\n",
    "* $\\RFa$ is the risk-free rate in the foreign currency.\n",
    "\n",
    "Thus, the **excess return** on currency is\n",
    "$$\\RFa_{t,t+1}\\frac{ S_{t+1}}{S_t} - \\RF$$\n",
    "\n",
    "### FX Forwards\n",
    "\n",
    "$\\newcommand{\\Fcrncy}{F^{\\$}}$\n",
    "\n",
    "**Covered Interest Parity** is a market relationship between exchange rates and risk-free rates.\n",
    "$$\\frac{\\Fcrncy_t}{S_t}\\RFa_{t,t+1} = \\RF_{t,t+1}$$"
   ]
  },
  {
   "cell_type": "markdown",
   "id": "e60d7561",
   "metadata": {
    "heading_collapsed": true
   },
   "source": [
    "# Futures"
   ]
  },
  {
   "cell_type": "markdown",
   "id": "0f59437e",
   "metadata": {
    "hidden": true
   },
   "source": [
    "## B.2. Commodity Futures"
   ]
  },
  {
   "cell_type": "markdown",
   "id": "a0204db8",
   "metadata": {
    "hidden": true
   },
   "source": [
    "### Forward Prices\n",
    "\n",
    "Note the forward price is used for futures.\n",
    "\n",
    "$$F_0 = S_0e^{(r_f+c-y)T}$$\n",
    "* $c$ is the storage cost\n",
    "* $y$ is the (convenience) yield. \n",
    "\n",
    "Or simply include the convenience yield as part of the carry, $c^*$.\n",
    "\n",
    "$$F_0 = S_0e^{(r_f+c^*)T}$$"
   ]
  }
 ],
 "metadata": {
  "hide_input": false,
  "kernelspec": {
   "display_name": "Python 3 (ipykernel)",
   "language": "python",
   "name": "python3"
  },
  "language_info": {
   "codemirror_mode": {
    "name": "ipython",
    "version": 3
   },
   "file_extension": ".py",
   "mimetype": "text/x-python",
   "name": "python",
   "nbconvert_exporter": "python",
   "pygments_lexer": "ipython3",
   "version": "3.9.7"
  }
 },
 "nbformat": 4,
 "nbformat_minor": 5
}
