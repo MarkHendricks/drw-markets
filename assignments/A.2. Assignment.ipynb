{
 "cells": [
  {
   "cell_type": "markdown",
   "id": "f7605588",
   "metadata": {},
   "source": [
    "# A.2. Assignment\n",
    "\n",
    "## Fixed Income Module\n",
    "\n",
    "### DRW New-Hire Learning Program\n",
    "\n",
    "#### Summer 2022\n",
    "\n",
    "Questions?\n",
    "* Contact: Mark Hendricks\n",
    "* hendricks@uchicago.edu\n",
    "\n",
    "\n",
    "### Instructions\n",
    "\n",
    "#### Work on this in your group.\n",
    "#### Don't spend more than 45 minutes on it during the 12-2pm break. (We want you to have time refresh and eat.)\n",
    "#### We encourage you to do more on the problems in the afternoon/evening if able and interested."
   ]
  },
  {
   "cell_type": "markdown",
   "id": "de69be79",
   "metadata": {},
   "source": [
    "# Data\n",
    "\n",
    "This assignment uses the data file `../data/treasury_quotes_2022-03-31.xlsx`."
   ]
  },
  {
   "cell_type": "markdown",
   "id": "0a79f5d5",
   "metadata": {},
   "source": [
    "# 1. Treasury Debt Composition\n",
    "\n",
    "## Note\n",
    "\n",
    "The `ITYPE` column identifies\n",
    "* 1: bonds\n",
    "* 2: notes\n",
    "* 4: bills\n",
    "* 11: TIPS notes\n",
    "* 12: TIPS bonds\n",
    "\n",
    "The column `TDPUBOUT` lists the dollar size of the issue (public debt outstanding.)\n",
    "\n",
    "The data source does not list the issue size for the T-bills, which is why we are not segmenting those out separately.\n",
    "\n",
    "*Tip* `.pivot_table()` may be useful.\n",
    "\n",
    "## 1.1\n",
    "Plot the total amount of outstanding debt maturing at each date\n",
    "\n",
    "## 1.2\n",
    "Plot the amount of outstanding debt maturing at each date, segmented by bonds, notes, TIPS (combined ITYPE of 11 and 12.)\n",
    "\n",
    "## 1.3\n",
    "Report the total outstanding debt (summed over all maturity dates,) segmented by bonds, notes, TIPS.\n",
    "\n",
    "## 1.4\n",
    "Make a pie chart of this total number (reported in 1.3.) "
   ]
  },
  {
   "cell_type": "markdown",
   "id": "abcdc2dd",
   "metadata": {},
   "source": [
    "# 2 Bond Metrics\n",
    "\n",
    "## 2.1\n",
    "\n",
    "Calculate the time-to-maturity (relative to the quote date of 2022-03-31) for each issue.\n",
    "\n",
    "Use the `TMATDT` column to get the maturity date.\n",
    "\n",
    "Report the summary statistics of these time-to-maturities. (Consider using .describe()).\n",
    "\n",
    "## 2.2\n",
    "Plot the time-to-maturity against the provided YTM, (column `TDYLD`.)\n",
    "\n",
    "## 2.3\n",
    "\n",
    "For the Treasury bills, calculate the **discount yields**.\n",
    "\n",
    "Identify the T-bills using `ITYPE`=4 or looking for `TCOUPRT` of 0.\n",
    "\n",
    "## 2.4 Extra\n",
    "\n",
    "Write a function to calculate the yield-to-maturity for each issue. You will need to use a nonlinear solver to solve for the YTM."
   ]
  },
  {
   "cell_type": "markdown",
   "id": "db1c8aea",
   "metadata": {},
   "source": [
    "# 3 Extra: Bootstrapping the Spot Curve\n",
    "\n",
    "\n",
    "## 3.1 \n",
    "Set up the cashflow matrix.\n",
    "* Consider using the function `calc_cashflows()` provided in the module `../cmds/treasury_cmds.py`.\n",
    "* Or even better, build a function yourself, accounting for semiannual coupons, the coupon rate, and the maturity date.\n",
    "\n",
    "You should end up with a matrix where each \n",
    "* row is a treasury issue\n",
    "* column is a payment date\n",
    "\n",
    "Report the first and last 5 rows of the cashflow matrix. (Simply `display` the dataframe.)\n",
    "\n",
    "## 3.2\n",
    "Filter the treasury issues such that you have only those with\n",
    "* maturity is within 5 years of the quote date\n",
    "* there are no issues with negative imputed YTM \n",
    "\n",
    "## 3.3\n",
    "Additionally, filter for identification.\n",
    "1. Eliminate any columns from the cashflow matrix that do not pay principal for some issue. (i.e. Columns where no cashflow is at least 100.) \n",
    "2. Eliminate any issue that paid a coupon on one of the eliminated dates.\n",
    "\n",
    "How many rows and columns is the filtered cashflow matrix?\n",
    "\n",
    "Report the first and last 5 rows of the filtered cashflow matrix. (Simply `display` the dataframe.)\n",
    "\n",
    "## 3.4\n",
    "Run an OLS estimation of issues prices on the cashflow matrix to extract the discount rates.\n",
    "\n",
    "Plot the discount rates.\n",
    "\n",
    "Plot the associated spot rate curve (continuously compounded)"
   ]
  }
 ],
 "metadata": {
  "hide_input": false,
  "kernelspec": {
   "display_name": "Python 3 (ipykernel)",
   "language": "python",
   "name": "python3"
  },
  "language_info": {
   "codemirror_mode": {
    "name": "ipython",
    "version": 3
   },
   "file_extension": ".py",
   "mimetype": "text/x-python",
   "name": "python",
   "nbconvert_exporter": "python",
   "pygments_lexer": "ipython3",
   "version": "3.9.7"
  }
 },
 "nbformat": 4,
 "nbformat_minor": 5
}
