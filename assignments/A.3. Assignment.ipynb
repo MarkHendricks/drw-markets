{
 "cells": [
  {
   "cell_type": "markdown",
   "id": "f7605588",
   "metadata": {},
   "source": [
    "# A.3. Assignment\n",
    "\n",
    "## Fixed Income Module\n",
    "\n",
    "### DRW New-Hire Learning Program\n",
    "\n",
    "#### Summer 2022\n",
    "\n",
    "Questions?\n",
    "* Contact: Mark Hendricks\n",
    "* hendricks@uchicago.edu\n",
    "\n",
    "\n",
    "### Instructions\n",
    "\n",
    "#### Work on this in your group.\n",
    "#### Don't spend more than 45 minutes on it during the 12-2pm break. (We want you to have time refresh and eat.)\n",
    "#### We encourage you to do more on the problems in the afternoon/evening if able and interested."
   ]
  },
  {
   "cell_type": "markdown",
   "id": "a6099802",
   "metadata": {},
   "source": [
    "# 1 Yield Curve Movements\n",
    "\n",
    "Use the yield curve time-series data in `'../data/yields.xlsx` to calculate the time-series of the **level**, **slope**, and curvature** factors.\n",
    "\n",
    "## 1.1\n",
    "\n",
    "Calculate the correlation matrix of the yields.\n",
    "\n",
    "How similar are the yields.\n",
    "\n",
    "## 1.2\n",
    "Calculate the yield-curve factors. For each point in time, calculate the following three factors:\n",
    "\n",
    "$\\begin{align}\n",
    "f^{\\text{level}}_t =& \\frac{1}{N_{\\text{yields}}}\\sum_{i=1}^{N_{\\text{yields}}} y^{(i)}_t\\\\\n",
    "f^{\\text{slope}}_t =& y^{(30)}_t - y^{(1)}_t\\\\\n",
    "f^{\\text{curvature}}_t =& -y^{(1)}_t + 2 y^{(10)}_t - y^{(30)}_t\n",
    "\\end{align}$\n",
    "\n",
    "Report the mean and volatility of each factor.\n",
    "\n",
    "Report the correlation matrix of the factors."
   ]
  },
  {
   "cell_type": "markdown",
   "id": "db1c8aea",
   "metadata": {},
   "source": [
    "# 2 Calculating Duration\n",
    "\n",
    "Use the data file `../data/treasury_quotes_2022-03-31.xlsx`.\n",
    "\n",
    "## 2.1 \n",
    "Set up the cashflow matrix. \n",
    "\n",
    "To do this, consider using the code in notebook A.3., for example. Or use your work from Assignment A.2., problem 3.\n",
    "\n",
    "## 2.2\n",
    "Build a discount curve assuming that the spot rate is 2\\% per year, continuously compounded.\n",
    "\n",
    "Plot the discount curve and the associated spot curve out to 30 years maturity.\n",
    "\n",
    "## 2.3\n",
    "For each treasury issue, calculate the duration as the weighted average of the (discounted!) cashflow maturity.\n",
    "\n",
    "Report the summary statistics of the durations. (Use `.describe()` from pandas.)\n",
    "\n",
    "\n",
    "## 2.4\n",
    "How close are your duration estimates to the imputed durations given in the data source, (column `TDDURATN`)?\n",
    "\n",
    "Report the summary statistics of the imputed durations minus your calculated durations from above.\n",
    "\n",
    "Why might they be different?\n",
    "\n",
    "## 2.5\n",
    "Re-do 2.2-2.3, but this time for calculating convexity."
   ]
  },
  {
   "cell_type": "markdown",
   "id": "56022773",
   "metadata": {},
   "source": [
    "# 3 Hedging Duration\n",
    "\n",
    "Import `treasury_ts_issue_duration_(207392, 207391, 207457).xlsx`.\n",
    "\n",
    "I suggest using code such as\n",
    "\n",
    "`tsdata = pd.read_excel(filepath_tsdata,sheet_name='ts')`\n",
    "\n",
    "`tsdata.columns = tsdata.columns.str.upper()`\n",
    "\n",
    "`px = tsdata.pivot_table(index='CALDT',columns='KYTREASNO',values='TDASK').dropna()`\n",
    "`duration = tsdata.pivot_table(index='CALDT',columns='KYTREASNO',values='TDDURATN').dropna()`\n",
    "\n",
    "## 3.1 \n",
    "\n",
    "Suppose you have a portfolio of 10,000 USD long in security `207391` on the last day of the sample.\n",
    "\n",
    "If you want to manage interest rate exposure using duration, how large of a short position should you hold in `207392`?\n",
    "\n",
    "(Duration is the column `TDDURATN` in the raw data.)\n",
    "\n",
    "## 3.2\n",
    "\n",
    "Step through the time-series, doing the following:\n",
    "\n",
    "* Starting at the end of the first day, set the hedged position according to the relative given durations.\n",
    "* Use the second day's price data to evaluate the net profit or loss of the hedged position.\n",
    "* Reset the the hedged position using the end-of-second-day durations. Again fix the long position of security `207391` to be 10,000.\n",
    "* Repeat throughout the timeseries.\n",
    "\n",
    "Report \n",
    "* the total profit (or loss.)\n",
    "* the mean, standard deviation, min, and max of the daily profit or loss."
   ]
  },
  {
   "cell_type": "markdown",
   "id": "d2d42d9e",
   "metadata": {},
   "source": [
    "# 4 Factor Duration\n",
    "\n",
    "Calculate the factor duration of the treasuries from `treasury_ts_issue_duration_(207392, 207391, 207457).xlsx`.\n",
    "\n",
    "Run a multivariate regression of the bond prices on all three factors constructed above from the yield factors: level, slope, and curvature. \n",
    "\n",
    "Estimate the regression in the form of day-over-day differences for both bond prices and factors. (ht Shreyas.)\n",
    "\n",
    "Report the betas for each of these factors, for each of the bond prices."
   ]
  },
  {
   "cell_type": "markdown",
   "id": "4615fd7e",
   "metadata": {},
   "source": [
    "***"
   ]
  },
  {
   "cell_type": "markdown",
   "id": "30eee18b",
   "metadata": {},
   "source": [
    "# Extra Problems\n",
    "\n",
    "## 1 Extracted Discount Curve\n",
    "\n",
    "Re-do the duration and convexity calculations of Problem 2, this time using an extracted discount curve instead of a discount curve based on a constant (arbitrary) spot rate. \n",
    "\n",
    "## 2 PCAs\n",
    "Re-do the factor duration of Problem 3 using PCA extracted factors instead of the ad-hoc factors.\n",
    "\n",
    "## 3 Hedging Factor Duration\n",
    "\n",
    "Explain how to build a factor-hedged position with these betas."
   ]
  }
 ],
 "metadata": {
  "hide_input": false,
  "kernelspec": {
   "display_name": "Python 3 (ipykernel)",
   "language": "python",
   "name": "python3"
  },
  "language_info": {
   "codemirror_mode": {
    "name": "ipython",
    "version": 3
   },
   "file_extension": ".py",
   "mimetype": "text/x-python",
   "name": "python",
   "nbconvert_exporter": "python",
   "pygments_lexer": "ipython3",
   "version": "3.9.7"
  }
 },
 "nbformat": 4,
 "nbformat_minor": 5
}
