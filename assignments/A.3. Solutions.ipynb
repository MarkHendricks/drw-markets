{
 "cells": [
  {
   "cell_type": "markdown",
   "id": "f7605588",
   "metadata": {
    "heading_collapsed": true
   },
   "source": [
    "# A.3. Solutions\n",
    "\n",
    "## Fixed Income Module\n",
    "\n",
    "### DRW New-Hire Learning Program\n",
    "\n",
    "#### Summer 2022\n",
    "\n",
    "Questions?\n",
    "* Contact: Mark Hendricks\n",
    "* hendricks@uchicago.edu\n",
    "\n",
    "\n",
    "### Instructions\n",
    "\n",
    "#### Work on this in your group.\n",
    "#### Don't spend more than 45 minutes on it during the 12-2pm break. (We want you to have time refresh and eat.)\n",
    "#### We encourage you to do more on the problems in the afternoon/evening if able and interested."
   ]
  },
  {
   "cell_type": "code",
   "execution_count": 1,
   "id": "86fcfcde",
   "metadata": {
    "hidden": true
   },
   "outputs": [],
   "source": [
    "import pandas as pd\n",
    "import numpy as np\n",
    "import datetime\n",
    "import warnings\n",
    "\n",
    "import matplotlib.pyplot as plt\n",
    "%matplotlib inline\n",
    "plt.rcParams['figure.figsize'] = (12,6)\n",
    "plt.rcParams['font.size'] = 15\n",
    "plt.rcParams['legend.fontsize'] = 13\n",
    "\n",
    "from matplotlib.ticker import (MultipleLocator,\n",
    "                               FormatStrFormatter,\n",
    "                               AutoMinorLocator)\n",
    "import sys\n",
    "sys.path.insert(0, '../cmds')\n",
    "from treasury_cmds import *"
   ]
  },
  {
   "cell_type": "markdown",
   "id": "358fb7aa",
   "metadata": {
    "heading_collapsed": true
   },
   "source": [
    "# 1 Yield Curve Movements"
   ]
  },
  {
   "cell_type": "markdown",
   "id": "a6099802",
   "metadata": {
    "hidden": true
   },
   "source": [
    "Use the yield curve time-series data in `'../data/yields.xlsx` to calculate the time-series of the **level**, **slope**, and curvature** factors.\n",
    "\n",
    "## 1.1\n",
    "\n",
    "Calculate the correlation matrix of the yields.\n",
    "\n",
    "How similar are the yields.\n",
    "\n",
    "## 1.2\n",
    "Calculate the yield-curve factors. For each point in time, calculate the following three factors:\n",
    "\n",
    "$\\begin{align}\n",
    "f^{\\text{level}}_t =& \\frac{1}{N_{\\text{yields}}}\\sum_{i=1}^{N_{\\text{yields}}} y^{(i)}_t\\\\\n",
    "f^{\\text{slope}}_t =& y^{(30)}_t - y^{(1)}_t\\\\\n",
    "f^{\\text{curvature}}_t =& -y^{(1)}_t + 2 y^{(10)}_t - y^{(30)}_t\n",
    "\\end{align}$\n",
    "\n",
    "Report the mean and volatility of each factor.\n",
    "\n",
    "Report the correlation matrix of the factors."
   ]
  },
  {
   "cell_type": "markdown",
   "id": "f4e51dcc",
   "metadata": {
    "heading_collapsed": true
   },
   "source": [
    "# <span style=\"color:red\">Solution 1</span>"
   ]
  },
  {
   "cell_type": "code",
   "execution_count": 2,
   "id": "7fa46530",
   "metadata": {
    "hidden": true
   },
   "outputs": [],
   "source": [
    "filepath = '../data/yields.xlsx'\n",
    "yields = pd.read_excel(filepath, sheet_name='yields')\n",
    "yields.set_index('caldt',inplace=True)\n",
    "\n",
    "shapes = pd.DataFrame(yields.mean(axis=1),columns=['level'])\n",
    "shapes['slope'] = yields[30]-yields[1]\n",
    "shapes['curvature'] = -yields[1] + 2 * yields[10] - yields[30]\n",
    "\n",
    "DATETHRESH = '2010-01-01'\n",
    "shapesT = shapes[shapes.index>DATETHRESH]"
   ]
  },
  {
   "cell_type": "markdown",
   "id": "860ab1ea",
   "metadata": {
    "hidden": true
   },
   "source": [
    "## 1.1"
   ]
  },
  {
   "cell_type": "code",
   "execution_count": 3,
   "id": "612d6340",
   "metadata": {
    "hidden": true
   },
   "outputs": [
    {
     "data": {
      "text/html": [
       "<div>\n",
       "<style scoped>\n",
       "    .dataframe tbody tr th:only-of-type {\n",
       "        vertical-align: middle;\n",
       "    }\n",
       "\n",
       "    .dataframe tbody tr th {\n",
       "        vertical-align: top;\n",
       "    }\n",
       "\n",
       "    .dataframe thead th {\n",
       "        text-align: right;\n",
       "    }\n",
       "</style>\n",
       "<table border=\"1\" class=\"dataframe\">\n",
       "  <thead>\n",
       "    <tr style=\"text-align: right;\">\n",
       "      <th></th>\n",
       "      <th>1</th>\n",
       "      <th>2</th>\n",
       "      <th>5</th>\n",
       "      <th>7</th>\n",
       "      <th>10</th>\n",
       "      <th>20</th>\n",
       "      <th>30</th>\n",
       "    </tr>\n",
       "  </thead>\n",
       "  <tbody>\n",
       "    <tr>\n",
       "      <th>1</th>\n",
       "      <td>1.000000</td>\n",
       "      <td>0.994962</td>\n",
       "      <td>0.974130</td>\n",
       "      <td>0.961685</td>\n",
       "      <td>0.949029</td>\n",
       "      <td>0.913275</td>\n",
       "      <td>0.901515</td>\n",
       "    </tr>\n",
       "    <tr>\n",
       "      <th>2</th>\n",
       "      <td>0.994962</td>\n",
       "      <td>1.000000</td>\n",
       "      <td>0.989876</td>\n",
       "      <td>0.980856</td>\n",
       "      <td>0.969785</td>\n",
       "      <td>0.936723</td>\n",
       "      <td>0.926286</td>\n",
       "    </tr>\n",
       "    <tr>\n",
       "      <th>5</th>\n",
       "      <td>0.974130</td>\n",
       "      <td>0.989876</td>\n",
       "      <td>1.000000</td>\n",
       "      <td>0.997698</td>\n",
       "      <td>0.992238</td>\n",
       "      <td>0.968261</td>\n",
       "      <td>0.960583</td>\n",
       "    </tr>\n",
       "    <tr>\n",
       "      <th>7</th>\n",
       "      <td>0.961685</td>\n",
       "      <td>0.980856</td>\n",
       "      <td>0.997698</td>\n",
       "      <td>1.000000</td>\n",
       "      <td>0.996734</td>\n",
       "      <td>0.977498</td>\n",
       "      <td>0.971186</td>\n",
       "    </tr>\n",
       "    <tr>\n",
       "      <th>10</th>\n",
       "      <td>0.949029</td>\n",
       "      <td>0.969785</td>\n",
       "      <td>0.992238</td>\n",
       "      <td>0.996734</td>\n",
       "      <td>1.000000</td>\n",
       "      <td>0.984949</td>\n",
       "      <td>0.980059</td>\n",
       "    </tr>\n",
       "    <tr>\n",
       "      <th>20</th>\n",
       "      <td>0.913275</td>\n",
       "      <td>0.936723</td>\n",
       "      <td>0.968261</td>\n",
       "      <td>0.977498</td>\n",
       "      <td>0.984949</td>\n",
       "      <td>1.000000</td>\n",
       "      <td>0.996413</td>\n",
       "    </tr>\n",
       "    <tr>\n",
       "      <th>30</th>\n",
       "      <td>0.901515</td>\n",
       "      <td>0.926286</td>\n",
       "      <td>0.960583</td>\n",
       "      <td>0.971186</td>\n",
       "      <td>0.980059</td>\n",
       "      <td>0.996413</td>\n",
       "      <td>1.000000</td>\n",
       "    </tr>\n",
       "  </tbody>\n",
       "</table>\n",
       "</div>"
      ],
      "text/plain": [
       "           1         2         5         7        10        20        30\n",
       "1   1.000000  0.994962  0.974130  0.961685  0.949029  0.913275  0.901515\n",
       "2   0.994962  1.000000  0.989876  0.980856  0.969785  0.936723  0.926286\n",
       "5   0.974130  0.989876  1.000000  0.997698  0.992238  0.968261  0.960583\n",
       "7   0.961685  0.980856  0.997698  1.000000  0.996734  0.977498  0.971186\n",
       "10  0.949029  0.969785  0.992238  0.996734  1.000000  0.984949  0.980059\n",
       "20  0.913275  0.936723  0.968261  0.977498  0.984949  1.000000  0.996413\n",
       "30  0.901515  0.926286  0.960583  0.971186  0.980059  0.996413  1.000000"
      ]
     },
     "execution_count": 3,
     "metadata": {},
     "output_type": "execute_result"
    }
   ],
   "source": [
    "yields.corr()"
   ]
  },
  {
   "cell_type": "markdown",
   "id": "00d1817b",
   "metadata": {
    "hidden": true
   },
   "source": [
    "### since 2010"
   ]
  },
  {
   "cell_type": "code",
   "execution_count": 4,
   "id": "d34fda8b",
   "metadata": {
    "hidden": true
   },
   "outputs": [
    {
     "data": {
      "text/html": [
       "<div>\n",
       "<style scoped>\n",
       "    .dataframe tbody tr th:only-of-type {\n",
       "        vertical-align: middle;\n",
       "    }\n",
       "\n",
       "    .dataframe tbody tr th {\n",
       "        vertical-align: top;\n",
       "    }\n",
       "\n",
       "    .dataframe thead th {\n",
       "        text-align: right;\n",
       "    }\n",
       "</style>\n",
       "<table border=\"1\" class=\"dataframe\">\n",
       "  <thead>\n",
       "    <tr style=\"text-align: right;\">\n",
       "      <th></th>\n",
       "      <th>1</th>\n",
       "      <th>2</th>\n",
       "      <th>5</th>\n",
       "      <th>7</th>\n",
       "      <th>10</th>\n",
       "      <th>20</th>\n",
       "      <th>30</th>\n",
       "    </tr>\n",
       "  </thead>\n",
       "  <tbody>\n",
       "    <tr>\n",
       "      <th>1</th>\n",
       "      <td>1.000000</td>\n",
       "      <td>0.980266</td>\n",
       "      <td>0.720742</td>\n",
       "      <td>0.513149</td>\n",
       "      <td>0.291916</td>\n",
       "      <td>-0.004610</td>\n",
       "      <td>-0.048813</td>\n",
       "    </tr>\n",
       "    <tr>\n",
       "      <th>2</th>\n",
       "      <td>0.980266</td>\n",
       "      <td>1.000000</td>\n",
       "      <td>0.821679</td>\n",
       "      <td>0.630086</td>\n",
       "      <td>0.404599</td>\n",
       "      <td>0.093160</td>\n",
       "      <td>0.042684</td>\n",
       "    </tr>\n",
       "    <tr>\n",
       "      <th>5</th>\n",
       "      <td>0.720742</td>\n",
       "      <td>0.821679</td>\n",
       "      <td>1.000000</td>\n",
       "      <td>0.953910</td>\n",
       "      <td>0.820876</td>\n",
       "      <td>0.565862</td>\n",
       "      <td>0.521074</td>\n",
       "    </tr>\n",
       "    <tr>\n",
       "      <th>7</th>\n",
       "      <td>0.513149</td>\n",
       "      <td>0.630086</td>\n",
       "      <td>0.953910</td>\n",
       "      <td>1.000000</td>\n",
       "      <td>0.950845</td>\n",
       "      <td>0.775949</td>\n",
       "      <td>0.741549</td>\n",
       "    </tr>\n",
       "    <tr>\n",
       "      <th>10</th>\n",
       "      <td>0.291916</td>\n",
       "      <td>0.404599</td>\n",
       "      <td>0.820876</td>\n",
       "      <td>0.950845</td>\n",
       "      <td>1.000000</td>\n",
       "      <td>0.930089</td>\n",
       "      <td>0.908083</td>\n",
       "    </tr>\n",
       "    <tr>\n",
       "      <th>20</th>\n",
       "      <td>-0.004610</td>\n",
       "      <td>0.093160</td>\n",
       "      <td>0.565862</td>\n",
       "      <td>0.775949</td>\n",
       "      <td>0.930089</td>\n",
       "      <td>1.000000</td>\n",
       "      <td>0.991830</td>\n",
       "    </tr>\n",
       "    <tr>\n",
       "      <th>30</th>\n",
       "      <td>-0.048813</td>\n",
       "      <td>0.042684</td>\n",
       "      <td>0.521074</td>\n",
       "      <td>0.741549</td>\n",
       "      <td>0.908083</td>\n",
       "      <td>0.991830</td>\n",
       "      <td>1.000000</td>\n",
       "    </tr>\n",
       "  </tbody>\n",
       "</table>\n",
       "</div>"
      ],
      "text/plain": [
       "           1         2         5         7        10        20        30\n",
       "1   1.000000  0.980266  0.720742  0.513149  0.291916 -0.004610 -0.048813\n",
       "2   0.980266  1.000000  0.821679  0.630086  0.404599  0.093160  0.042684\n",
       "5   0.720742  0.821679  1.000000  0.953910  0.820876  0.565862  0.521074\n",
       "7   0.513149  0.630086  0.953910  1.000000  0.950845  0.775949  0.741549\n",
       "10  0.291916  0.404599  0.820876  0.950845  1.000000  0.930089  0.908083\n",
       "20 -0.004610  0.093160  0.565862  0.775949  0.930089  1.000000  0.991830\n",
       "30 -0.048813  0.042684  0.521074  0.741549  0.908083  0.991830  1.000000"
      ]
     },
     "execution_count": 4,
     "metadata": {},
     "output_type": "execute_result"
    }
   ],
   "source": [
    "yields.loc['2010':,:].corr()"
   ]
  },
  {
   "cell_type": "markdown",
   "id": "93fa89e2",
   "metadata": {
    "hidden": true
   },
   "source": [
    "## 1.2"
   ]
  },
  {
   "cell_type": "code",
   "execution_count": 5,
   "id": "f8670f8e",
   "metadata": {
    "hidden": true
   },
   "outputs": [
    {
     "data": {
      "text/html": [
       "<div>\n",
       "<style scoped>\n",
       "    .dataframe tbody tr th:only-of-type {\n",
       "        vertical-align: middle;\n",
       "    }\n",
       "\n",
       "    .dataframe tbody tr th {\n",
       "        vertical-align: top;\n",
       "    }\n",
       "\n",
       "    .dataframe thead th {\n",
       "        text-align: right;\n",
       "    }\n",
       "</style>\n",
       "<table border=\"1\" class=\"dataframe\">\n",
       "  <thead>\n",
       "    <tr style=\"text-align: right;\">\n",
       "      <th></th>\n",
       "      <th>level</th>\n",
       "      <th>slope</th>\n",
       "      <th>curvature</th>\n",
       "    </tr>\n",
       "  </thead>\n",
       "  <tbody>\n",
       "    <tr>\n",
       "      <th>count</th>\n",
       "      <td>15180.000000</td>\n",
       "      <td>15180.000000</td>\n",
       "      <td>15180.000000</td>\n",
       "    </tr>\n",
       "    <tr>\n",
       "      <th>mean</th>\n",
       "      <td>5.528077</td>\n",
       "      <td>1.169398</td>\n",
       "      <td>0.724851</td>\n",
       "    </tr>\n",
       "    <tr>\n",
       "      <th>std</th>\n",
       "      <td>2.950428</td>\n",
       "      <td>1.467322</td>\n",
       "      <td>0.939915</td>\n",
       "    </tr>\n",
       "    <tr>\n",
       "      <th>min</th>\n",
       "      <td>0.487603</td>\n",
       "      <td>-3.490292</td>\n",
       "      <td>-5.426753</td>\n",
       "    </tr>\n",
       "    <tr>\n",
       "      <th>25%</th>\n",
       "      <td>3.424308</td>\n",
       "      <td>0.079310</td>\n",
       "      <td>0.155082</td>\n",
       "    </tr>\n",
       "    <tr>\n",
       "      <th>50%</th>\n",
       "      <td>5.316840</td>\n",
       "      <td>1.066434</td>\n",
       "      <td>0.653781</td>\n",
       "    </tr>\n",
       "    <tr>\n",
       "      <th>75%</th>\n",
       "      <td>7.242041</td>\n",
       "      <td>2.172488</td>\n",
       "      <td>1.366707</td>\n",
       "    </tr>\n",
       "    <tr>\n",
       "      <th>max</th>\n",
       "      <td>15.259628</td>\n",
       "      <td>4.358273</td>\n",
       "      <td>3.283792</td>\n",
       "    </tr>\n",
       "  </tbody>\n",
       "</table>\n",
       "</div>"
      ],
      "text/plain": [
       "              level         slope     curvature\n",
       "count  15180.000000  15180.000000  15180.000000\n",
       "mean       5.528077      1.169398      0.724851\n",
       "std        2.950428      1.467322      0.939915\n",
       "min        0.487603     -3.490292     -5.426753\n",
       "25%        3.424308      0.079310      0.155082\n",
       "50%        5.316840      1.066434      0.653781\n",
       "75%        7.242041      2.172488      1.366707\n",
       "max       15.259628      4.358273      3.283792"
      ]
     },
     "execution_count": 5,
     "metadata": {},
     "output_type": "execute_result"
    }
   ],
   "source": [
    "shapes.describe()"
   ]
  },
  {
   "cell_type": "code",
   "execution_count": 6,
   "id": "9b220080",
   "metadata": {
    "hidden": true
   },
   "outputs": [
    {
     "data": {
      "text/html": [
       "<div>\n",
       "<style scoped>\n",
       "    .dataframe tbody tr th:only-of-type {\n",
       "        vertical-align: middle;\n",
       "    }\n",
       "\n",
       "    .dataframe tbody tr th {\n",
       "        vertical-align: top;\n",
       "    }\n",
       "\n",
       "    .dataframe thead th {\n",
       "        text-align: right;\n",
       "    }\n",
       "</style>\n",
       "<table border=\"1\" class=\"dataframe\">\n",
       "  <thead>\n",
       "    <tr style=\"text-align: right;\">\n",
       "      <th></th>\n",
       "      <th>level</th>\n",
       "      <th>slope</th>\n",
       "      <th>curvature</th>\n",
       "    </tr>\n",
       "  </thead>\n",
       "  <tbody>\n",
       "    <tr>\n",
       "      <th>level</th>\n",
       "      <td>1.000000</td>\n",
       "      <td>-0.407054</td>\n",
       "      <td>-0.205379</td>\n",
       "    </tr>\n",
       "    <tr>\n",
       "      <th>slope</th>\n",
       "      <td>-0.407054</td>\n",
       "      <td>1.000000</td>\n",
       "      <td>0.623922</td>\n",
       "    </tr>\n",
       "    <tr>\n",
       "      <th>curvature</th>\n",
       "      <td>-0.205379</td>\n",
       "      <td>0.623922</td>\n",
       "      <td>1.000000</td>\n",
       "    </tr>\n",
       "  </tbody>\n",
       "</table>\n",
       "</div>"
      ],
      "text/plain": [
       "              level     slope  curvature\n",
       "level      1.000000 -0.407054  -0.205379\n",
       "slope     -0.407054  1.000000   0.623922\n",
       "curvature -0.205379  0.623922   1.000000"
      ]
     },
     "execution_count": 6,
     "metadata": {},
     "output_type": "execute_result"
    }
   ],
   "source": [
    "shapes.corr()"
   ]
  },
  {
   "cell_type": "markdown",
   "id": "edc175ae",
   "metadata": {
    "hidden": true
   },
   "source": [
    "### since 2010"
   ]
  },
  {
   "cell_type": "code",
   "execution_count": 7,
   "id": "c127907f",
   "metadata": {
    "hidden": true
   },
   "outputs": [
    {
     "data": {
      "text/html": [
       "<div>\n",
       "<style scoped>\n",
       "    .dataframe tbody tr th:only-of-type {\n",
       "        vertical-align: middle;\n",
       "    }\n",
       "\n",
       "    .dataframe tbody tr th {\n",
       "        vertical-align: top;\n",
       "    }\n",
       "\n",
       "    .dataframe thead th {\n",
       "        text-align: right;\n",
       "    }\n",
       "</style>\n",
       "<table border=\"1\" class=\"dataframe\">\n",
       "  <thead>\n",
       "    <tr style=\"text-align: right;\">\n",
       "      <th></th>\n",
       "      <th>level</th>\n",
       "      <th>slope</th>\n",
       "      <th>curvature</th>\n",
       "    </tr>\n",
       "  </thead>\n",
       "  <tbody>\n",
       "    <tr>\n",
       "      <th>count</th>\n",
       "      <td>3066.000000</td>\n",
       "      <td>3066.000000</td>\n",
       "      <td>3066.000000</td>\n",
       "    </tr>\n",
       "    <tr>\n",
       "      <th>mean</th>\n",
       "      <td>1.804177</td>\n",
       "      <td>2.221985</td>\n",
       "      <td>0.676974</td>\n",
       "    </tr>\n",
       "    <tr>\n",
       "      <th>std</th>\n",
       "      <td>0.578169</td>\n",
       "      <td>1.106769</td>\n",
       "      <td>0.702214</td>\n",
       "    </tr>\n",
       "    <tr>\n",
       "      <th>min</th>\n",
       "      <td>0.487603</td>\n",
       "      <td>0.145997</td>\n",
       "      <td>-0.785336</td>\n",
       "    </tr>\n",
       "    <tr>\n",
       "      <th>25%</th>\n",
       "      <td>1.427390</td>\n",
       "      <td>1.341848</td>\n",
       "      <td>0.203418</td>\n",
       "    </tr>\n",
       "    <tr>\n",
       "      <th>50%</th>\n",
       "      <td>1.823780</td>\n",
       "      <td>2.195635</td>\n",
       "      <td>0.571290</td>\n",
       "    </tr>\n",
       "    <tr>\n",
       "      <th>75%</th>\n",
       "      <td>2.131303</td>\n",
       "      <td>3.055193</td>\n",
       "      <td>1.142432</td>\n",
       "    </tr>\n",
       "    <tr>\n",
       "      <th>max</th>\n",
       "      <td>3.121686</td>\n",
       "      <td>4.358273</td>\n",
       "      <td>2.612146</td>\n",
       "    </tr>\n",
       "  </tbody>\n",
       "</table>\n",
       "</div>"
      ],
      "text/plain": [
       "             level        slope    curvature\n",
       "count  3066.000000  3066.000000  3066.000000\n",
       "mean      1.804177     2.221985     0.676974\n",
       "std       0.578169     1.106769     0.702214\n",
       "min       0.487603     0.145997    -0.785336\n",
       "25%       1.427390     1.341848     0.203418\n",
       "50%       1.823780     2.195635     0.571290\n",
       "75%       2.131303     3.055193     1.142432\n",
       "max       3.121686     4.358273     2.612146"
      ]
     },
     "execution_count": 7,
     "metadata": {},
     "output_type": "execute_result"
    }
   ],
   "source": [
    "shapesT.describe()"
   ]
  },
  {
   "cell_type": "code",
   "execution_count": 8,
   "id": "6b6f50ec",
   "metadata": {
    "hidden": true
   },
   "outputs": [
    {
     "data": {
      "text/html": [
       "<div>\n",
       "<style scoped>\n",
       "    .dataframe tbody tr th:only-of-type {\n",
       "        vertical-align: middle;\n",
       "    }\n",
       "\n",
       "    .dataframe tbody tr th {\n",
       "        vertical-align: top;\n",
       "    }\n",
       "\n",
       "    .dataframe thead th {\n",
       "        text-align: right;\n",
       "    }\n",
       "</style>\n",
       "<table border=\"1\" class=\"dataframe\">\n",
       "  <thead>\n",
       "    <tr style=\"text-align: right;\">\n",
       "      <th></th>\n",
       "      <th>level</th>\n",
       "      <th>slope</th>\n",
       "      <th>curvature</th>\n",
       "    </tr>\n",
       "  </thead>\n",
       "  <tbody>\n",
       "    <tr>\n",
       "      <th>level</th>\n",
       "      <td>1.000000</td>\n",
       "      <td>0.088345</td>\n",
       "      <td>0.388268</td>\n",
       "    </tr>\n",
       "    <tr>\n",
       "      <th>slope</th>\n",
       "      <td>0.088345</td>\n",
       "      <td>1.000000</td>\n",
       "      <td>0.841944</td>\n",
       "    </tr>\n",
       "    <tr>\n",
       "      <th>curvature</th>\n",
       "      <td>0.388268</td>\n",
       "      <td>0.841944</td>\n",
       "      <td>1.000000</td>\n",
       "    </tr>\n",
       "  </tbody>\n",
       "</table>\n",
       "</div>"
      ],
      "text/plain": [
       "              level     slope  curvature\n",
       "level      1.000000  0.088345   0.388268\n",
       "slope      0.088345  1.000000   0.841944\n",
       "curvature  0.388268  0.841944   1.000000"
      ]
     },
     "execution_count": 8,
     "metadata": {},
     "output_type": "execute_result"
    }
   ],
   "source": [
    "shapesT.corr()"
   ]
  },
  {
   "cell_type": "markdown",
   "id": "78a91c5d",
   "metadata": {
    "heading_collapsed": true
   },
   "source": [
    "# 2 Calculating Duration"
   ]
  },
  {
   "cell_type": "markdown",
   "id": "db1c8aea",
   "metadata": {
    "hidden": true
   },
   "source": [
    "Use the data file `../data/treasury_quotes_2022-03-31.xlsx`.\n",
    "\n",
    "This data reports duration as `TDDURATN`. It quotes the duration in days, so I recommend dividing by 365 to get the duration in its usual format.\n",
    "\n",
    "## 2.1 \n",
    "Set up the cashflow matrix. \n",
    "\n",
    "To do this, consider using the code in notebook A.3., for example. Or use your work from Assignment A.2., problem 3.\n",
    "\n",
    "## 2.2\n",
    "Build a discount curve assuming that the spot rate is 2\\% per year, continuously compounded.\n",
    "\n",
    "Plot the discount curve and the associated spot curve out to 30 years maturity.\n",
    "\n",
    "## 2.3\n",
    "For each treasury issue, calculate the duration as the weighted average of the (discounted!) cashflow maturity.\n",
    "\n",
    "Report the summary statistics of the durations. (Use `.describe()` from pandas.)\n",
    "\n",
    "\n",
    "## 2.4\n",
    "How close are your duration estimates to the imputed durations given in the data source, (column `TDDURATN`)?\n",
    "\n",
    "Report the summary statistics of the imputed durations minus your calculated durations from above.\n",
    "\n",
    "Why might they be different?\n",
    "\n",
    "## 2.5\n",
    "Re-do 2.2-2.3, but this time for calculating convexity."
   ]
  },
  {
   "cell_type": "markdown",
   "id": "c51177ac",
   "metadata": {
    "heading_collapsed": true
   },
   "source": [
    "# <span style=\"color:red\">Solution 2</span>"
   ]
  },
  {
   "cell_type": "markdown",
   "id": "55c89e83",
   "metadata": {
    "hidden": true
   },
   "source": [
    "## 2.1"
   ]
  },
  {
   "cell_type": "code",
   "execution_count": 9,
   "id": "f460fad0",
   "metadata": {
    "hidden": true
   },
   "outputs": [
    {
     "data": {
      "text/plain": [
       "'Treasuries quoted on 2022-03-31.'"
      ]
     },
     "metadata": {},
     "output_type": "display_data"
    }
   ],
   "source": [
    "QUOTE_DATE = '2022-03-31'\n",
    "filepath_rawdata = f'../data/treasury_quotes_{QUOTE_DATE}.xlsx'\n",
    "rawdata = pd.read_excel(filepath_rawdata,sheet_name='quotes')\n",
    "rawdata.columns = rawdata.columns.str.upper()\n",
    "rawdata.sort_values('TMATDT',inplace=True)\n",
    "rawdata.set_index('KYTREASNO',inplace=True)\n",
    "\n",
    "t_check = rawdata['CALDT'].values[0]\n",
    "if rawdata['CALDT'].eq(t_check).all():\n",
    "    t_current = t_check\n",
    "else:\n",
    "    warnings.warn('Quotes are from multiple dates.')\n",
    "    t_current = None\n",
    "\n",
    "rawprices = (rawdata['TDBID'] + rawdata['TDASK'])/2 + rawdata['TDACCINT']\n",
    "rawprices.name = 'price'\n",
    "\n",
    "maturity_delta = get_maturity_delta(rawdata['TMATDT'],t_current)\n",
    "maturity_delta.name = 'maturity delta'\n",
    "display(f'Treasuries quoted on {QUOTE_DATE}.')"
   ]
  },
  {
   "cell_type": "code",
   "execution_count": 10,
   "id": "db40b866",
   "metadata": {
    "hidden": true
   },
   "outputs": [
    {
     "data": {
      "text/html": [
       "<div>\n",
       "<style scoped>\n",
       "    .dataframe tbody tr th:only-of-type {\n",
       "        vertical-align: middle;\n",
       "    }\n",
       "\n",
       "    .dataframe tbody tr th {\n",
       "        vertical-align: top;\n",
       "    }\n",
       "\n",
       "    .dataframe thead th {\n",
       "        text-align: right;\n",
       "    }\n",
       "</style>\n",
       "<table border=\"1\" class=\"dataframe\">\n",
       "  <thead>\n",
       "    <tr style=\"text-align: right;\">\n",
       "      <th></th>\n",
       "      <th>2022-04-05</th>\n",
       "      <th>2022-04-07</th>\n",
       "      <th>2022-04-12</th>\n",
       "      <th>2022-04-14</th>\n",
       "      <th>2022-04-15</th>\n",
       "      <th>2022-04-19</th>\n",
       "      <th>2022-04-21</th>\n",
       "      <th>2022-04-26</th>\n",
       "      <th>2022-04-28</th>\n",
       "      <th>2022-04-30</th>\n",
       "      <th>...</th>\n",
       "      <th>2049-11-15</th>\n",
       "      <th>2050-02-15</th>\n",
       "      <th>2050-05-15</th>\n",
       "      <th>2050-08-15</th>\n",
       "      <th>2050-11-15</th>\n",
       "      <th>2051-02-15</th>\n",
       "      <th>2051-05-15</th>\n",
       "      <th>2051-08-15</th>\n",
       "      <th>2051-11-15</th>\n",
       "      <th>2052-02-15</th>\n",
       "    </tr>\n",
       "    <tr>\n",
       "      <th>KYTREASNO</th>\n",
       "      <th></th>\n",
       "      <th></th>\n",
       "      <th></th>\n",
       "      <th></th>\n",
       "      <th></th>\n",
       "      <th></th>\n",
       "      <th></th>\n",
       "      <th></th>\n",
       "      <th></th>\n",
       "      <th></th>\n",
       "      <th></th>\n",
       "      <th></th>\n",
       "      <th></th>\n",
       "      <th></th>\n",
       "      <th></th>\n",
       "      <th></th>\n",
       "      <th></th>\n",
       "      <th></th>\n",
       "      <th></th>\n",
       "      <th></th>\n",
       "      <th></th>\n",
       "    </tr>\n",
       "  </thead>\n",
       "  <tbody>\n",
       "    <tr>\n",
       "      <th>207809</th>\n",
       "      <td>100</td>\n",
       "      <td>0</td>\n",
       "      <td>0</td>\n",
       "      <td>0</td>\n",
       "      <td>0.000</td>\n",
       "      <td>0</td>\n",
       "      <td>0</td>\n",
       "      <td>0</td>\n",
       "      <td>0</td>\n",
       "      <td>0.0</td>\n",
       "      <td>...</td>\n",
       "      <td>0.0000</td>\n",
       "      <td>0.0000</td>\n",
       "      <td>0.0000</td>\n",
       "      <td>0.0000</td>\n",
       "      <td>0.0000</td>\n",
       "      <td>0.0000</td>\n",
       "      <td>0.0000</td>\n",
       "      <td>0.000</td>\n",
       "      <td>0.0000</td>\n",
       "      <td>0.000</td>\n",
       "    </tr>\n",
       "    <tr>\n",
       "      <th>207772</th>\n",
       "      <td>0</td>\n",
       "      <td>100</td>\n",
       "      <td>0</td>\n",
       "      <td>0</td>\n",
       "      <td>0.000</td>\n",
       "      <td>0</td>\n",
       "      <td>0</td>\n",
       "      <td>0</td>\n",
       "      <td>0</td>\n",
       "      <td>0.0</td>\n",
       "      <td>...</td>\n",
       "      <td>0.0000</td>\n",
       "      <td>0.0000</td>\n",
       "      <td>0.0000</td>\n",
       "      <td>0.0000</td>\n",
       "      <td>0.0000</td>\n",
       "      <td>0.0000</td>\n",
       "      <td>0.0000</td>\n",
       "      <td>0.000</td>\n",
       "      <td>0.0000</td>\n",
       "      <td>0.000</td>\n",
       "    </tr>\n",
       "    <tr>\n",
       "      <th>207810</th>\n",
       "      <td>0</td>\n",
       "      <td>0</td>\n",
       "      <td>100</td>\n",
       "      <td>0</td>\n",
       "      <td>0.000</td>\n",
       "      <td>0</td>\n",
       "      <td>0</td>\n",
       "      <td>0</td>\n",
       "      <td>0</td>\n",
       "      <td>0.0</td>\n",
       "      <td>...</td>\n",
       "      <td>0.0000</td>\n",
       "      <td>0.0000</td>\n",
       "      <td>0.0000</td>\n",
       "      <td>0.0000</td>\n",
       "      <td>0.0000</td>\n",
       "      <td>0.0000</td>\n",
       "      <td>0.0000</td>\n",
       "      <td>0.000</td>\n",
       "      <td>0.0000</td>\n",
       "      <td>0.000</td>\n",
       "    </tr>\n",
       "    <tr>\n",
       "      <th>207784</th>\n",
       "      <td>0</td>\n",
       "      <td>0</td>\n",
       "      <td>0</td>\n",
       "      <td>100</td>\n",
       "      <td>0.000</td>\n",
       "      <td>0</td>\n",
       "      <td>0</td>\n",
       "      <td>0</td>\n",
       "      <td>0</td>\n",
       "      <td>0.0</td>\n",
       "      <td>...</td>\n",
       "      <td>0.0000</td>\n",
       "      <td>0.0000</td>\n",
       "      <td>0.0000</td>\n",
       "      <td>0.0000</td>\n",
       "      <td>0.0000</td>\n",
       "      <td>0.0000</td>\n",
       "      <td>0.0000</td>\n",
       "      <td>0.000</td>\n",
       "      <td>0.0000</td>\n",
       "      <td>0.000</td>\n",
       "    </tr>\n",
       "    <tr>\n",
       "      <th>207347</th>\n",
       "      <td>0</td>\n",
       "      <td>0</td>\n",
       "      <td>0</td>\n",
       "      <td>0</td>\n",
       "      <td>101.125</td>\n",
       "      <td>0</td>\n",
       "      <td>0</td>\n",
       "      <td>0</td>\n",
       "      <td>0</td>\n",
       "      <td>0.0</td>\n",
       "      <td>...</td>\n",
       "      <td>0.0000</td>\n",
       "      <td>0.0000</td>\n",
       "      <td>0.0000</td>\n",
       "      <td>0.0000</td>\n",
       "      <td>0.0000</td>\n",
       "      <td>0.0000</td>\n",
       "      <td>0.0000</td>\n",
       "      <td>0.000</td>\n",
       "      <td>0.0000</td>\n",
       "      <td>0.000</td>\n",
       "    </tr>\n",
       "    <tr>\n",
       "      <th>...</th>\n",
       "      <td>...</td>\n",
       "      <td>...</td>\n",
       "      <td>...</td>\n",
       "      <td>...</td>\n",
       "      <td>...</td>\n",
       "      <td>...</td>\n",
       "      <td>...</td>\n",
       "      <td>...</td>\n",
       "      <td>...</td>\n",
       "      <td>...</td>\n",
       "      <td>...</td>\n",
       "      <td>...</td>\n",
       "      <td>...</td>\n",
       "      <td>...</td>\n",
       "      <td>...</td>\n",
       "      <td>...</td>\n",
       "      <td>...</td>\n",
       "      <td>...</td>\n",
       "      <td>...</td>\n",
       "      <td>...</td>\n",
       "      <td>...</td>\n",
       "    </tr>\n",
       "    <tr>\n",
       "      <th>207680</th>\n",
       "      <td>0</td>\n",
       "      <td>0</td>\n",
       "      <td>0</td>\n",
       "      <td>0</td>\n",
       "      <td>0.000</td>\n",
       "      <td>0</td>\n",
       "      <td>0</td>\n",
       "      <td>0</td>\n",
       "      <td>0</td>\n",
       "      <td>0.0</td>\n",
       "      <td>...</td>\n",
       "      <td>0.0000</td>\n",
       "      <td>0.9375</td>\n",
       "      <td>0.0000</td>\n",
       "      <td>0.9375</td>\n",
       "      <td>0.0000</td>\n",
       "      <td>100.9375</td>\n",
       "      <td>0.0000</td>\n",
       "      <td>0.000</td>\n",
       "      <td>0.0000</td>\n",
       "      <td>0.000</td>\n",
       "    </tr>\n",
       "    <tr>\n",
       "      <th>207719</th>\n",
       "      <td>0</td>\n",
       "      <td>0</td>\n",
       "      <td>0</td>\n",
       "      <td>0</td>\n",
       "      <td>0.000</td>\n",
       "      <td>0</td>\n",
       "      <td>0</td>\n",
       "      <td>0</td>\n",
       "      <td>0</td>\n",
       "      <td>0.0</td>\n",
       "      <td>...</td>\n",
       "      <td>1.1875</td>\n",
       "      <td>0.0000</td>\n",
       "      <td>1.1875</td>\n",
       "      <td>0.0000</td>\n",
       "      <td>1.1875</td>\n",
       "      <td>0.0000</td>\n",
       "      <td>101.1875</td>\n",
       "      <td>0.000</td>\n",
       "      <td>0.0000</td>\n",
       "      <td>0.000</td>\n",
       "    </tr>\n",
       "    <tr>\n",
       "      <th>207763</th>\n",
       "      <td>0</td>\n",
       "      <td>0</td>\n",
       "      <td>0</td>\n",
       "      <td>0</td>\n",
       "      <td>0.000</td>\n",
       "      <td>0</td>\n",
       "      <td>0</td>\n",
       "      <td>0</td>\n",
       "      <td>0</td>\n",
       "      <td>0.0</td>\n",
       "      <td>...</td>\n",
       "      <td>0.0000</td>\n",
       "      <td>1.0000</td>\n",
       "      <td>0.0000</td>\n",
       "      <td>1.0000</td>\n",
       "      <td>0.0000</td>\n",
       "      <td>1.0000</td>\n",
       "      <td>0.0000</td>\n",
       "      <td>101.000</td>\n",
       "      <td>0.0000</td>\n",
       "      <td>0.000</td>\n",
       "    </tr>\n",
       "    <tr>\n",
       "      <th>207808</th>\n",
       "      <td>0</td>\n",
       "      <td>0</td>\n",
       "      <td>0</td>\n",
       "      <td>0</td>\n",
       "      <td>0.000</td>\n",
       "      <td>0</td>\n",
       "      <td>0</td>\n",
       "      <td>0</td>\n",
       "      <td>0</td>\n",
       "      <td>0.0</td>\n",
       "      <td>...</td>\n",
       "      <td>0.9375</td>\n",
       "      <td>0.0000</td>\n",
       "      <td>0.9375</td>\n",
       "      <td>0.0000</td>\n",
       "      <td>0.9375</td>\n",
       "      <td>0.0000</td>\n",
       "      <td>0.9375</td>\n",
       "      <td>0.000</td>\n",
       "      <td>100.9375</td>\n",
       "      <td>0.000</td>\n",
       "    </tr>\n",
       "    <tr>\n",
       "      <th>207849</th>\n",
       "      <td>0</td>\n",
       "      <td>0</td>\n",
       "      <td>0</td>\n",
       "      <td>0</td>\n",
       "      <td>0.000</td>\n",
       "      <td>0</td>\n",
       "      <td>0</td>\n",
       "      <td>0</td>\n",
       "      <td>0</td>\n",
       "      <td>0.0</td>\n",
       "      <td>...</td>\n",
       "      <td>0.0000</td>\n",
       "      <td>1.1250</td>\n",
       "      <td>0.0000</td>\n",
       "      <td>1.1250</td>\n",
       "      <td>0.0000</td>\n",
       "      <td>1.1250</td>\n",
       "      <td>0.0000</td>\n",
       "      <td>1.125</td>\n",
       "      <td>0.0000</td>\n",
       "      <td>101.125</td>\n",
       "    </tr>\n",
       "  </tbody>\n",
       "</table>\n",
       "<p>374 rows × 313 columns</p>\n",
       "</div>"
      ],
      "text/plain": [
       "           2022-04-05  2022-04-07  2022-04-12  2022-04-14  2022-04-15  \\\n",
       "KYTREASNO                                                               \n",
       "207809            100           0           0           0       0.000   \n",
       "207772              0         100           0           0       0.000   \n",
       "207810              0           0         100           0       0.000   \n",
       "207784              0           0           0         100       0.000   \n",
       "207347              0           0           0           0     101.125   \n",
       "...               ...         ...         ...         ...         ...   \n",
       "207680              0           0           0           0       0.000   \n",
       "207719              0           0           0           0       0.000   \n",
       "207763              0           0           0           0       0.000   \n",
       "207808              0           0           0           0       0.000   \n",
       "207849              0           0           0           0       0.000   \n",
       "\n",
       "           2022-04-19  2022-04-21  2022-04-26  2022-04-28  2022-04-30  ...  \\\n",
       "KYTREASNO                                                              ...   \n",
       "207809              0           0           0           0         0.0  ...   \n",
       "207772              0           0           0           0         0.0  ...   \n",
       "207810              0           0           0           0         0.0  ...   \n",
       "207784              0           0           0           0         0.0  ...   \n",
       "207347              0           0           0           0         0.0  ...   \n",
       "...               ...         ...         ...         ...         ...  ...   \n",
       "207680              0           0           0           0         0.0  ...   \n",
       "207719              0           0           0           0         0.0  ...   \n",
       "207763              0           0           0           0         0.0  ...   \n",
       "207808              0           0           0           0         0.0  ...   \n",
       "207849              0           0           0           0         0.0  ...   \n",
       "\n",
       "           2049-11-15  2050-02-15  2050-05-15  2050-08-15  2050-11-15  \\\n",
       "KYTREASNO                                                               \n",
       "207809         0.0000      0.0000      0.0000      0.0000      0.0000   \n",
       "207772         0.0000      0.0000      0.0000      0.0000      0.0000   \n",
       "207810         0.0000      0.0000      0.0000      0.0000      0.0000   \n",
       "207784         0.0000      0.0000      0.0000      0.0000      0.0000   \n",
       "207347         0.0000      0.0000      0.0000      0.0000      0.0000   \n",
       "...               ...         ...         ...         ...         ...   \n",
       "207680         0.0000      0.9375      0.0000      0.9375      0.0000   \n",
       "207719         1.1875      0.0000      1.1875      0.0000      1.1875   \n",
       "207763         0.0000      1.0000      0.0000      1.0000      0.0000   \n",
       "207808         0.9375      0.0000      0.9375      0.0000      0.9375   \n",
       "207849         0.0000      1.1250      0.0000      1.1250      0.0000   \n",
       "\n",
       "           2051-02-15  2051-05-15  2051-08-15  2051-11-15  2052-02-15  \n",
       "KYTREASNO                                                              \n",
       "207809         0.0000      0.0000       0.000      0.0000       0.000  \n",
       "207772         0.0000      0.0000       0.000      0.0000       0.000  \n",
       "207810         0.0000      0.0000       0.000      0.0000       0.000  \n",
       "207784         0.0000      0.0000       0.000      0.0000       0.000  \n",
       "207347         0.0000      0.0000       0.000      0.0000       0.000  \n",
       "...               ...         ...         ...         ...         ...  \n",
       "207680       100.9375      0.0000       0.000      0.0000       0.000  \n",
       "207719         0.0000    101.1875       0.000      0.0000       0.000  \n",
       "207763         1.0000      0.0000     101.000      0.0000       0.000  \n",
       "207808         0.0000      0.9375       0.000    100.9375       0.000  \n",
       "207849         1.1250      0.0000       1.125      0.0000     101.125  \n",
       "\n",
       "[374 rows x 313 columns]"
      ]
     },
     "execution_count": 10,
     "metadata": {},
     "output_type": "execute_result"
    }
   ],
   "source": [
    "MODEL = nelson_siegel\n",
    "\n",
    "RESTRICT_YLD = True\n",
    "RESTRICT_TIPS = True\n",
    "\n",
    "RESTRICT_DTS_MATURING = False\n",
    "RESTRICT_REDUNDANT = False\n",
    "\n",
    "data = filter_treasuries(rawdata, t_date=t_current, filter_yld = RESTRICT_YLD, filter_tips = RESTRICT_TIPS, drop_duplicate_maturities=RESTRICT_REDUNDANT)\n",
    "CF = filter_treasury_cashflows(calc_cashflows(data),filter_maturity_dates=RESTRICT_DTS_MATURING)\n",
    "\n",
    "CF"
   ]
  },
  {
   "cell_type": "markdown",
   "id": "3a739ccc",
   "metadata": {
    "hidden": true
   },
   "source": [
    "## 2.2"
   ]
  },
  {
   "cell_type": "code",
   "execution_count": 11,
   "id": "3dfd6fca",
   "metadata": {
    "hidden": true
   },
   "outputs": [
    {
     "data": {
      "image/png": "[encoded data removed]",
      "text/plain": [
       "<Figure size 720x576 with 2 Axes>"
      ]
     },
     "metadata": {
      "needs_background": "light"
     },
     "output_type": "display_data"
    }
   ],
   "source": [
    "RATE = .02\n",
    "maturity_grid = pd.Series(get_maturity_delta(CF.columns.values,t_current=t_current),index=CF.columns)\n",
    "discount_factors = np.exp(-RATE * maturity_grid)\n",
    "\n",
    "curves = pd.DataFrame(discount_factors,index=CF.columns, columns=['discount factor'])\n",
    "curves['discount rate'] = RATE\n",
    "\n",
    "fig,ax = plt.subplots(2,1,figsize=(10,8))\n",
    "curves['discount factor'].plot(ax=ax[0],title='discount factor');\n",
    "curves['discount rate'].plot(ax=ax[1],title = 'discount rate');\n",
    "plt.tight_layout()"
   ]
  },
  {
   "cell_type": "markdown",
   "id": "5af4fca1",
   "metadata": {
    "hidden": true
   },
   "source": [
    "## 2.3"
   ]
  },
  {
   "cell_type": "code",
   "execution_count": 12,
   "id": "f27df173",
   "metadata": {
    "hidden": true
   },
   "outputs": [],
   "source": [
    "wts = CF.mul(curves['discount factor'],axis=1)\n",
    "wts = wts.div(wts.sum(axis=1),axis=0)\n",
    "duration = (wts @ maturity_grid.to_frame()).rename(columns={0:'duration'})"
   ]
  },
  {
   "cell_type": "markdown",
   "id": "ed4e87d7",
   "metadata": {
    "hidden": true
   },
   "source": [
    "## 2.4"
   ]
  },
  {
   "cell_type": "code",
   "execution_count": 13,
   "id": "b02a8791",
   "metadata": {
    "hidden": true
   },
   "outputs": [],
   "source": [
    "FREQ = 365\n",
    "duration['errors'] = rawdata['TDDURATN']/FREQ  - duration['duration']"
   ]
  },
  {
   "cell_type": "markdown",
   "id": "16a1dfbd",
   "metadata": {
    "hidden": true
   },
   "source": [
    "## 2.5"
   ]
  },
  {
   "cell_type": "code",
   "execution_count": 14,
   "id": "f81afbb3",
   "metadata": {
    "hidden": true
   },
   "outputs": [],
   "source": [
    "duration['convexity'] = wts @ maturity_grid**2"
   ]
  },
  {
   "cell_type": "markdown",
   "id": "1fe731e5",
   "metadata": {
    "hidden": true
   },
   "source": [
    "## Show answers"
   ]
  },
  {
   "cell_type": "code",
   "execution_count": 15,
   "id": "5727ee9a",
   "metadata": {
    "hidden": true
   },
   "outputs": [
    {
     "data": {
      "text/html": [
       "<div>\n",
       "<style scoped>\n",
       "    .dataframe tbody tr th:only-of-type {\n",
       "        vertical-align: middle;\n",
       "    }\n",
       "\n",
       "    .dataframe tbody tr th {\n",
       "        vertical-align: top;\n",
       "    }\n",
       "\n",
       "    .dataframe thead th {\n",
       "        text-align: right;\n",
       "    }\n",
       "</style>\n",
       "<table border=\"1\" class=\"dataframe\">\n",
       "  <thead>\n",
       "    <tr style=\"text-align: right;\">\n",
       "      <th></th>\n",
       "      <th>duration</th>\n",
       "      <th>errors</th>\n",
       "      <th>convexity</th>\n",
       "    </tr>\n",
       "  </thead>\n",
       "  <tbody>\n",
       "    <tr>\n",
       "      <th>count</th>\n",
       "      <td>374.000000</td>\n",
       "      <td>374.000000</td>\n",
       "      <td>374.000000</td>\n",
       "    </tr>\n",
       "    <tr>\n",
       "      <th>mean</th>\n",
       "      <td>5.088481</td>\n",
       "      <td>-0.048804</td>\n",
       "      <td>71.709624</td>\n",
       "    </tr>\n",
       "    <tr>\n",
       "      <th>std</th>\n",
       "      <td>5.993975</td>\n",
       "      <td>0.115735</td>\n",
       "      <td>141.517890</td>\n",
       "    </tr>\n",
       "    <tr>\n",
       "      <th>min</th>\n",
       "      <td>0.013689</td>\n",
       "      <td>-0.438861</td>\n",
       "      <td>0.000187</td>\n",
       "    </tr>\n",
       "    <tr>\n",
       "      <th>25%</th>\n",
       "      <td>0.881738</td>\n",
       "      <td>-0.002180</td>\n",
       "      <td>0.778877</td>\n",
       "    </tr>\n",
       "    <tr>\n",
       "      <th>50%</th>\n",
       "      <td>2.750777</td>\n",
       "      <td>0.000356</td>\n",
       "      <td>7.684366</td>\n",
       "    </tr>\n",
       "    <tr>\n",
       "      <th>75%</th>\n",
       "      <td>5.936334</td>\n",
       "      <td>0.001103</td>\n",
       "      <td>36.862721</td>\n",
       "    </tr>\n",
       "    <tr>\n",
       "      <th>max</th>\n",
       "      <td>23.162596</td>\n",
       "      <td>0.002836</td>\n",
       "      <td>609.538979</td>\n",
       "    </tr>\n",
       "  </tbody>\n",
       "</table>\n",
       "</div>"
      ],
      "text/plain": [
       "         duration      errors   convexity\n",
       "count  374.000000  374.000000  374.000000\n",
       "mean     5.088481   -0.048804   71.709624\n",
       "std      5.993975    0.115735  141.517890\n",
       "min      0.013689   -0.438861    0.000187\n",
       "25%      0.881738   -0.002180    0.778877\n",
       "50%      2.750777    0.000356    7.684366\n",
       "75%      5.936334    0.001103   36.862721\n",
       "max     23.162596    0.002836  609.538979"
      ]
     },
     "execution_count": 15,
     "metadata": {},
     "output_type": "execute_result"
    }
   ],
   "source": [
    "duration.describe()"
   ]
  },
  {
   "cell_type": "markdown",
   "id": "b4399246",
   "metadata": {
    "heading_collapsed": true
   },
   "source": [
    "# 3 Hedging Duration"
   ]
  },
  {
   "cell_type": "markdown",
   "id": "56022773",
   "metadata": {
    "hidden": true
   },
   "source": [
    "Import `treasury_ts_issue_duration_(207392, 207391, 207457).xlsx`.\n",
    "\n",
    "I suggest using code such as\n",
    "\n",
    "* `tsdata = pd.read_excel(filepath_tsdata,sheet_name='ts')`\n",
    "\n",
    "* `tsdata.columns = tsdata.columns.str.upper()`\n",
    "\n",
    "* `px = tsdata.pivot_table(index='CALDT',columns='KYTREASNO',values='TDASK').dropna()`\n",
    "* `duration = tsdata.pivot_table(index='CALDT',columns='KYTREASNO',values='TDDURATN').dropna()`\n",
    "\n",
    "## 3.1 \n",
    "\n",
    "Suppose you have a portfolio of 10,000 USD long in security `207391` on the last day of the sample.\n",
    "\n",
    "If you want to manage interest rate exposure using duration, how large of a short position should you hold in `207392`?\n",
    "\n",
    "(Duration is the column `TDDURATN` in the raw data.)\n",
    "\n",
    "## 3.2\n",
    "\n",
    "Step through the time-series, doing the following:\n",
    "\n",
    "* Starting at the end of the first day, set the hedged position according to the relative given durations.\n",
    "* Use the second day's price data to evaluate the net profit or loss of the hedged position.\n",
    "* Reset the the hedged position using the end-of-second-day durations. Again fix the long position of security `207391` to be 10,000.\n",
    "* Repeat throughout the timeseries.\n",
    "\n",
    "Report \n",
    "* the total profit (or loss.)\n",
    "* the mean, standard deviation, min, and max of the daily profit or loss."
   ]
  },
  {
   "cell_type": "markdown",
   "id": "88cd4acd",
   "metadata": {
    "heading_collapsed": true
   },
   "source": [
    "# <span style=\"color:red\">Solution 3</span>"
   ]
  },
  {
   "cell_type": "code",
   "execution_count": 16,
   "id": "51617816",
   "metadata": {
    "hidden": true
   },
   "outputs": [
    {
     "data": {
      "text/html": [
       "<div>\n",
       "<style scoped>\n",
       "    .dataframe tbody tr th:only-of-type {\n",
       "        vertical-align: middle;\n",
       "    }\n",
       "\n",
       "    .dataframe tbody tr th {\n",
       "        vertical-align: top;\n",
       "    }\n",
       "\n",
       "    .dataframe thead th {\n",
       "        text-align: right;\n",
       "    }\n",
       "</style>\n",
       "<table border=\"1\" class=\"dataframe\">\n",
       "  <thead>\n",
       "    <tr style=\"text-align: right;\">\n",
       "      <th></th>\n",
       "      <th>issue date</th>\n",
       "      <th>maturity date</th>\n",
       "      <th>coupon rate</th>\n",
       "      <th>security type</th>\n",
       "    </tr>\n",
       "    <tr>\n",
       "      <th>kytreasno</th>\n",
       "      <th></th>\n",
       "      <th></th>\n",
       "      <th></th>\n",
       "      <th></th>\n",
       "    </tr>\n",
       "  </thead>\n",
       "  <tbody>\n",
       "    <tr>\n",
       "      <th>207392</th>\n",
       "      <td>2019-08-15</td>\n",
       "      <td>2049-08-15</td>\n",
       "      <td>2.250</td>\n",
       "      <td>1</td>\n",
       "    </tr>\n",
       "    <tr>\n",
       "      <th>207391</th>\n",
       "      <td>2019-08-15</td>\n",
       "      <td>2029-08-15</td>\n",
       "      <td>1.625</td>\n",
       "      <td>2</td>\n",
       "    </tr>\n",
       "    <tr>\n",
       "      <th>207457</th>\n",
       "      <td>2019-12-15</td>\n",
       "      <td>2022-12-15</td>\n",
       "      <td>1.625</td>\n",
       "      <td>2</td>\n",
       "    </tr>\n",
       "  </tbody>\n",
       "</table>\n",
       "</div>"
      ],
      "text/plain": [
       "          issue date maturity date  coupon rate  security type\n",
       "kytreasno                                                     \n",
       "207392    2019-08-15    2049-08-15        2.250              1\n",
       "207391    2019-08-15    2029-08-15        1.625              2\n",
       "207457    2019-12-15    2022-12-15        1.625              2"
      ]
     },
     "execution_count": 16,
     "metadata": {},
     "output_type": "execute_result"
    }
   ],
   "source": [
    "filepath_tsdata = '../data/treasury_ts_issue_duration_(207392, 207391, 207457).xlsx'\n",
    "\n",
    "info = pd.read_excel(filepath_tsdata,sheet_name='info').set_index('kytreasno')\n",
    "info"
   ]
  },
  {
   "cell_type": "code",
   "execution_count": 17,
   "id": "ec0c41a1",
   "metadata": {
    "hidden": true
   },
   "outputs": [],
   "source": [
    "SIZE = 10000\n",
    "IDLONG = 207391\n",
    "IDSHORT = 207392\n",
    "\n",
    "FREQ = 365"
   ]
  },
  {
   "cell_type": "code",
   "execution_count": 18,
   "id": "3b5cc4d6",
   "metadata": {
    "hidden": true
   },
   "outputs": [],
   "source": [
    "tsdata = pd.read_excel(filepath_tsdata,sheet_name='ts')\n",
    "tsdata.columns = tsdata.columns.str.upper()\n",
    "px = tsdata.pivot_table(index='CALDT',columns='KYTREASNO',values='TDASK').dropna()\n",
    "duration = tsdata.pivot_table(index='CALDT',columns='KYTREASNO',values='TDDURATN').dropna()/FREQ"
   ]
  },
  {
   "cell_type": "code",
   "execution_count": 19,
   "id": "9afc09e6",
   "metadata": {
    "hidden": true
   },
   "outputs": [],
   "source": [
    "position = pd.DataFrame(index=duration.index, dtype=float)\n",
    "\n",
    "position['long'] = SIZE / px[IDLONG]\n",
    "position['hedge ratio'] = (duration[IDLONG] / duration[IDSHORT]) * (px[IDLONG] / px[IDSHORT])\n",
    "position['short'] = - position['hedge ratio'] * position['long']\n",
    "position[['long ($)','short ($)']] = position[['long','short']] * px[[IDLONG,IDSHORT]].values\n",
    "\n",
    "position['net ($)'] = position[['long ($)','short ($)']].sum(axis=1)\n",
    "wts = position[['long ($)','short ($)']].div(position[['long ($)','short ($)']].sum(axis=1),axis=0)"
   ]
  },
  {
   "cell_type": "markdown",
   "id": "33ac6aaf",
   "metadata": {
    "hidden": true
   },
   "source": [
    "### Check that duration is indeed hedged as of end of day"
   ]
  },
  {
   "cell_type": "code",
   "execution_count": 20,
   "id": "6a49e1ea",
   "metadata": {
    "hidden": true
   },
   "outputs": [
    {
     "data": {
      "text/html": [
       "<style type=\"text/css\">\n",
       "</style>\n",
       "<table id=\"T_7cf8d\">\n",
       "  <thead>\n",
       "    <tr>\n",
       "      <th class=\"blank level0\" >&nbsp;</th>\n",
       "      <th id=\"T_7cf8d_level0_col0\" class=\"col_heading level0 col0\" >count</th>\n",
       "      <th id=\"T_7cf8d_level0_col1\" class=\"col_heading level0 col1\" >mean</th>\n",
       "      <th id=\"T_7cf8d_level0_col2\" class=\"col_heading level0 col2\" >std</th>\n",
       "      <th id=\"T_7cf8d_level0_col3\" class=\"col_heading level0 col3\" >min</th>\n",
       "      <th id=\"T_7cf8d_level0_col4\" class=\"col_heading level0 col4\" >25%</th>\n",
       "      <th id=\"T_7cf8d_level0_col5\" class=\"col_heading level0 col5\" >50%</th>\n",
       "      <th id=\"T_7cf8d_level0_col6\" class=\"col_heading level0 col6\" >75%</th>\n",
       "      <th id=\"T_7cf8d_level0_col7\" class=\"col_heading level0 col7\" >max</th>\n",
       "    </tr>\n",
       "  </thead>\n",
       "  <tbody>\n",
       "    <tr>\n",
       "      <th id=\"T_7cf8d_level0_row0\" class=\"row_heading level0 row0\" >duration</th>\n",
       "      <td id=\"T_7cf8d_row0_col0\" class=\"data row0 col0\" >62100.0%</td>\n",
       "      <td id=\"T_7cf8d_row0_col1\" class=\"data row0 col1\" >-0.0%</td>\n",
       "      <td id=\"T_7cf8d_row0_col2\" class=\"data row0 col2\" >0.0%</td>\n",
       "      <td id=\"T_7cf8d_row0_col3\" class=\"data row0 col3\" >-0.0%</td>\n",
       "      <td id=\"T_7cf8d_row0_col4\" class=\"data row0 col4\" >-0.0%</td>\n",
       "      <td id=\"T_7cf8d_row0_col5\" class=\"data row0 col5\" >0.0%</td>\n",
       "      <td id=\"T_7cf8d_row0_col6\" class=\"data row0 col6\" >0.0%</td>\n",
       "      <td id=\"T_7cf8d_row0_col7\" class=\"data row0 col7\" >0.0%</td>\n",
       "    </tr>\n",
       "  </tbody>\n",
       "</table>\n"
      ],
      "text/plain": [
       "<pandas.io.formats.style.Styler at 0x12fb2ea60>"
      ]
     },
     "execution_count": 20,
     "metadata": {},
     "output_type": "execute_result"
    }
   ],
   "source": [
    "position['duration'] = (wts * duration[[IDLONG,IDSHORT]].values).sum(axis=1)\n",
    "position['duration'].describe().to_frame().T.style.format('{:.1%}')"
   ]
  },
  {
   "cell_type": "markdown",
   "id": "b27aead8",
   "metadata": {
    "hidden": true
   },
   "source": [
    "### Based on position at end of $t$, calculate  profit & loss at $t+1$\n",
    "\n",
    "Note that this is not the true **profit** given that we are ignoring the coupons."
   ]
  },
  {
   "cell_type": "code",
   "execution_count": 21,
   "id": "095a321c",
   "metadata": {
    "hidden": true
   },
   "outputs": [],
   "source": [
    "position[['long ($) realized','short ($) realized']] = \\\n",
    "    position[['long','short']] * px[[IDLONG,IDSHORT]].shift(-1).values\n",
    "\n",
    "position[['long p&l','short p&l']] = \\\n",
    "    position[['long ($) realized','short ($) realized']] - position[['long ($)','short ($)']].values\n",
    "\n",
    "position['profit hedged'] = position[['long p&l','short p&l']].sum(axis=1)"
   ]
  },
  {
   "cell_type": "markdown",
   "id": "66bf06e5",
   "metadata": {
    "hidden": true
   },
   "source": [
    "### Compare to profit of holding position unhedged"
   ]
  },
  {
   "cell_type": "code",
   "execution_count": 22,
   "id": "9e6fdba8",
   "metadata": {
    "hidden": true
   },
   "outputs": [
    {
     "data": {
      "text/html": [
       "<div>\n",
       "<style scoped>\n",
       "    .dataframe tbody tr th:only-of-type {\n",
       "        vertical-align: middle;\n",
       "    }\n",
       "\n",
       "    .dataframe tbody tr th {\n",
       "        vertical-align: top;\n",
       "    }\n",
       "\n",
       "    .dataframe thead th {\n",
       "        text-align: right;\n",
       "    }\n",
       "</style>\n",
       "<table border=\"1\" class=\"dataframe\">\n",
       "  <thead>\n",
       "    <tr style=\"text-align: right;\">\n",
       "      <th></th>\n",
       "      <th>profit</th>\n",
       "      <th>profit hedged</th>\n",
       "    </tr>\n",
       "  </thead>\n",
       "  <tbody>\n",
       "    <tr>\n",
       "      <th>count</th>\n",
       "      <td>620.000000</td>\n",
       "      <td>621.000000</td>\n",
       "    </tr>\n",
       "    <tr>\n",
       "      <th>mean</th>\n",
       "      <td>-0.901445</td>\n",
       "      <td>-0.387938</td>\n",
       "    </tr>\n",
       "    <tr>\n",
       "      <th>std</th>\n",
       "      <td>44.522339</td>\n",
       "      <td>18.782488</td>\n",
       "    </tr>\n",
       "    <tr>\n",
       "      <th>min</th>\n",
       "      <td>-321.110870</td>\n",
       "      <td>-98.317955</td>\n",
       "    </tr>\n",
       "    <tr>\n",
       "      <th>25%</th>\n",
       "      <td>-23.976482</td>\n",
       "      <td>-9.768293</td>\n",
       "    </tr>\n",
       "    <tr>\n",
       "      <th>50%</th>\n",
       "      <td>-1.279097</td>\n",
       "      <td>-0.075192</td>\n",
       "    </tr>\n",
       "    <tr>\n",
       "      <th>75%</th>\n",
       "      <td>21.955875</td>\n",
       "      <td>9.221656</td>\n",
       "    </tr>\n",
       "    <tr>\n",
       "      <th>max</th>\n",
       "      <td>276.189043</td>\n",
       "      <td>107.636148</td>\n",
       "    </tr>\n",
       "  </tbody>\n",
       "</table>\n",
       "</div>"
      ],
      "text/plain": [
       "           profit  profit hedged\n",
       "count  620.000000     621.000000\n",
       "mean    -0.901445      -0.387938\n",
       "std     44.522339      18.782488\n",
       "min   -321.110870     -98.317955\n",
       "25%    -23.976482      -9.768293\n",
       "50%     -1.279097      -0.075192\n",
       "75%     21.955875       9.221656\n",
       "max    276.189043     107.636148"
      ]
     },
     "execution_count": 22,
     "metadata": {},
     "output_type": "execute_result"
    }
   ],
   "source": [
    "position['profit'] = px[IDLONG].diff() * position['long'].shift()\n",
    "\n",
    "position[['profit','profit hedged']].describe()"
   ]
  },
  {
   "cell_type": "code",
   "execution_count": 23,
   "id": "ad28a752",
   "metadata": {
    "hidden": true
   },
   "outputs": [
    {
     "data": {
      "text/html": [
       "<div>\n",
       "<style scoped>\n",
       "    .dataframe tbody tr th:only-of-type {\n",
       "        vertical-align: middle;\n",
       "    }\n",
       "\n",
       "    .dataframe tbody tr th {\n",
       "        vertical-align: top;\n",
       "    }\n",
       "\n",
       "    .dataframe thead th {\n",
       "        text-align: right;\n",
       "    }\n",
       "</style>\n",
       "<table border=\"1\" class=\"dataframe\">\n",
       "  <thead>\n",
       "    <tr style=\"text-align: right;\">\n",
       "      <th></th>\n",
       "      <th>long</th>\n",
       "      <th>hedge ratio</th>\n",
       "      <th>short</th>\n",
       "      <th>long ($)</th>\n",
       "      <th>short ($)</th>\n",
       "      <th>net ($)</th>\n",
       "      <th>duration</th>\n",
       "      <th>long ($) realized</th>\n",
       "      <th>short ($) realized</th>\n",
       "      <th>long p&amp;l</th>\n",
       "      <th>short p&amp;l</th>\n",
       "      <th>profit hedged</th>\n",
       "      <th>profit</th>\n",
       "    </tr>\n",
       "    <tr>\n",
       "      <th>CALDT</th>\n",
       "      <th></th>\n",
       "      <th></th>\n",
       "      <th></th>\n",
       "      <th></th>\n",
       "      <th></th>\n",
       "      <th></th>\n",
       "      <th></th>\n",
       "      <th></th>\n",
       "      <th></th>\n",
       "      <th></th>\n",
       "      <th></th>\n",
       "      <th></th>\n",
       "      <th></th>\n",
       "    </tr>\n",
       "  </thead>\n",
       "  <tbody>\n",
       "    <tr>\n",
       "      <th>2019-12-10</th>\n",
       "      <td>101.967657</td>\n",
       "      <td>0.406667</td>\n",
       "      <td>-41.466870</td>\n",
       "      <td>10000.0</td>\n",
       "      <td>-4132.432723</td>\n",
       "      <td>5867.567277</td>\n",
       "      <td>1.776357e-15</td>\n",
       "      <td>10044.610850</td>\n",
       "      <td>-4167.096434</td>\n",
       "      <td>44.610850</td>\n",
       "      <td>-34.663711</td>\n",
       "      <td>9.947139</td>\n",
       "      <td>NaN</td>\n",
       "    </tr>\n",
       "    <tr>\n",
       "      <th>2019-12-11</th>\n",
       "      <td>101.514791</td>\n",
       "      <td>0.404369</td>\n",
       "      <td>-41.049411</td>\n",
       "      <td>10000.0</td>\n",
       "      <td>-4125.145093</td>\n",
       "      <td>5874.854907</td>\n",
       "      <td>1.776357e-15</td>\n",
       "      <td>9911.174558</td>\n",
       "      <td>-4051.063734</td>\n",
       "      <td>-88.825442</td>\n",
       "      <td>74.081359</td>\n",
       "      <td>-14.744083</td>\n",
       "      <td>44.610850</td>\n",
       "    </tr>\n",
       "    <tr>\n",
       "      <th>2019-12-12</th>\n",
       "      <td>102.424582</td>\n",
       "      <td>0.409461</td>\n",
       "      <td>-41.938828</td>\n",
       "      <td>10000.0</td>\n",
       "      <td>-4138.838061</td>\n",
       "      <td>5861.161939</td>\n",
       "      <td>1.776357e-15</td>\n",
       "      <td>10062.414980</td>\n",
       "      <td>-4192.572184</td>\n",
       "      <td>62.414980</td>\n",
       "      <td>-53.734123</td>\n",
       "      <td>8.680857</td>\n",
       "      <td>-88.825442</td>\n",
       "    </tr>\n",
       "    <tr>\n",
       "      <th>2019-12-13</th>\n",
       "      <td>101.789264</td>\n",
       "      <td>0.405647</td>\n",
       "      <td>-41.290523</td>\n",
       "      <td>10000.0</td>\n",
       "      <td>-4127.761953</td>\n",
       "      <td>5872.238047</td>\n",
       "      <td>0.000000e+00</td>\n",
       "      <td>9960.238569</td>\n",
       "      <td>-4096.471478</td>\n",
       "      <td>-39.761431</td>\n",
       "      <td>31.290474</td>\n",
       "      <td>-8.470957</td>\n",
       "      <td>62.414980</td>\n",
       "    </tr>\n",
       "    <tr>\n",
       "      <th>2019-12-16</th>\n",
       "      <td>102.195609</td>\n",
       "      <td>0.407493</td>\n",
       "      <td>-41.643979</td>\n",
       "      <td>10000.0</td>\n",
       "      <td>-4131.538194</td>\n",
       "      <td>5868.461806</td>\n",
       "      <td>0.000000e+00</td>\n",
       "      <td>9988.822355</td>\n",
       "      <td>-4114.294984</td>\n",
       "      <td>-11.177645</td>\n",
       "      <td>17.243210</td>\n",
       "      <td>6.065565</td>\n",
       "      <td>-39.761431</td>\n",
       "    </tr>\n",
       "    <tr>\n",
       "      <th>...</th>\n",
       "      <td>...</td>\n",
       "      <td>...</td>\n",
       "      <td>...</td>\n",
       "      <td>...</td>\n",
       "      <td>...</td>\n",
       "      <td>...</td>\n",
       "      <td>...</td>\n",
       "      <td>...</td>\n",
       "      <td>...</td>\n",
       "      <td>...</td>\n",
       "      <td>...</td>\n",
       "      <td>...</td>\n",
       "      <td>...</td>\n",
       "    </tr>\n",
       "    <tr>\n",
       "      <th>2022-05-24</th>\n",
       "      <td>107.789474</td>\n",
       "      <td>0.374904</td>\n",
       "      <td>-40.410747</td>\n",
       "      <td>10000.0</td>\n",
       "      <td>-3450.383227</td>\n",
       "      <td>6549.616773</td>\n",
       "      <td>-1.776357e-15</td>\n",
       "      <td>10010.947368</td>\n",
       "      <td>-3456.381698</td>\n",
       "      <td>10.947368</td>\n",
       "      <td>-5.998470</td>\n",
       "      <td>4.948898</td>\n",
       "      <td>81.500976</td>\n",
       "    </tr>\n",
       "    <tr>\n",
       "      <th>2022-05-25</th>\n",
       "      <td>107.671602</td>\n",
       "      <td>0.374446</td>\n",
       "      <td>-40.317187</td>\n",
       "      <td>10000.0</td>\n",
       "      <td>-3448.379434</td>\n",
       "      <td>6551.620566</td>\n",
       "      <td>1.776357e-15</td>\n",
       "      <td>9999.158816</td>\n",
       "      <td>-3426.015994</td>\n",
       "      <td>-0.841184</td>\n",
       "      <td>22.363440</td>\n",
       "      <td>21.522255</td>\n",
       "      <td>10.947368</td>\n",
       "    </tr>\n",
       "    <tr>\n",
       "      <th>2022-05-26</th>\n",
       "      <td>107.680660</td>\n",
       "      <td>0.377306</td>\n",
       "      <td>-40.628541</td>\n",
       "      <td>10000.0</td>\n",
       "      <td>-3452.473767</td>\n",
       "      <td>6547.526233</td>\n",
       "      <td>-1.776357e-15</td>\n",
       "      <td>9995.793724</td>\n",
       "      <td>-3464.217954</td>\n",
       "      <td>-4.206276</td>\n",
       "      <td>-11.744188</td>\n",
       "      <td>-15.950463</td>\n",
       "      <td>-0.841184</td>\n",
       "    </tr>\n",
       "    <tr>\n",
       "      <th>2022-05-27</th>\n",
       "      <td>107.725972</td>\n",
       "      <td>0.375469</td>\n",
       "      <td>-40.447768</td>\n",
       "      <td>10000.0</td>\n",
       "      <td>-3448.804200</td>\n",
       "      <td>6551.195800</td>\n",
       "      <td>0.000000e+00</td>\n",
       "      <td>9929.304831</td>\n",
       "      <td>-3391.292530</td>\n",
       "      <td>-70.695169</td>\n",
       "      <td>57.511670</td>\n",
       "      <td>-13.183499</td>\n",
       "      <td>-4.206276</td>\n",
       "    </tr>\n",
       "    <tr>\n",
       "      <th>2022-05-31</th>\n",
       "      <td>108.492965</td>\n",
       "      <td>0.380106</td>\n",
       "      <td>-41.238816</td>\n",
       "      <td>10000.0</td>\n",
       "      <td>-3457.617006</td>\n",
       "      <td>6542.382994</td>\n",
       "      <td>0.000000e+00</td>\n",
       "      <td>NaN</td>\n",
       "      <td>NaN</td>\n",
       "      <td>NaN</td>\n",
       "      <td>NaN</td>\n",
       "      <td>0.000000</td>\n",
       "      <td>-70.695169</td>\n",
       "    </tr>\n",
       "  </tbody>\n",
       "</table>\n",
       "<p>621 rows × 13 columns</p>\n",
       "</div>"
      ],
      "text/plain": [
       "                  long  hedge ratio      short  long ($)    short ($)  \\\n",
       "CALDT                                                                   \n",
       "2019-12-10  101.967657     0.406667 -41.466870   10000.0 -4132.432723   \n",
       "2019-12-11  101.514791     0.404369 -41.049411   10000.0 -4125.145093   \n",
       "2019-12-12  102.424582     0.409461 -41.938828   10000.0 -4138.838061   \n",
       "2019-12-13  101.789264     0.405647 -41.290523   10000.0 -4127.761953   \n",
       "2019-12-16  102.195609     0.407493 -41.643979   10000.0 -4131.538194   \n",
       "...                ...          ...        ...       ...          ...   \n",
       "2022-05-24  107.789474     0.374904 -40.410747   10000.0 -3450.383227   \n",
       "2022-05-25  107.671602     0.374446 -40.317187   10000.0 -3448.379434   \n",
       "2022-05-26  107.680660     0.377306 -40.628541   10000.0 -3452.473767   \n",
       "2022-05-27  107.725972     0.375469 -40.447768   10000.0 -3448.804200   \n",
       "2022-05-31  108.492965     0.380106 -41.238816   10000.0 -3457.617006   \n",
       "\n",
       "                net ($)      duration  long ($) realized  short ($) realized  \\\n",
       "CALDT                                                                          \n",
       "2019-12-10  5867.567277  1.776357e-15       10044.610850        -4167.096434   \n",
       "2019-12-11  5874.854907  1.776357e-15        9911.174558        -4051.063734   \n",
       "2019-12-12  5861.161939  1.776357e-15       10062.414980        -4192.572184   \n",
       "2019-12-13  5872.238047  0.000000e+00        9960.238569        -4096.471478   \n",
       "2019-12-16  5868.461806  0.000000e+00        9988.822355        -4114.294984   \n",
       "...                 ...           ...                ...                 ...   \n",
       "2022-05-24  6549.616773 -1.776357e-15       10010.947368        -3456.381698   \n",
       "2022-05-25  6551.620566  1.776357e-15        9999.158816        -3426.015994   \n",
       "2022-05-26  6547.526233 -1.776357e-15        9995.793724        -3464.217954   \n",
       "2022-05-27  6551.195800  0.000000e+00        9929.304831        -3391.292530   \n",
       "2022-05-31  6542.382994  0.000000e+00                NaN                 NaN   \n",
       "\n",
       "             long p&l  short p&l  profit hedged     profit  \n",
       "CALDT                                                       \n",
       "2019-12-10  44.610850 -34.663711       9.947139        NaN  \n",
       "2019-12-11 -88.825442  74.081359     -14.744083  44.610850  \n",
       "2019-12-12  62.414980 -53.734123       8.680857 -88.825442  \n",
       "2019-12-13 -39.761431  31.290474      -8.470957  62.414980  \n",
       "2019-12-16 -11.177645  17.243210       6.065565 -39.761431  \n",
       "...               ...        ...            ...        ...  \n",
       "2022-05-24  10.947368  -5.998470       4.948898  81.500976  \n",
       "2022-05-25  -0.841184  22.363440      21.522255  10.947368  \n",
       "2022-05-26  -4.206276 -11.744188     -15.950463  -0.841184  \n",
       "2022-05-27 -70.695169  57.511670     -13.183499  -4.206276  \n",
       "2022-05-31        NaN        NaN       0.000000 -70.695169  \n",
       "\n",
       "[621 rows x 13 columns]"
      ]
     },
     "execution_count": 23,
     "metadata": {},
     "output_type": "execute_result"
    }
   ],
   "source": [
    "position"
   ]
  },
  {
   "cell_type": "code",
   "execution_count": 24,
   "id": "1847b1b1",
   "metadata": {
    "hidden": true
   },
   "outputs": [
    {
     "data": {
      "image/png": "[encoded data removed]",
      "text/plain": [
       "<Figure size 864x432 with 1 Axes>"
      ]
     },
     "metadata": {
      "needs_background": "light"
     },
     "output_type": "display_data"
    }
   ],
   "source": [
    "position[['profit','profit hedged']].cumsum().plot();"
   ]
  },
  {
   "cell_type": "code",
   "execution_count": 25,
   "id": "a4a34396",
   "metadata": {
    "hidden": true
   },
   "outputs": [
    {
     "data": {
      "text/html": [
       "<style type=\"text/css\">\n",
       "</style>\n",
       "<table id=\"T_8fe59\">\n",
       "  <thead>\n",
       "    <tr>\n",
       "      <th class=\"blank level0\" >&nbsp;</th>\n",
       "      <th id=\"T_8fe59_level0_col0\" class=\"col_heading level0 col0\" >profit</th>\n",
       "      <th id=\"T_8fe59_level0_col1\" class=\"col_heading level0 col1\" >profit hedged</th>\n",
       "    </tr>\n",
       "  </thead>\n",
       "  <tbody>\n",
       "    <tr>\n",
       "      <th id=\"T_8fe59_level0_row0\" class=\"row_heading level0 row0\" >mean</th>\n",
       "      <td id=\"T_8fe59_row0_col0\" class=\"data row0 col0\" >$-0.90</td>\n",
       "      <td id=\"T_8fe59_row0_col1\" class=\"data row0 col1\" >$-0.39</td>\n",
       "    </tr>\n",
       "    <tr>\n",
       "      <th id=\"T_8fe59_level0_row1\" class=\"row_heading level0 row1\" >std</th>\n",
       "      <td id=\"T_8fe59_row1_col0\" class=\"data row1 col0\" >$44.52</td>\n",
       "      <td id=\"T_8fe59_row1_col1\" class=\"data row1 col1\" >$18.78</td>\n",
       "    </tr>\n",
       "    <tr>\n",
       "      <th id=\"T_8fe59_level0_row2\" class=\"row_heading level0 row2\" >min</th>\n",
       "      <td id=\"T_8fe59_row2_col0\" class=\"data row2 col0\" >$-321.11</td>\n",
       "      <td id=\"T_8fe59_row2_col1\" class=\"data row2 col1\" >$-98.32</td>\n",
       "    </tr>\n",
       "    <tr>\n",
       "      <th id=\"T_8fe59_level0_row3\" class=\"row_heading level0 row3\" >25%</th>\n",
       "      <td id=\"T_8fe59_row3_col0\" class=\"data row3 col0\" >$-23.98</td>\n",
       "      <td id=\"T_8fe59_row3_col1\" class=\"data row3 col1\" >$-9.77</td>\n",
       "    </tr>\n",
       "    <tr>\n",
       "      <th id=\"T_8fe59_level0_row4\" class=\"row_heading level0 row4\" >50%</th>\n",
       "      <td id=\"T_8fe59_row4_col0\" class=\"data row4 col0\" >$-1.28</td>\n",
       "      <td id=\"T_8fe59_row4_col1\" class=\"data row4 col1\" >$-0.08</td>\n",
       "    </tr>\n",
       "    <tr>\n",
       "      <th id=\"T_8fe59_level0_row5\" class=\"row_heading level0 row5\" >75%</th>\n",
       "      <td id=\"T_8fe59_row5_col0\" class=\"data row5 col0\" >$21.96</td>\n",
       "      <td id=\"T_8fe59_row5_col1\" class=\"data row5 col1\" >$9.22</td>\n",
       "    </tr>\n",
       "    <tr>\n",
       "      <th id=\"T_8fe59_level0_row6\" class=\"row_heading level0 row6\" >max</th>\n",
       "      <td id=\"T_8fe59_row6_col0\" class=\"data row6 col0\" >$276.19</td>\n",
       "      <td id=\"T_8fe59_row6_col1\" class=\"data row6 col1\" >$107.64</td>\n",
       "    </tr>\n",
       "  </tbody>\n",
       "</table>\n"
      ],
      "text/plain": [
       "<pandas.io.formats.style.Styler at 0x12f79c1f0>"
      ]
     },
     "execution_count": 25,
     "metadata": {},
     "output_type": "execute_result"
    }
   ],
   "source": [
    "position[['profit','profit hedged']].describe().drop(index=['count']).style.format('${:,.2f}')"
   ]
  },
  {
   "cell_type": "markdown",
   "id": "2a62659e",
   "metadata": {
    "heading_collapsed": true
   },
   "source": [
    "# 4 Factor Duration"
   ]
  },
  {
   "cell_type": "markdown",
   "id": "d2d42d9e",
   "metadata": {
    "hidden": true
   },
   "source": [
    "Calculate the factor duration of the treasuries from `treasury_ts_issue_duration_(207392, 207391, 207457).xlsx`.\n",
    "\n",
    "Run a multivariate regression of the bond prices on all three factors constructed above from the yield factors: level, slope, and curvature. \n",
    "\n",
    "Estimate the regression in the form of day-over-day differences for both bond prices and factors. (ht Shreyas.) That is, we are using regression to approximate the factor duration equation,\n",
    "\n",
    "$\\begin{align}\n",
    "\\frac{dP}{P} = \\beta_1 dz_1 + \\beta_2 dz_2 + \\beta_3 dz_3 + \\epsilon\n",
    "\\end{align}$\n",
    "\n",
    "Report the betas for each of these factors, for each of the bond prices."
   ]
  },
  {
   "cell_type": "markdown",
   "id": "8e1c1719",
   "metadata": {
    "heading_collapsed": true
   },
   "source": [
    "# <span style=\"color:red\">Solution 4</span>"
   ]
  },
  {
   "cell_type": "markdown",
   "id": "098a7893",
   "metadata": {
    "hidden": true
   },
   "source": [
    "Note that it makes little difference whether an intercept is included in this regression, and either is defensible. For the standardized version below, it will make no difference."
   ]
  },
  {
   "cell_type": "code",
   "execution_count": 26,
   "id": "3391dd89",
   "metadata": {
    "hidden": true
   },
   "outputs": [
    {
     "data": {
      "text/html": [
       "<div>\n",
       "<style scoped>\n",
       "    .dataframe tbody tr th:only-of-type {\n",
       "        vertical-align: middle;\n",
       "    }\n",
       "\n",
       "    .dataframe tbody tr th {\n",
       "        vertical-align: top;\n",
       "    }\n",
       "\n",
       "    .dataframe thead th {\n",
       "        text-align: right;\n",
       "    }\n",
       "</style>\n",
       "<table border=\"1\" class=\"dataframe\">\n",
       "  <thead>\n",
       "    <tr style=\"text-align: right;\">\n",
       "      <th>KYTREASNO</th>\n",
       "      <th>207391</th>\n",
       "      <th>207392</th>\n",
       "      <th>207457</th>\n",
       "    </tr>\n",
       "  </thead>\n",
       "  <tbody>\n",
       "    <tr>\n",
       "      <th>level</th>\n",
       "      <td>0.084272</td>\n",
       "      <td>0.008014</td>\n",
       "      <td>0.011436</td>\n",
       "    </tr>\n",
       "    <tr>\n",
       "      <th>slope</th>\n",
       "      <td>0.220327</td>\n",
       "      <td>0.130939</td>\n",
       "      <td>-0.072384</td>\n",
       "    </tr>\n",
       "    <tr>\n",
       "      <th>curvature</th>\n",
       "      <td>0.015225</td>\n",
       "      <td>-0.002172</td>\n",
       "      <td>-0.000404</td>\n",
       "    </tr>\n",
       "  </tbody>\n",
       "</table>\n",
       "</div>"
      ],
      "text/plain": [
       "KYTREASNO    207391    207392    207457\n",
       "level      0.084272  0.008014  0.011436\n",
       "slope      0.220327  0.130939 -0.072384\n",
       "curvature  0.015225 -0.002172 -0.000404"
      ]
     },
     "execution_count": 26,
     "metadata": {},
     "output_type": "execute_result"
    }
   ],
   "source": [
    "dp_pct = px.pct_change().dropna()\n",
    "dfac = shapes.diff().dropna()\n",
    "dp_pct, dfac = dp_pct.align(dfac,join='inner',axis=0)\n",
    "\n",
    "factor_durations = pd.DataFrame(-LinearRegression(fit_intercept=True).fit(dfac,dp_pct).coef_, columns = dp_pct.columns, index= dfac.columns)\n",
    "factor_durations"
   ]
  },
  {
   "cell_type": "markdown",
   "id": "97cf0a5d",
   "metadata": {
    "hidden": true
   },
   "source": [
    "### try standardizing the factors\n",
    "The way we constructed level, slope, curvature, they may each have very different scalings (magnitudes,) which makes their betas hard to interpret. Easier to normalize them with a z-score, so that the resulting betas can be interpreted as the reaction to a one-sigma move in the factor."
   ]
  },
  {
   "cell_type": "code",
   "execution_count": 27,
   "id": "ce521ed3",
   "metadata": {
    "hidden": true
   },
   "outputs": [
    {
     "data": {
      "text/html": [
       "<div>\n",
       "<style scoped>\n",
       "    .dataframe tbody tr th:only-of-type {\n",
       "        vertical-align: middle;\n",
       "    }\n",
       "\n",
       "    .dataframe tbody tr th {\n",
       "        vertical-align: top;\n",
       "    }\n",
       "\n",
       "    .dataframe thead th {\n",
       "        text-align: right;\n",
       "    }\n",
       "</style>\n",
       "<table border=\"1\" class=\"dataframe\">\n",
       "  <thead>\n",
       "    <tr style=\"text-align: right;\">\n",
       "      <th>KYTREASNO</th>\n",
       "      <th>207391</th>\n",
       "      <th>207392</th>\n",
       "      <th>207457</th>\n",
       "    </tr>\n",
       "  </thead>\n",
       "  <tbody>\n",
       "    <tr>\n",
       "      <th>level</th>\n",
       "      <td>0.003536</td>\n",
       "      <td>0.000456</td>\n",
       "      <td>0.000604</td>\n",
       "    </tr>\n",
       "    <tr>\n",
       "      <th>slope</th>\n",
       "      <td>0.009246</td>\n",
       "      <td>0.007448</td>\n",
       "      <td>-0.003823</td>\n",
       "    </tr>\n",
       "    <tr>\n",
       "      <th>curvature</th>\n",
       "      <td>0.000639</td>\n",
       "      <td>-0.000124</td>\n",
       "      <td>-0.000021</td>\n",
       "    </tr>\n",
       "  </tbody>\n",
       "</table>\n",
       "</div>"
      ],
      "text/plain": [
       "KYTREASNO    207391    207392    207457\n",
       "level      0.003536  0.000456  0.000604\n",
       "slope      0.009246  0.007448 -0.003823\n",
       "curvature  0.000639 -0.000124 -0.000021"
      ]
     },
     "execution_count": 27,
     "metadata": {},
     "output_type": "execute_result"
    }
   ],
   "source": [
    "def zscore(df):\n",
    "    z = df.sub(df.mean(axis=0)).div(df.std(axis=0))\n",
    "    return z\n",
    "\n",
    "dz = zscore(dfac)\n",
    "\n",
    "z_durations = pd.DataFrame(-LinearRegression(fit_intercept=True).fit(dz,dp_pct).coef_, columns = dp_pct.columns, index= dz.columns)\n",
    "z_durations"
   ]
  },
  {
   "cell_type": "markdown",
   "id": "4615fd7e",
   "metadata": {
    "hidden": true
   },
   "source": [
    "***"
   ]
  },
  {
   "cell_type": "markdown",
   "id": "8c019415",
   "metadata": {
    "heading_collapsed": true
   },
   "source": [
    "# Extra Problems"
   ]
  },
  {
   "cell_type": "markdown",
   "id": "30eee18b",
   "metadata": {
    "hidden": true
   },
   "source": [
    "## 1 Extracted Discount Curve\n",
    "\n",
    "Re-do the duration and convexity calculations of Problem 2, this time using an extracted discount curve instead of a discount curve based on a constant (arbitrary) spot rate. \n",
    "\n",
    "## 2 PCAs\n",
    "Re-do the factor duration of Problem 3 using PCA extracted factors instead of the ad-hoc factors.\n",
    "\n",
    "## 3 Hedging Factor Duration\n",
    "\n",
    "Explain how to build a factor-hedged position with these betas."
   ]
  }
 ],
 "metadata": {
  "hide_input": false,
  "kernelspec": {
   "display_name": "Python 3 (ipykernel)",
   "language": "python",
   "name": "python3"
  },
  "language_info": {
   "codemirror_mode": {
    "name": "ipython",
    "version": 3
   },
   "file_extension": ".py",
   "mimetype": "text/x-python",
   "name": "python",
   "nbconvert_exporter": "python",
   "pygments_lexer": "ipython3",
   "version": "3.9.7"
  }
 },
 "nbformat": 4,
 "nbformat_minor": 5
}
