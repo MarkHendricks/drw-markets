{
 "cells": [
  {
   "cell_type": "markdown",
   "id": "f7605588",
   "metadata": {},
   "source": [
    "# A.4. Assignment\n",
    "\n",
    "## Fixed Income Module\n",
    "\n",
    "### DRW New-Hire Learning Program\n",
    "\n",
    "#### Summer 2022\n",
    "\n",
    "Questions?\n",
    "* Contact: Mark Hendricks\n",
    "* hendricks@uchicago.edu\n",
    "\n",
    "\n",
    "### Instructions\n",
    "\n",
    "* Work on this in your group.\n",
    "* Don't spend more than 45 minutes on it during the 12-2pm break. (We want you to have time refresh and eat.)\n",
    "* We encourage you to do more on the problems in the afternoon/evening if able and interested."
   ]
  },
  {
   "cell_type": "markdown",
   "id": "2745f4d0",
   "metadata": {
    "heading_collapsed": true
   },
   "source": [
    "# 1 Forwards"
   ]
  },
  {
   "cell_type": "markdown",
   "id": "a6099802",
   "metadata": {
    "hidden": true
   },
   "source": [
    "Use the treasury issues in `'../data/selected_treasury_rates.xlsx.xlsx`. \n",
    "\n",
    "The selected treasuries are at nearly six-month intervals. Approximate that they mature at perfect 6-month intervals. (We are looking at them from the perspective of March 31, 2022.)\n",
    "\n",
    "## 1.1 \n",
    "Bootstrap the discount factor. Plot the answer in terms of discount factors and discount rates.\n",
    "\n",
    "## 1.2\n",
    "Use the discount factors to calculate the forward rate from $T_1=2$ to $T_2=2.5$.\n",
    "\n",
    "Do the same for $T_1=5$ to $T_2=5.5$.\n",
    "\n",
    "## 1.3\n",
    "Explain how an FRA between $T_1$ and $T_2$ would function. How is the rate calculated above involved?\n",
    "\n",
    "## 1.4\n",
    "Calculate the entire forward curve for rates from $T$ to $T+0.5$, ranging $T$ from 0.5 through 6.5.\n",
    "\n",
    "Plot the forward discount curve."
   ]
  },
  {
   "cell_type": "markdown",
   "id": "e33d3914",
   "metadata": {
    "heading_collapsed": true
   },
   "source": [
    "# 2 Floating rates"
   ]
  },
  {
   "cell_type": "markdown",
   "id": "db1c8aea",
   "metadata": {
    "heading_collapsed": true,
    "hidden": true
   },
   "source": [
    "## 2.1\n",
    "Use the data in `data/ref_rates.xlsx` to explore several key rates that are used as benchmarks for floating rates.\n",
    "* SOFR\n",
    "* Fed funds\n",
    "* 3-month T-bill yield\n",
    "\n",
    "Calculate the correlation between the three rates (filtering to the dates for which they all have reported values.)\n",
    "\n",
    "Do this correlation analysis for the data in\n",
    "* levels (as provided)\n",
    "* differences (day-over-day changes)\n",
    "\n",
    "## 2.2\n",
    "\n",
    "Consider the 7-year treasury listed in problem 1. Suppose that both its YTM and coupon rate go up by 0.5\\%. \n",
    "* What is the revised price of this Treasury?\n",
    "* Is this a surprise?"
   ]
  }
 ],
 "metadata": {
  "hide_input": false,
  "kernelspec": {
   "display_name": "Python 3 (ipykernel)",
   "language": "python",
   "name": "python3"
  },
  "language_info": {
   "codemirror_mode": {
    "name": "ipython",
    "version": 3
   },
   "file_extension": ".py",
   "mimetype": "text/x-python",
   "name": "python",
   "nbconvert_exporter": "python",
   "pygments_lexer": "ipython3",
   "version": "3.9.7"
  }
 },
 "nbformat": 4,
 "nbformat_minor": 5
}
