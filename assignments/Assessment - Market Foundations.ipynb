{
 "cells": [
  {
   "cell_type": "markdown",
   "id": "52dc740b",
   "metadata": {},
   "source": [
    "# Market Foundations Assessment\n",
    "\n",
    "## Modules A and B\n",
    "\n",
    "### DRW New-Hire Learning Program\n",
    "\n",
    "#### Summer 2022\n",
    "\n",
    "Questions?\n",
    "* Contact: Mark Hendricks\n",
    "* hendricks@uchicago.edu\n",
    "\n",
    "\n",
    "## Instructions\n",
    "* Work on this **individually**. \n",
    "* Do not collaborate with your anyone directly or indirectly.\n",
    "* Feel free to use any of our course resources without attribution.\n",
    "* You are welcome to use any other (non-collaborative) sources, but be sure to cite them."
   ]
  },
  {
   "cell_type": "markdown",
   "id": "f7605588",
   "metadata": {},
   "source": [
    "## Submission\n",
    "* Due by 8am on Monday, July 25, 2022.\n",
    "* Submit a single file as your answer, .pdf preferred. Also may upload .xlsx. \n",
    "* Note you are NOT submitting a Jupyter Notebook. Feel free to do the work in Jupyter and export it as a pdf. But you may find it easier to write up your answers in .docx and convert to pdf.\n",
    "\n",
    "Submit your (single file) submission via the Microsoft Form at the link below:\n",
    "\n",
    "https://forms.office.com/Pages/ResponsePage.aspx?id=32X9kXLpl0GW-w0_WxbAmCxyD1LeV1dPoWGT_PWEZutUOU5UVkpJV0lDWVJUNThaRk9QVlRSSEVJSi4u"
   ]
  },
  {
   "cell_type": "markdown",
   "id": "8b3f116b",
   "metadata": {},
   "source": [
    "## Data\n",
    "A few problems in this assessment rely on data in\n",
    "`data/assessment_data.xlsx`"
   ]
  },
  {
   "cell_type": "markdown",
   "id": "c4f31467",
   "metadata": {},
   "source": [
    "# 1. Swap Spread Trade\n",
    "\n",
    "Suppose it is Aug 15, 2020. We observe the following:\n",
    "* 7-year T-note (newly issued) has a price of par, with a coupon of 0.50%.\n",
    "* 7-year swap (semi-annual, SOFR) has a swap rate of 0.25%.\n",
    "\n",
    "Set up the following **swap spread trade** on notional of \\$200 million.\n",
    "* repo the 7-year treasury bond\n",
    "    - Buy treasuries, immediately repo them. \n",
    "    - Thus, you are receiving the T-note coupon, paying the repo rate (SOFR). \n",
    "* enter long a 7-year SOFR swap\n",
    "    - Pay the swap rate, receive SOFR. \n",
    "\n",
    "Simplifications:\n",
    "* No haircut on the repo. Thus, no capital is being used.\n",
    "* The swap is a semiannual swap, based on SOFR, without any spread. \n",
    "* The repo is 6-month terms, rolled over, with the same timing of the swap. i.e. You pay the repo rate (SOFR) on the same days you receive the SOFR swap payment (SOFR). So these cancel out.\n",
    "* No counterparty risk in the swap or the repo.\n",
    "* The calendar works out to be exactly six month intervals from Aug 15, 2020."
   ]
  },
  {
   "cell_type": "markdown",
   "id": "1ae4b149",
   "metadata": {},
   "source": [
    "## 1.1\n",
    "\n",
    "List the cashflows over the first two years of this trade, through Aug 15, 2022. \n",
    "\n",
    "*No need to worry about exact dates, just consider four 6-month intervals.*\n",
    "\n",
    "## 1.2\n",
    "\n",
    "**Approximately**, what is the duration of...\n",
    "* the T-note\n",
    "* the long swap\n",
    "* the net position\n",
    "\n",
    "*Give a conceptual answer to this, no formulas or calculations needed.*"
   ]
  },
  {
   "cell_type": "markdown",
   "id": "8e662648",
   "metadata": {},
   "source": [
    "## 1.3\n",
    "\n",
    "Suppose that it is August 15, 2022, immediately after the swap has reset and the cashflows of the trade were settled.\n",
    "\n",
    "In the market, we observe the following:\n",
    "* The 5-year swap rate is 2.58%.\n",
    "* The 5-year Treasury is 3.18%.\n",
    "\n",
    "Would you rather close out this trade or add to it, (increase the size of it at today's rates?)\n",
    "\n",
    "*Answer conceptually, no serious calculation needed.*"
   ]
  },
  {
   "cell_type": "markdown",
   "id": "0acf842f",
   "metadata": {},
   "source": [
    "## 1.4\n",
    "\n",
    "Suppose that you are told you need to unwind the trade for external reasons, (capital budgeting, etc.)\n",
    "\n",
    "What is the Aug 15, 2022 price of\n",
    "* the swap (5 years remaining)\n",
    "* the T-note (5 years remaining)\n",
    "\n",
    "The Treasury discount factors are as provided in the tab, `treasury discount factors`.\n",
    "* These are the discount factors, $Z(t,T)$, which give the present value of a cash flow in the future. \n",
    "* They are provided in terms of time-to-maturity rather than a specific calendar date.\n",
    "\n",
    "#### Hint:\n",
    "* Price the T-note with the Treasury discount factors.\n",
    "* Price the swap with the swap rate, not the Treasury discount factors. Consider the swap position as fixed-minus-floating bonds (5-year). The swap rate and yield-to-maturity formula will price the fixed portion."
   ]
  },
  {
   "cell_type": "markdown",
   "id": "cdfccca4",
   "metadata": {},
   "source": [
    "## 1.5\n",
    "\n",
    "What is \n",
    "* the profit (loss) from closing out the trade? \n",
    "* the total profit (loss) from the two-year trade? (Just adding the net cashflows from 1.1 to your previous answer.)\n",
    "\n",
    "Is there a major risk in this trade that duration is not measuring?"
   ]
  },
  {
   "cell_type": "markdown",
   "id": "a14320cb",
   "metadata": {},
   "source": [
    "# 2 Stack and Roll"
   ]
  },
  {
   "cell_type": "markdown",
   "id": "cbb0b9c5",
   "metadata": {},
   "source": [
    "The data in the tab `gold futures` gives a small sample of price data on two different contracts.\n",
    "\n",
    "Consider a strategy of \n",
    "* buying **1** front contract at the end of Feb 18, 2022. \n",
    "* rolling it, (still one contract,) at the end of Feb 24, 2022\n",
    "* exiting your position at the end of March 1, 2022.\n",
    "\n",
    "The contract size is 100, so even for one contract, the contract price is 100x the price shown in the series."
   ]
  },
  {
   "cell_type": "markdown",
   "id": "e8bdfe75",
   "metadata": {},
   "source": [
    "## 2.1\n",
    "\n",
    "Report the \n",
    "* daily profit (loss) throughout the trade.\n",
    "* total profit\n",
    "\n",
    "## 2.2\n",
    "Based on this short sample, (no need to look at further data,) would you conclude that gold is in backwardation or contango? Explain why."
   ]
  },
  {
   "cell_type": "markdown",
   "id": "513889af",
   "metadata": {},
   "source": [
    "## 2.3\n",
    "Given your answer above, do you expect that there is a positive or negative carry (storage - yield) to gold. Again, answer just on the basis of this short data sample.\n",
    "\n",
    "## 2.4\n",
    "Regardless of your answers above, suppose that today we observe the gold futures curve in steep contango over the next year. What trade would you suggest putting on?\n",
    "\n",
    "## 2.5\n",
    "Suppose that instead you had a **continuous** futures series, (GC1), which reports the price of the front contract on any given day. You naively take the day-over-day difference of this series to calculate a history of profit (loss) to holding gold.\n",
    "\n",
    "Do you suspect it would underreport or overreport the profits of holding gold? Why?"
   ]
  },
  {
   "cell_type": "markdown",
   "id": "f99ef95e",
   "metadata": {},
   "source": [
    "# 3 Options"
   ]
  },
  {
   "cell_type": "markdown",
   "id": "c23e3f1a",
   "metadata": {},
   "source": [
    "Suppose we observe the following in the market on July 22, 2022:\n",
    "\n",
    "SPY \n",
    "* trading at \\$399.00.\n",
    "\n",
    "SPY options\n",
    "* expiring Aug 1, 2022.\n",
    "* strike of \\$400.00\n",
    "* call price = \\$4.45\n",
    "* put price = \\$6.10\n",
    "\n",
    "A (continuously compounded, annualized) interest rate of 1.50\\%.\n",
    "\n",
    "Simplifications:\n",
    "* Assume the time-to-expiration is $\\frac{10}{360}$ years.\n",
    "* Assume there are no dividends.\n",
    "* Assume it is European style."
   ]
  },
  {
   "cell_type": "markdown",
   "id": "7da01346",
   "metadata": {},
   "source": [
    "## 3.1\n",
    "\n",
    "Given the market quotes above, is the market overpricing or underpricing the call relative to the put?\n",
    "\n",
    "What would put-call parity give as the value of the call minus put, $c_t-p_t$?\n",
    "\n",
    "## 3.2\n",
    "\n",
    "How would you take advantage of the mispricing? Specify the arbitrage trade.\n",
    "\n",
    "## 3.3\n",
    "Suppose now that the option is an American option. Specify the put-call parity bounds on the call-put spread.\n",
    "\n",
    "Is the market quote within these bounds?"
   ]
  },
  {
   "cell_type": "markdown",
   "id": "3510e538",
   "metadata": {},
   "source": [
    "## 3.4\n",
    "\n",
    "True or False:\n",
    "* Both a put and call have higher value if volatility goes up.\n",
    "* A put option value is higher with higher interest rates.\n",
    "* A put option value is positively related to the underlying stock's dividend. \n",
    "\n",
    "## 3.5\n",
    "True or False:\n",
    "* For a given expiration, the call maximizes **delta** when it is at-the-money.\n",
    "* For a given expiration, the call maximizes **gamma** when it is at-the-money.\n",
    "* For a given expiration, the call maximizes **theta** when it is at-the-money."
   ]
  },
  {
   "cell_type": "markdown",
   "id": "4a6d2018",
   "metadata": {},
   "source": [
    "# 4 Forwards and FX"
   ]
  },
  {
   "cell_type": "markdown",
   "id": "876046a4",
   "metadata": {},
   "source": [
    "## 4.1 Rate Forwards\n",
    "\n",
    "Use the discount factors provided in `discount factors` to calculate the **forward discount factor** covering the period from 6-12 months from now. Report this forward discount factor.\n",
    "\n",
    "Also, convert the forward discount factor to an annualized continuously-compounded forward rate.\n",
    "\n",
    "\n",
    "## 4.2 FX Forward\n",
    "Suppose that we observe the following market quotes:\n",
    "* USD interest rate is 1.50\\% over the next year.\n",
    "* Euro interest rate is 1.00\\% over the next year.\n",
    "* The (spot) exchange rate is \\$1.02 per euro.\n",
    "\n",
    "What is the (one year) forward exchange rate?\n",
    "\n",
    "## 4.3 FX Returns\n",
    "Suppose that in a year, the (spot) exchange rate is \\$1.05 per euro.\n",
    "\n",
    "What is the return to a USD investor of holding euros over this period? Express your answer as the spread over the return to having simply held dollars. That is, give the **excess** return to holding Euros over this period."
   ]
  }
 ],
 "metadata": {
  "hide_input": false,
  "kernelspec": {
   "display_name": "Python 3 (ipykernel)",
   "language": "python",
   "name": "python3"
  },
  "language_info": {
   "codemirror_mode": {
    "name": "ipython",
    "version": 3
   },
   "file_extension": ".py",
   "mimetype": "text/x-python",
   "name": "python",
   "nbconvert_exporter": "python",
   "pygments_lexer": "ipython3",
   "version": "3.9.7"
  }
 },
 "nbformat": 4,
 "nbformat_minor": 5
}
