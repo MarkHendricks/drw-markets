{
 "cells": [
  {
   "cell_type": "markdown",
   "id": "f7605588",
   "metadata": {},
   "source": [
    "# B.3. Assignment\n",
    "\n",
    "## Module B: Currency, Commodities, and Equity\n",
    "\n",
    "### DRW New-Hire Learning Program\n",
    "\n",
    "#### Summer 2022\n",
    "\n",
    "Questions?\n",
    "* Contact: Mark Hendricks\n",
    "* hendricks@uchicago.edu\n",
    "\n",
    "\n",
    "### Instructions\n",
    "\n",
    "* Work on this in your group.\n",
    "* Don't spend more than **60** minutes on it during the 12-2pm break. (We want you to have time refresh and eat.)\n",
    "* We encourage you to do more on the problems in the afternoon/evening."
   ]
  },
  {
   "cell_type": "markdown",
   "id": "beb746ad",
   "metadata": {},
   "source": [
    "# Core Analysis\n",
    "\n",
    "## 1 Calculating Returns"
   ]
  },
  {
   "cell_type": "markdown",
   "id": "2745f4d0",
   "metadata": {},
   "source": [
    "Use the data in `data/equity_data.xlsx`\n",
    "* tab `prices AAPL`: columns `Unadjusted Price` and `Adjusted Price`\n",
    "* tab  `dividends AAPL`: columns `ex_date` and `dividend_amount`\n",
    "\n",
    "### 1.1\n",
    "For the most recent 2 dividend dates, calculate the return to AAPL using the unadjusted price and the dividend amount. \n",
    "\n",
    "How close is this to the return calculated from the adjusted price growth?\n",
    "\n",
    "### 1.2\n",
    "For the most recent stock split, (see multiple in `dividend_amount` and indicated in the column `dividend_type`,) calculate the return to AAPL using the unadjusted price along with this split and dividend info.\n",
    "\n",
    "How close is this computed return to that calculated from the adjusted price growth?"
   ]
  },
  {
   "cell_type": "markdown",
   "id": "37358702",
   "metadata": {},
   "source": [
    "## 2 Stock Sensitivity\n",
    "\n",
    "Use the data in `data/equity_data.xlsx`, in the tab `etf history`.\n",
    "\n",
    "For the ETFs listed in `etf history`, calculate their percentage change over time. (These are adjusted prices, so this is a measure of their returns.)\n",
    "\n",
    "## 2.1\n",
    "Report the correlation table.\n",
    "\n",
    "## 2.2\n",
    "\n",
    "### Background\n",
    "Recall that in analyzing fixed income products, duration measures the percentage change of price with respect to a shift in rates:\n",
    "\n",
    "$$\\frac{dP}{P} = -D dr + \\epsilon$$\n",
    "\n",
    "This concept is duration is at the heart of much of the trading in fixed income.\n",
    "\n",
    "In equities, there is an analogous concept: a stock's **beta**:\n",
    "\n",
    "$$r_t = \\alpha + \\beta r^{\\text{SPY}}_t + \\epsilon_t$$\n",
    "\n",
    "This beta is analyzed with respect to many factors, but it is most widely analyzed with respect to the S&P 500 (or a similar, broad equity index. Thus the notation $r^{\\text{SPY}}_t$ on the right-hand side.\n",
    "\n",
    "### Calculation\n",
    "For each ETF return series, estimate the regression above. (You will estimate many regressions, in a loop, each using SPY as the right-hand-side factor.)\n",
    "\n",
    "Report these betas. Which ETF has the most overall stock-market risk?\n",
    "\n",
    "#### Hint: \n",
    "\n",
    "To estimate the regression, consider using the following approach:\n",
    "\n",
    "`from sklearn.linear_model import LinearRegression`\n",
    "\n",
    "`LinearRegression().fit(X,y).coef_`"
   ]
  },
  {
   "cell_type": "markdown",
   "id": "fbcf0ca0",
   "metadata": {},
   "source": [
    "***"
   ]
  },
  {
   "cell_type": "markdown",
   "id": "f7b07bf0",
   "metadata": {},
   "source": [
    "# Extra Analysis"
   ]
  },
  {
   "cell_type": "markdown",
   "id": "401aaf88",
   "metadata": {},
   "source": [
    "## 3 Factor Structure of Stocks\n",
    "\n",
    "Why is the \"market\" (often meaning S&P500) beta so popular as a risk factor for equities? It is because, (like fixed income with rates,) there is a strong factor structure. That is, many stocks have a lot of correlation to the S&P 500.\n",
    "\n",
    "To see this factor structure statistically, use `spx_returns_weekly.xlsx`, to do a principal component analysis (PCA) of S&P 500 returns.\n",
    "\n",
    "### 3.1 \n",
    "Calculate the variance explained by each PCA factor. List the top 5. How important is the first factor in explaining everything? Are the other factors important?\n",
    "\n",
    "#### Hint\n",
    "\n",
    "If the returns are in a pandas dataframe, `rets`, try using\n",
    "\n",
    "`from sklearn.decomposition import PCA`\n",
    "\n",
    "`pca = PCA(svd_solver='full')`\n",
    "\n",
    "`pca.fit(rets)`\n",
    "\n",
    "`pca.explained_variance_ratio_[0:5]`\n",
    "\n",
    "### 3.2\n",
    "\n",
    "Calculate the weights of the first PCA factor.\n",
    "* Calculate the PCA loadings\n",
    "* Normalize them to sum to 1\n",
    "\n",
    "Make a bar chart of these (451!) weights.\n",
    "\n",
    "How would you describe this factor? For instance, is it long-only? Is it long-short many securities?\n",
    "\n",
    "Do the same for the second factor. How would you describe it?\n",
    "\n",
    "#### Hint\n",
    "The first row of `pca.components_` is what you need.\n",
    "\n",
    "\n",
    "### 3.3\n",
    "How similar is the first PC to SPY? \n",
    "\n",
    "1. Load SPY returns from `equity_data.xlsx`, tab `etf history`. Resample SPY into weekly returns.\n",
    "\n",
    "2. Use the weights for the first PC factor and multiply them by the securities to get the timeseries of PC 1 factor returns.\n",
    "\n",
    "3. Compare the (weekly-Friday) PC factor returns with the (weekly-Friday) SPY returns.\n",
    "\n",
    "What is the correlation between them?\n",
    "\n",
    "#### Hint\n",
    "Try `spy.resample('W-Friday').last().pct_change()` if `spy` is the pandas dataframe with spy prices."
   ]
  }
 ],
 "metadata": {
  "hide_input": false,
  "kernelspec": {
   "display_name": "Python 3 (ipykernel)",
   "language": "python",
   "name": "python3"
  },
  "language_info": {
   "codemirror_mode": {
    "name": "ipython",
    "version": 3
   },
   "file_extension": ".py",
   "mimetype": "text/x-python",
   "name": "python",
   "nbconvert_exporter": "python",
   "pygments_lexer": "ipython3",
   "version": "3.9.7"
  }
 },
 "nbformat": 4,
 "nbformat_minor": 5
}
