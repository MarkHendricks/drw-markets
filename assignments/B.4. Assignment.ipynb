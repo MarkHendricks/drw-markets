{
 "cells": [
  {
   "cell_type": "markdown",
   "id": "f7605588",
   "metadata": {},
   "source": [
    "# B.4. Assignment\n",
    "\n",
    "## Module B: Currency, Commodities, and Equity\n",
    "\n",
    "### DRW New-Hire Learning Program\n",
    "\n",
    "#### Summer 2022\n",
    "\n",
    "Questions?\n",
    "* Contact: Mark Hendricks\n",
    "* hendricks@uchicago.edu\n",
    "\n",
    "\n",
    "### Instructions\n",
    "\n",
    "* Work on this in your group.\n",
    "* Don't spend more than **60** minutes on it during the 12-2pm break. (We want you to have time refresh and eat.)\n",
    "* We encourage you to do more on the problems in the afternoon/evening."
   ]
  },
  {
   "cell_type": "markdown",
   "id": "26e695b3",
   "metadata": {},
   "source": [
    "# Core Analysis"
   ]
  },
  {
   "cell_type": "markdown",
   "id": "40c586b1",
   "metadata": {},
   "source": [
    "Use the data in `data/options_chain.xlsx` regarding `TSLA` as quoted as of July 20, 2022."
   ]
  },
  {
   "cell_type": "markdown",
   "id": "89e75fdd",
   "metadata": {},
   "source": [
    "## 1 The Option Chain\n",
    "\n",
    "\n",
    "\n",
    "### 1.1\n",
    "Using\n",
    "* expiration = Aug 19, 2022\n",
    "\n",
    "Plot the market quoted prices of the puts and calls throughout the chain. Plot them against the expiration date.\n",
    "\n",
    "### 1.2\n",
    "Make the same plot, but instead of market prices of puts and calls, plot the implied volatility of each against the expiration date.\n",
    "\n",
    "What do you notice about this graph? (We will be discussing implied volatility more tomorrow. For now, just focus on the main feature of the graph.)\n",
    "\n",
    "### 1.3\n",
    "\n",
    "Suppose that we want to buy 100 units of\n",
    "* Dec 16 puts at strike of \\\\$650\n",
    "* Dec 16 calls at strike of \\\\$850\n",
    "\n",
    "*Ignore contract sizes, just scale everything by 100 \"units\".\n",
    "\n",
    "\n",
    "What is the net cost to set up this position today?\n",
    "\n",
    "Make a plot of the total net profit on Dec 16, as a function of the future stock price. Include the cost of setting up the position in the net profit."
   ]
  },
  {
   "cell_type": "markdown",
   "id": "beb746ad",
   "metadata": {},
   "source": [
    "## 2 Put-Call Parity"
   ]
  },
  {
   "cell_type": "markdown",
   "id": "2745f4d0",
   "metadata": {},
   "source": [
    "For the analysis, focus on the options with\n",
    "* expiration = Aug 19, 2022\n",
    "* strike = \\$730\n",
    "\n",
    "For the interest rate, use SOFR.\n",
    "* The 3-month Tbill rate is provided if you want to additionally try that to see the difference.\n",
    "\n",
    "### 2.1\n",
    "\n",
    "If this were a Euorpean option, what would put-call parity suggest the price of the call should be? \n",
    "* Note that TSLA does not pay dividends.\n",
    "\n",
    "### 2.2\n",
    "Compare this to the actual price of the call.\n",
    "\n",
    "Suppose that we trust the put-call parity relationship more than the market quote of the call. What trade does this suggest? Be specific.\n",
    "\n",
    "### 2.3\n",
    "Now consider that this is an American option, so put-call parity gives an interval of prices rather than a specific price. \n",
    "\n",
    "Report this range. Is the market quote inside the interval?\n",
    "\n",
    "### 2.4\n",
    "\n",
    "Redo the problem above, but this time for the TSLA calls with\n",
    "* maturity = Dec 16, 2022\n",
    "* strike = 800"
   ]
  },
  {
   "cell_type": "markdown",
   "id": "fbcf0ca0",
   "metadata": {},
   "source": [
    "***"
   ]
  },
  {
   "cell_type": "markdown",
   "id": "f7b07bf0",
   "metadata": {},
   "source": [
    "# Extra Analysis"
   ]
  },
  {
   "cell_type": "markdown",
   "id": "ffe8ea41",
   "metadata": {},
   "source": [
    "## 3 Black-Scholes\n",
    "\n",
    "Consider the put and call options on TSLA\n",
    "* Strike = 750\n",
    "* Expiration = August 19, 2022.\n",
    "\n",
    "Though these are American options, ignore that and treat them as European.\n",
    "\n",
    "### 3.1 \n",
    "Use Black-Scholes to calculate today's value of the put and call.\n",
    "* Assume annualized volatility of 55\\%.\n",
    "\n",
    "Graph the value of the call against the price of the stock, holding the time-to-maturity constant at today.\n",
    "\n",
    "### 3.2\n",
    "Instead of assuming a volatility and solving for the call value, do the opposite. Assume the call value is the market's quoted price. Solve for the implied volatility that makes this true.\n",
    "\n",
    "Report the calculated implied volatility.\n",
    "\n",
    "#### Hint\n",
    "For solving for the implied volatility, you may want to use\n",
    "`from scipy.optimize import fsolve`\n",
    "\n",
    "### 3.3\n",
    "Re-do the previous questions for the put options on TSLA\n",
    "* Strike = 900\n",
    "* Expiration = December 16, 2022."
   ]
  }
 ],
 "metadata": {
  "hide_input": false,
  "kernelspec": {
   "display_name": "Python 3 (ipykernel)",
   "language": "python",
   "name": "python3"
  },
  "language_info": {
   "codemirror_mode": {
    "name": "ipython",
    "version": 3
   },
   "file_extension": ".py",
   "mimetype": "text/x-python",
   "name": "python",
   "nbconvert_exporter": "python",
   "pygments_lexer": "ipython3",
   "version": "3.9.7"
  }
 },
 "nbformat": 4,
 "nbformat_minor": 5
}
