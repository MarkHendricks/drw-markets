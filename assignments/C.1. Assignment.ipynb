{
 "cells": [
  {
   "cell_type": "markdown",
   "id": "f7605588",
   "metadata": {},
   "source": [
    "# C.1. Assignment\n",
    "\n",
    "## Module C: Options\n",
    "\n",
    "### DRW New-Hire Learning Program\n",
    "\n",
    "#### Summer 2022\n",
    "\n",
    "Questions?\n",
    "* Contact: Mark Hendricks\n",
    "* hendricks@uchicago.edu\n",
    "\n",
    "\n",
    "### Instructions\n",
    "\n",
    "* Work on this individually or with your colleagues. No assigned groups.\n",
    "* We encourage you to do more on the problems in the afternoon/evening."
   ]
  },
  {
   "cell_type": "markdown",
   "id": "9fd45132",
   "metadata": {},
   "source": [
    "# Context"
   ]
  },
  {
   "cell_type": "markdown",
   "id": "50a88a9a",
   "metadata": {},
   "source": [
    "Use the same interest rate tree and bond-price tree shown in the C.1. Notes, and used in pricing the interest rate floor derivative."
   ]
  },
  {
   "cell_type": "markdown",
   "id": "c21e15b7",
   "metadata": {},
   "source": [
    "# Pricing a Swap\n",
    "\n",
    "Consider a single-period swap that pays at time period 1 (t=0.5), the expiration payoff (and thus terminal value) is\n",
    "$$\\frac{100}{2}(r_1 −c)$$\n",
    "* with $c=2\\%$\n",
    "* payments are semiannual\n",
    "\n",
    "Take the viewpoint of a fixed-rate payer, floating rate receiver.\n",
    "\n",
    "## 1.1 What is the replicating trade using the two bonds (period 1 and period 2) as above?\n",
    "\n",
    "## 1.2 What is the price of the swap?\n",
    "\n",
    "## 1.3 What is the risk-neutral probability?\n",
    "\n",
    "## Extra 1.4\n",
    "Use the period-2 swap (priced above) and the period-1 ($t=0.5$) bond to replicate the interest-rate option first discussed above, (the \"put\" on the interest rate.)\n",
    "\n",
    "So instead of replicating the option with the two treasuries, now you're replicating/pricing it with a one-period bond and two-period swap.\n",
    "\n",
    "Do you get the same answer?"
   ]
  },
  {
   "cell_type": "markdown",
   "id": "87504311",
   "metadata": {},
   "source": [
    "# Pricing a Call on a Bond\n",
    "\n",
    "Try using the same tree to price a call on the period-2 bond, (1-year), at period 1 (6-months).\n",
    "* Payoff = $\\max(P_{1|2}-K,0)$\n",
    "* Strike = \\$99.00\n",
    "\n",
    "## 2.1 What is the replicating trade using the two bonds (period 1 and period 2) as above?\n",
    "\n",
    "## 2.2 What is the price of the option?\n",
    "\n",
    "## 2.3 What is the risk-neutral probability?"
   ]
  }
 ],
 "metadata": {
  "hide_input": false,
  "kernelspec": {
   "display_name": "Python 3 (ipykernel)",
   "language": "python",
   "name": "python3"
  },
  "language_info": {
   "codemirror_mode": {
    "name": "ipython",
    "version": 3
   },
   "file_extension": ".py",
   "mimetype": "text/x-python",
   "name": "python",
   "nbconvert_exporter": "python",
   "pygments_lexer": "ipython3",
   "version": "3.9.7"
  }
 },
 "nbformat": 4,
 "nbformat_minor": 5
}
