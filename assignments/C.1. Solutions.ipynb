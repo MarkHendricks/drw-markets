{
 "cells": [
  {
   "cell_type": "markdown",
   "id": "f7605588",
   "metadata": {},
   "source": [
    "# C.1. Assignment\n",
    "\n",
    "## Module C: Options\n",
    "\n",
    "### DRW New-Hire Learning Program\n",
    "\n",
    "#### Summer 2022\n",
    "\n",
    "Questions?\n",
    "* Contact: Mark Hendricks\n",
    "* hendricks@uchicago.edu\n",
    "\n",
    "\n",
    "### Instructions\n",
    "\n",
    "* Work on this individually or with your colleagues. No assigned groups.\n",
    "* We encourage you to do more on the problems in the afternoon/evening."
   ]
  },
  {
   "cell_type": "markdown",
   "id": "9fd45132",
   "metadata": {},
   "source": [
    "# Context"
   ]
  },
  {
   "cell_type": "markdown",
   "id": "50a88a9a",
   "metadata": {},
   "source": [
    "Use the same interest rate tree and bond-price tree shown in the C.1. Notes, and used in pricing the interest rate floor derivative."
   ]
  },
  {
   "cell_type": "markdown",
   "id": "c21e15b7",
   "metadata": {},
   "source": [
    "# Pricing a Swap\n",
    "\n",
    "Consider a single-period swap that pays at time period 1 (t=0.5), the expiration payoff (and thus terminal value) is\n",
    "$$\\frac{100}{2}(r_1 −c)$$\n",
    "* with $c=2\\%$\n",
    "* payments are semiannual\n",
    "\n",
    "Take the viewpoint of a fixed-rate payer, floating rate receiver.\n",
    "\n",
    "### 1.1 \n",
    "What is the replicating trade using the two bonds (period 1 and period 2) as above?\n",
    "\n",
    "### 1.2 \n",
    "What is the price of the swap?\n",
    "\n",
    "### 1.3 \n",
    "What is the risk-neutral probability?\n",
    "\n",
    "### 1.4 Using the swaps as the reference security\n",
    "Use the period-2 swap (priced above) and the period-1 ($t=0.5$) bond to replicate the interest-rate option first discussed above, (the \"put\" on the interest rate.)\n",
    "\n",
    "So instead of replicating the option with the two treasuries, now you're replicating/pricing it with a one-period bond and two-period swap.\n",
    "\n",
    "Do you get the same answer?"
   ]
  },
  {
   "cell_type": "markdown",
   "id": "87504311",
   "metadata": {},
   "source": [
    "# 2. Pricing a Call on a Bond\n",
    "\n",
    "Try using the same tree to price a call on the period-2 bond, (1-year), at period 1 (6-months).\n",
    "* Payoff = $\\max(P_{1|2}-K,0)$\n",
    "* Strike = \\$99.00\n",
    "\n",
    "### 2.1 \n",
    "What is the replicating trade using the two bonds (period 1 and period 2) as above?\n",
    "\n",
    "### 2.2 \n",
    "What is the price of the option?\n",
    "\n",
    "### 2.3 \n",
    "What is the risk-neutral probability?"
   ]
  },
  {
   "cell_type": "markdown",
   "id": "1a465660",
   "metadata": {},
   "source": [
    "# **<span style=\"color:red\">Solutions</span>**"
   ]
  },
  {
   "cell_type": "code",
   "execution_count": 1,
   "id": "9cb58f40",
   "metadata": {},
   "outputs": [],
   "source": [
    "import numpy as np\n",
    "import pandas as pd"
   ]
  },
  {
   "cell_type": "code",
   "execution_count": 2,
   "id": "8a320d64",
   "metadata": {},
   "outputs": [],
   "source": [
    "t_grid = [.5,1,1.5]\n",
    "p_grid = [99.1338, 97.8925, 96.1531]\n",
    "y_grid = [1.74, 2.13, 2.62]\n",
    "\n",
    "quotes = pd.DataFrame({'price':p_grid, 'yield':y_grid},index=t_grid)\n",
    "quotes.index.name = 'time'"
   ]
  },
  {
   "cell_type": "code",
   "execution_count": 3,
   "id": "6eb5d078",
   "metadata": {},
   "outputs": [],
   "source": [
    "P1_2 = np.array([98.3193, 99.5261])\n",
    "\n",
    "FACE = 100\n",
    "\n",
    "NFREQ = 2\n",
    "\n",
    "r0 = .0174\n",
    "r1 = np.array([.0339, .0095])\n",
    "rK = .02\n",
    "\n",
    "dt = 0.5\n",
    "\n",
    "A = np.exp(r0*dt)\n",
    "Z = np.exp(-r0*dt)"
   ]
  },
  {
   "cell_type": "markdown",
   "id": "3e68e19f",
   "metadata": {},
   "source": [
    "## **<span style=\"color:red\">Solutions 1</span>**"
   ]
  },
  {
   "cell_type": "code",
   "execution_count": 4,
   "id": "5e7c8f8b",
   "metadata": {},
   "outputs": [
    {
     "data": {
      "text/plain": [
       "array([ 0.695, -0.525])"
      ]
     },
     "execution_count": 4,
     "metadata": {},
     "output_type": "execute_result"
    }
   ],
   "source": [
    "v1swap = FACE * (r1-rK)/NFREQ\n",
    "v1swap"
   ]
  },
  {
   "cell_type": "code",
   "execution_count": 5,
   "id": "8810b1e5",
   "metadata": {},
   "outputs": [
    {
     "data": {
      "text/plain": [
       "0.2594912064434709"
      ]
     },
     "execution_count": 5,
     "metadata": {},
     "output_type": "execute_result"
    }
   ],
   "source": [
    "beta = (v1swap[0] - v1swap[1]) / (P1_2[0] - P1_2[1])\n",
    "alpha = (v1swap[0] - beta * P1_2[0])/FACE\n",
    "\n",
    "v0swap = [alpha,beta] @ quotes['price'].iloc[0:2]\n",
    "v0swap"
   ]
  },
  {
   "cell_type": "code",
   "execution_count": 6,
   "id": "a9f15065",
   "metadata": {},
   "outputs": [
    {
     "data": {
      "text/plain": [
       "0.6448622316691163"
      ]
     },
     "execution_count": 6,
     "metadata": {},
     "output_type": "execute_result"
    }
   ],
   "source": [
    "pstar = (A * quotes['price'].iloc[1] - P1_2[1])/(P1_2[0] - P1_2[1])\n",
    "pstar"
   ]
  },
  {
   "cell_type": "code",
   "execution_count": 7,
   "id": "fd911553",
   "metadata": {},
   "outputs": [
    {
     "data": {
      "text/plain": [
       "0.2594647314911574"
      ]
     },
     "execution_count": 7,
     "metadata": {},
     "output_type": "execute_result"
    }
   ],
   "source": [
    "Z * np.array([pstar,1-pstar])@v1swap"
   ]
  },
  {
   "cell_type": "markdown",
   "id": "2d612699",
   "metadata": {},
   "source": [
    "### Swap-Based Option Pricing"
   ]
  },
  {
   "cell_type": "code",
   "execution_count": 8,
   "id": "c3ec8515",
   "metadata": {},
   "outputs": [
    {
     "data": {
      "text/plain": [
       "array([0.  , 1.05])"
      ]
     },
     "execution_count": 8,
     "metadata": {},
     "output_type": "execute_result"
    }
   ],
   "source": [
    "fud = FACE * (rK-r1)\n",
    "fud[fud<0] = 0\n",
    "fud"
   ]
  },
  {
   "cell_type": "code",
   "execution_count": 9,
   "id": "d2fa49ea",
   "metadata": {},
   "outputs": [
    {
     "data": {
      "text/plain": [
       "0.3696419169953733"
      ]
     },
     "execution_count": 9,
     "metadata": {},
     "output_type": "execute_result"
    }
   ],
   "source": [
    "beta = (fud[0] - fud[1]) / (v1swap[0] - v1swap[1])\n",
    "alpha = (fud[0] - beta * v1swap[0])/FACE\n",
    "\n",
    "f0 = [alpha,beta] @ np.array([quotes['price'].iloc[0],v0swap])\n",
    "f0"
   ]
  },
  {
   "cell_type": "code",
   "execution_count": 10,
   "id": "5de37761",
   "metadata": {},
   "outputs": [
    {
     "data": {
      "text/plain": [
       "0.6448841220701451"
      ]
     },
     "execution_count": 10,
     "metadata": {},
     "output_type": "execute_result"
    }
   ],
   "source": [
    "pstar = (A * v0swap - v1swap[1])/(v1swap[0] - v1swap[1])\n",
    "pstar"
   ]
  },
  {
   "cell_type": "code",
   "execution_count": 11,
   "id": "4e700fe4",
   "metadata": {},
   "outputs": [
    {
     "data": {
      "text/plain": [
       "0.36964175877587885"
      ]
     },
     "execution_count": 11,
     "metadata": {},
     "output_type": "execute_result"
    }
   ],
   "source": [
    "Z * np.array([pstar,1-pstar])@fud"
   ]
  },
  {
   "cell_type": "markdown",
   "id": "5af0318e",
   "metadata": {},
   "source": [
    "## Bond Call"
   ]
  },
  {
   "cell_type": "code",
   "execution_count": 12,
   "id": "d91e4f53",
   "metadata": {},
   "outputs": [
    {
     "data": {
      "text/plain": [
       "array([0.    , 0.5261])"
      ]
     },
     "execution_count": 12,
     "metadata": {},
     "output_type": "execute_result"
    }
   ],
   "source": [
    "K = 99\n",
    "fud = P1_2-K\n",
    "fud[fud<0] = 0\n",
    "fud"
   ]
  },
  {
   "cell_type": "code",
   "execution_count": 13,
   "id": "08a5fb36",
   "metadata": {},
   "outputs": [
    {
     "data": {
      "text/plain": [
       "0.18520820241072045"
      ]
     },
     "execution_count": 13,
     "metadata": {},
     "output_type": "execute_result"
    }
   ],
   "source": [
    "beta = (fud[0] - fud[1]) / (P1_2[0] - P1_2[1])\n",
    "alpha = (fud[0] - beta * P1_2[0])/FACE\n",
    "\n",
    "f0 = [alpha,beta] @ quotes['price'].iloc[0:2]\n",
    "f0"
   ]
  },
  {
   "cell_type": "code",
   "execution_count": 14,
   "id": "b8d34b2b",
   "metadata": {},
   "outputs": [
    {
     "data": {
      "text/plain": [
       "0.6448622316691163"
      ]
     },
     "execution_count": 14,
     "metadata": {},
     "output_type": "execute_result"
    }
   ],
   "source": [
    "pstar = (A * quotes['price'].iloc[1] - P1_2[1])/(P1_2[0] - P1_2[1])\n",
    "pstar"
   ]
  },
  {
   "cell_type": "code",
   "execution_count": 15,
   "id": "0e9ce633",
   "metadata": {},
   "outputs": [
    {
     "data": {
      "text/plain": [
       "0.18521953991589396"
      ]
     },
     "execution_count": 15,
     "metadata": {},
     "output_type": "execute_result"
    }
   ],
   "source": [
    "Z * np.array([pstar,1-pstar])@fud"
   ]
  }
 ],
 "metadata": {
  "hide_input": true,
  "kernelspec": {
   "display_name": "Python 3 (ipykernel)",
   "language": "python",
   "name": "python3"
  },
  "language_info": {
   "codemirror_mode": {
    "name": "ipython",
    "version": 3
   },
   "file_extension": ".py",
   "mimetype": "text/x-python",
   "name": "python",
   "nbconvert_exporter": "python",
   "pygments_lexer": "ipython3",
   "version": "3.9.7"
  }
 },
 "nbformat": 4,
 "nbformat_minor": 5
}
