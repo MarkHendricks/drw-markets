{
 "cells": [
  {
   "cell_type": "markdown",
   "id": "2ec9c3a4",
   "metadata": {},
   "source": [
    "# Git Tips\n",
    "\n",
    "### DRW New-Hire Learning Program\n",
    "\n",
    "#### Summer 2022\n",
    "\n",
    "Questions?\n",
    "* Contact: Mark Hendricks\n",
    "* hendricks@uchicago.edu"
   ]
  },
  {
   "cell_type": "markdown",
   "id": "697e9dee",
   "metadata": {},
   "source": [
    "# Pulling changes to the repo\n",
    "\n",
    "1. `cd 'U:git\\Week-1-Market-Foundations-2022\\FixedIncome(MarkHendricks)\\submissions'`\n",
    "1. `git config --global user.email johndoe@example.com`.\n",
    "(Do this just the first time submitting to this repo.)\n",
    "1. `git pull`\n",
    "\n",
    "**Error due to unresolved local changes**\n",
    "If you have changed files locally which are part of the online repo, it will not pull down.\n",
    "* This is to prevent you from accidentally pulling down the online repo and overwriting your local changes.\n",
    "* To resove this, you have a few options.\n",
    "\n",
    "Run `git status` to see what the conflict is. (i.e. which local files have been modified and are now in conflict.)\n",
    "\n",
    "## Recommended Fix\n",
    "Copy the files that are listed as modified over to a new subfolder. \n",
    "\n",
    "For instance, suppose you modified an \"Assignment\" file (by filling in your solution on the file.)\n",
    "* create a new folder, `solutions`. (Could be adjacent to the assignments file, or within it.)\n",
    "* copy the conflicted \"Assignments\" files into `solutions`.\n",
    "\n",
    "Or perhaps you modified class discussion notebooks and want to keep your changes. \n",
    "* create a new folder, `notes`\n",
    "* copy the conflicted \"notebooks\" files into `notes`.\n",
    "\n",
    "Once all the conflicted files (that you want to keep) are saved in newly created subfolders, restore the conflicted versions in the synced folders by reverting them back to the version on git.\n",
    "\n",
    "So if you only had conflicts in `assignments`, you could restore just those...\n",
    "* run `git restore ./assignments/`\n",
    "\n",
    "Or you could **restore** (ie revert) all conflicted files in the repo...\n",
    "* `git restore ./`\n",
    "\n",
    "Now you should be all set to do a git pull.\n",
    "* run `git status`. You should no longer see the conflicted files in the original locations. You'll see them as \"untracked\" in their new folders. That is fine.\n",
    "\n",
    "Run `git pull`."
   ]
  },
  {
   "cell_type": "markdown",
   "id": "90737eab",
   "metadata": {},
   "source": [
    "## Other ways to solve the conflict\n",
    "### Stash the local changes, update, then add back the changes\n",
    "If you want to deal with the conflicts later, stash them, pull down the new version, and then add them back. This will not permanently resolve the conflicts, and they'll cause the same issue next time you `git pull`.\n",
    "1. `git stash --include-untracked`\n",
    "1. `git pull`\n",
    "1. `git stash pop`\n",
    "\n",
    "### Extreme: Start new directory\n",
    "Clone the repo (as you did on July 11), but instead of creating a directory `git` and cloning the Week-X repo there, build a new directory `projects` adjacent to `git` and clone the Week-X repo there. Now you have a fresh repo.\n",
    "\n",
    "### Danger: Delete the local changes. \n",
    "#### CAREFUL, this will overwrite your local changes.\n",
    "Good option if the only changes were incidental to exploring the notebooks, and you don't care about saving any of this work.\n",
    "1. `git reset --hard`"
   ]
  },
  {
   "cell_type": "markdown",
   "id": "e3317444",
   "metadata": {},
   "source": [
    "# Submit Assignments\n",
    "\n",
    "### Description\n",
    "1. Put everyone's name at the top of the submission files.\n",
    "1. Put your assignment submissions in the `submissions` subfolder, in the subfolder corresponding to the correct week (A, B, ...).\n",
    "1. Open a terminal in JupyterHub.\n",
    "1. Do a git pull following the instructions above.\n",
    "\n",
    "Now...\n",
    "1. Name your group according to the week and group name. For example \"Agroup5\".\n",
    "For Week A, \n",
    "* the Zoom Group is 13\n",
    "* the front table on audience left is 1\n",
    "* the second table on audience left is 2\n",
    "* the last table on audience left is 7\n",
    "* the front 2 tables on audience right are 8\n",
    "* the last table on audience right is 12\n",
    "\n",
    "1. Create a **branch** of the github repo. Make the name of your branch your group name defined above.\n",
    "1. Add your change.\n",
    "1. Commit your change.\n",
    "1. Push your change to the github repo. (It won't actually change the repo, but it will show up as a request, which allows us to see the file.)\n",
    "1. Switch branch back to main."
   ]
  },
  {
   "cell_type": "markdown",
   "id": "26976d4d",
   "metadata": {},
   "source": [
    "### Code\n",
    "\n",
    "#### First do a git pull following instructions in earlier example\n",
    "1. `git checkout -b <nameofbranch>`\n",
    "1. `git add ./submissions`\n",
    "1. `git commit -m \"<nameofbranch>\"`\n",
    "1. `git push`\n",
    "1. `git checkout main`"
   ]
  },
  {
   "cell_type": "markdown",
   "id": "a07a455a",
   "metadata": {},
   "source": [
    "# Bonus: Conda Tip\n",
    "\n",
    "## Dealing with Missing Packages\n",
    "\n",
    "In running the notebooks, you will have sometimes want to import a package that is not in your environment.\n",
    "\n",
    "1. Open a terminal\n",
    "2. Run `conda install -n conda-meta <packagename>`\n",
    "\n",
    "Suppose the package is `scikit-learn`. Then,\n",
    "`conda install -n conda-meta scikit-learn`\n",
    "\n",
    "Restart your jupyter notebook, (restart the kernel.)"
   ]
  }
 ],
 "metadata": {
  "hide_input": false,
  "kernelspec": {
   "display_name": "Python 3 (ipykernel)",
   "language": "python",
   "name": "python3"
  },
  "language_info": {
   "codemirror_mode": {
    "name": "ipython",
    "version": 3
   },
   "file_extension": ".py",
   "mimetype": "text/x-python",
   "name": "python",
   "nbconvert_exporter": "python",
   "pygments_lexer": "ipython3",
   "version": "3.9.7"
  }
 },
 "nbformat": 4,
 "nbformat_minor": 5
}
