{
 "cells": [
  {
   "cell_type": "markdown",
   "id": "5cb1c4e4",
   "metadata": {},
   "source": [
    "# Caution\n",
    "\n",
    "This notebook relies on Yahoo Finance data.\n",
    "\n",
    "May give bad values if run during the day, possibly resulting in asynchronous data.\n",
    "\n",
    "Likely get better values at end-of-day."
   ]
  },
  {
   "cell_type": "code",
   "execution_count": 1,
   "id": "ad7af741",
   "metadata": {},
   "outputs": [],
   "source": [
    "import pandas as pd\n",
    "import numpy as np\n",
    "import datetime\n",
    "import warnings\n",
    "\n",
    "from sklearn.linear_model import LinearRegression\n",
    "from scipy.optimize import minimize\n",
    "\n",
    "import matplotlib.pyplot as plt\n",
    "%matplotlib inline\n",
    "plt.rcParams['figure.figsize'] = (12,6)\n",
    "plt.rcParams['font.size'] = 15\n",
    "plt.rcParams['legend.fontsize'] = 13\n",
    "\n",
    "import sys\n",
    "sys.path.insert(0, '../cmds')\n",
    "from options import *"
   ]
  },
  {
   "cell_type": "code",
   "execution_count": 2,
   "id": "529aa6ce",
   "metadata": {},
   "outputs": [],
   "source": [
    "import datetime\n",
    "import pandas_datareader.data as web\n",
    "import pandas_datareader as pdr\n",
    "import yfinance as yf"
   ]
  },
  {
   "cell_type": "code",
   "execution_count": 3,
   "id": "6e90e6a2",
   "metadata": {},
   "outputs": [],
   "source": [
    "TICK = 'TSLA'\n",
    "EXPRY = ['2022-08-19','2022-12-16']\n",
    "\n",
    "RF_SOFR = False\n",
    "\n",
    "TODAY = datetime.datetime.today()\n",
    "TODAY = pd.to_datetime(TODAY)\n",
    "today_str = TODAY.strftime('%Y-%m-%d')\n",
    "\n",
    "START_DATE = TODAY - datetime.timedelta(days=5)\n",
    "END_DATE = TODAY"
   ]
  },
  {
   "cell_type": "code",
   "execution_count": 4,
   "id": "3f7f3bfe",
   "metadata": {},
   "outputs": [],
   "source": [
    "sec = yf.Ticker(TICK)\n",
    "px = sec.history('1d',start=START_DATE,end=END_DATE)['Close']\n",
    "\n",
    "QDATE = px.index[-1]\n",
    "qdate_label = QDATE.strftime('%Y-%m-%d')\n",
    "\n",
    "if qdate_label != today_str:\n",
    "    warnings.warn('Quote date is not as expected.')"
   ]
  },
  {
   "cell_type": "code",
   "execution_count": 5,
   "id": "a2413ca0",
   "metadata": {},
   "outputs": [],
   "source": [
    "### Using SOFR from previous day, as not published until day after\n",
    "TICKRF = 'SOFR'\n",
    "sofr = pdr.DataReader(TICKRF, data_source='fred', start=START_DATE,end=END_DATE)\n",
    "\n",
    "tbill = yf.Ticker('^IRX')\n",
    "tbill = tbill.history(start=START_DATE, end=END_DATE)[['Close']].rename(columns={'Close':'TBill (3mo)'})\n",
    "tbill.name = 'TBill (3mo)'"
   ]
  },
  {
   "cell_type": "code",
   "execution_count": 6,
   "id": "06b70f87",
   "metadata": {},
   "outputs": [],
   "source": [
    "quotes = pd.DataFrame(columns=[sofr.columns[0],tbill.columns[0]], index=[QDATE] + [pd.to_datetime(expry) for expry in EXPRY], dtype=float)\n",
    "\n",
    "quotes.loc[QDATE] = [sofr.iloc[-1].values/100, tbill.loc[QDATE].values/100]\n",
    "\n",
    "quotes.loc[QDATE,f'{TICK}'] = px.loc[QDATE]\n",
    "quotes.index.name = 'date'"
   ]
  },
  {
   "cell_type": "markdown",
   "id": "b57b1baf",
   "metadata": {},
   "source": [
    "# Options"
   ]
  },
  {
   "cell_type": "code",
   "execution_count": 7,
   "id": "70184f6d",
   "metadata": {},
   "outputs": [],
   "source": [
    "calls= dict()\n",
    "puts = dict()\n",
    "\n",
    "for expry in EXPRY:\n",
    "    opts = sec.option_chain(expry)\n",
    "    calls[expry], puts[expry] = clean_options(opts.calls, opts.puts)"
   ]
  },
  {
   "cell_type": "markdown",
   "id": "e8f9fba6",
   "metadata": {},
   "source": [
    "# Export"
   ]
  },
  {
   "cell_type": "code",
   "execution_count": 8,
   "id": "b78c53e9",
   "metadata": {},
   "outputs": [],
   "source": [
    "outfile = '../data/options_chains_v2.xlsx'\n",
    "with pd.ExcelWriter(outfile) as writer:  \n",
    "    quotes.to_excel(writer, sheet_name= f'Market Quotes {qdate_label}', index=True)\n",
    "    \n",
    "    for expry in EXPRY:\n",
    "        calls[expry].to_excel(writer, sheet_name= f'CALLS {expry}', index=True)\n",
    "        puts[expry].to_excel(writer, sheet_name= f'PUTS {expry}', index=True)"
   ]
  }
 ],
 "metadata": {
  "hide_input": false,
  "kernelspec": {
   "display_name": "Python 3 (ipykernel)",
   "language": "python",
   "name": "python3"
  },
  "language_info": {
   "codemirror_mode": {
    "name": "ipython",
    "version": 3
   },
   "file_extension": ".py",
   "mimetype": "text/x-python",
   "name": "python",
   "nbconvert_exporter": "python",
   "pygments_lexer": "ipython3",
   "version": "3.9.7"
  }
 },
 "nbformat": 4,
 "nbformat_minor": 5
}
