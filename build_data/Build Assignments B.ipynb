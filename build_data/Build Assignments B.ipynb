{
 "cells": [
  {
   "cell_type": "code",
   "execution_count": 1,
   "id": "ad7af741",
   "metadata": {},
   "outputs": [],
   "source": [
    "import pandas as pd\n",
    "import numpy as np\n",
    "import datetime\n",
    "import warnings\n",
    "\n",
    "from sklearn.linear_model import LinearRegression\n",
    "from scipy.optimize import minimize\n",
    "\n",
    "import matplotlib.pyplot as plt\n",
    "%matplotlib inline\n",
    "plt.rcParams['figure.figsize'] = (12,6)\n",
    "plt.rcParams['font.size'] = 15\n",
    "plt.rcParams['legend.fontsize'] = 13\n",
    "\n",
    "import sys\n",
    "sys.path.insert(0, '../cmds')\n",
    "from treasury_cmds import *"
   ]
  },
  {
   "cell_type": "code",
   "execution_count": 2,
   "id": "529aa6ce",
   "metadata": {},
   "outputs": [],
   "source": [
    "import pandas_datareader.data as web\n",
    "import pandas_datareader as pdr\n",
    "\n",
    "import yfinance as yf"
   ]
  },
  {
   "cell_type": "code",
   "execution_count": 3,
   "id": "6e90e6a2",
   "metadata": {},
   "outputs": [],
   "source": [
    "QDATE = '2022-07-20'\n",
    "TICK = 'TSLA'\n",
    "sec = yf.Ticker(TICK)"
   ]
  },
  {
   "cell_type": "code",
   "execution_count": 4,
   "id": "a2413ca0",
   "metadata": {},
   "outputs": [],
   "source": [
    "START_DATE = '2022-07-15'\n",
    "END_DATE = '2022-07-21'\n",
    "TICKRF = 'SOFR'\n",
    "sofr = pdr.DataReader(TICKRF,data_source='fred', start=START_DATE,end=END_DATE)\n",
    "\n",
    "quotes = sofr.loc[QDATE]/100"
   ]
  },
  {
   "cell_type": "code",
   "execution_count": 5,
   "id": "06b70f87",
   "metadata": {},
   "outputs": [],
   "source": [
    "tbill = yf.Ticker('^IRX')\n",
    "quotes.loc['TBill (3mo)'] = tbill.history('1d')['Close'].iloc[-1]/100\n",
    "\n",
    "px = sec.history('1d',start=START_DATE,end=END_DATE)['Close']\n",
    "quotes.loc[f'{TICK}'] = px.loc[QDATE]\n",
    "\n",
    "quotes = quotes.to_frame().T"
   ]
  },
  {
   "cell_type": "markdown",
   "id": "b57b1baf",
   "metadata": {},
   "source": [
    "# Options"
   ]
  },
  {
   "cell_type": "code",
   "execution_count": 6,
   "id": "541927e9",
   "metadata": {},
   "outputs": [],
   "source": [
    "def filter_stale_quotes(opt_chain):\n",
    "    LDATE =opt_chain.sort_values('lastTradeDate')['lastTradeDate'].iloc[-1]\n",
    "    mask = list()\n",
    "\n",
    "    for idx in opt_chain.index:\n",
    "        dt = opt_chain.loc[idx,'lastTradeDate']\n",
    "        if (dt - LDATE).total_seconds()/3600 > -24:\n",
    "            mask.append(idx)\n",
    "    \n",
    "    return mask"
   ]
  },
  {
   "cell_type": "code",
   "execution_count": 7,
   "id": "a46b62cb",
   "metadata": {},
   "outputs": [],
   "source": [
    "def clean_options(calls_raw,puts_raw):\n",
    "    idx = filter_stale_quotes(calls_raw)\n",
    "    calls = calls_raw.loc[idx,:]\n",
    "    idx = filter_stale_quotes(puts_raw)\n",
    "    puts = puts_raw.loc[idx,:]\n",
    "\n",
    "    calls = calls[calls['volume'] > calls['volume'].quantile(.75)].set_index('contractSymbol')\n",
    "    puts = puts[puts['volume'] > puts['volume'].quantile(.75)].set_index('contractSymbol')\n",
    "    \n",
    "    calls['lastTradeDate'] = calls['lastTradeDate'].dt.tz_localize(None)\n",
    "    puts['lastTradeDate'] = puts['lastTradeDate'].dt.tz_localize(None)\n",
    "    \n",
    "    return calls, puts"
   ]
  },
  {
   "cell_type": "code",
   "execution_count": 8,
   "id": "70184f6d",
   "metadata": {},
   "outputs": [],
   "source": [
    "EXPRYDATE = '2022-08-19'\n",
    "opts = sec.option_chain(EXPRYDATE)\n",
    "calls, puts = clean_options(opts.calls, opts.puts)"
   ]
  },
  {
   "cell_type": "code",
   "execution_count": 9,
   "id": "76dabbf0",
   "metadata": {},
   "outputs": [],
   "source": [
    "EXPRYDATE_T = '2022-12-16'\n",
    "opts = sec.option_chain(EXPRYDATE)\n",
    "callsT, putsT = clean_options(opts.calls, opts.puts)"
   ]
  },
  {
   "cell_type": "code",
   "execution_count": 10,
   "id": "39c862a8",
   "metadata": {},
   "outputs": [],
   "source": [
    "#tau = (pd.to_datetime(EXPRYDATE) - pd.to_datetime(QDATE)).total_seconds()/(24*60*60)/365"
   ]
  },
  {
   "cell_type": "markdown",
   "id": "e8f9fba6",
   "metadata": {},
   "source": [
    "# Export"
   ]
  },
  {
   "cell_type": "code",
   "execution_count": 11,
   "id": "b78c53e9",
   "metadata": {},
   "outputs": [],
   "source": [
    "outfile = '../data/options_chains.xlsx'\n",
    "with pd.ExcelWriter(outfile) as writer:  \n",
    "    quotes.to_excel(writer, sheet_name= f'Market Quotes {QDATE}', index=True)\n",
    "    calls.to_excel(writer, sheet_name= f'{TICK} CALLS {EXPRYDATE}', index=True)\n",
    "    puts.to_excel(writer, sheet_name= f'{TICK} PUTS {EXPRYDATE}', index=True)\n",
    "    callsT.to_excel(writer, sheet_name= f'{TICK} CALLS {EXPRYDATE_T}', index=True)\n",
    "    putsT.to_excel(writer, sheet_name= f'{TICK} PUTS {EXPRYDATE_T}', index=True)"
   ]
  }
 ],
 "metadata": {
  "hide_input": false,
  "kernelspec": {
   "display_name": "Python 3 (ipykernel)",
   "language": "python",
   "name": "python3"
  },
  "language_info": {
   "codemirror_mode": {
    "name": "ipython",
    "version": 3
   },
   "file_extension": ".py",
   "mimetype": "text/x-python",
   "name": "python",
   "nbconvert_exporter": "python",
   "pygments_lexer": "ipython3",
   "version": "3.9.7"
  }
 },
 "nbformat": 4,
 "nbformat_minor": 5
}
