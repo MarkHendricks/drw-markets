{
 "cells": [
  {
   "cell_type": "code",
   "execution_count": 1,
   "id": "66467580",
   "metadata": {},
   "outputs": [],
   "source": [
    "import pandas as pd\n",
    "from xbbg import blp\n",
    "import matplotlib.pyplot as plt\n",
    "\n",
    "import string\n",
    "\n",
    "import sys\n",
    "sys.path.insert(0, '../cmds')\n",
    "from utils import *"
   ]
  },
  {
   "cell_type": "markdown",
   "id": "412e707d",
   "metadata": {},
   "source": [
    "# Parameters"
   ]
  },
  {
   "cell_type": "code",
   "execution_count": 2,
   "id": "fd113535",
   "metadata": {},
   "outputs": [],
   "source": [
    "SAVE_DATA = True\n",
    "\n",
    "STARTDATE = '2018-01-01'\n",
    "ENDDATE = '2022-05-29'"
   ]
  },
  {
   "cell_type": "markdown",
   "id": "eb669f04",
   "metadata": {},
   "source": [
    "# SOFR Futures"
   ]
  },
  {
   "cell_type": "code",
   "execution_count": 3,
   "id": "84bb2f5a",
   "metadata": {},
   "outputs": [],
   "source": [
    "ticks_futures = ['SOFRRATE Index','SFRU2 Comdty','SFRZ2 Comdty','SFRH3 Comdty','SFRM3 Comdty','SFRU3 Comdty','SFRZ3 Comdty','SFRA Comdty','SFR1 Comdty','SFR2 Comdty']\n",
    "\n",
    "futs = blp.bdh(tickers=ticks_futures, flds='last_price',\\\n",
    "        start_date=STARTDATE, end_date=ENDDATE).droplevel(level=1,axis=1)\n",
    "\n",
    "futs.index = pd.to_datetime(futs.index)"
   ]
  },
  {
   "cell_type": "code",
   "execution_count": 4,
   "id": "83277bed",
   "metadata": {},
   "outputs": [],
   "source": [
    "if SAVE_DATA:\n",
    "    outfile = f'../data/sofr_futures.xlsx'\n",
    "    with pd.ExcelWriter(outfile) as writer:  \n",
    "        futs.to_excel(writer, sheet_name= 'data', index=True)"
   ]
  },
  {
   "cell_type": "markdown",
   "id": "cf1cb028",
   "metadata": {},
   "source": [
    "# CME SOFR Indexes\n",
    "\n",
    "### Not using this currently."
   ]
  },
  {
   "cell_type": "code",
   "execution_count": 7,
   "id": "48cf2f52",
   "metadata": {},
   "outputs": [],
   "source": [
    "ticks_futures = ['TSFR1M Index','TSFR3M Index']\n",
    "maturities_futures = ['SOFR Future (CME) - 1mo','SOFR Future (CME) - 3mo']\n",
    "map_tick_des = dict(keys=maturities_futures, values=ticks_futures)"
   ]
  },
  {
   "cell_type": "code",
   "execution_count": 8,
   "id": "7cb2d3c2",
   "metadata": {},
   "outputs": [],
   "source": [
    "futs = blp.bdh(tickers=ticks_futures, flds='last_price',\\\n",
    "        start_date=STARTDATE, end_date=ENDDATE).droplevel(level=1,axis=1)\n",
    "\n",
    "futs.index = pd.to_datetime(futs.index)"
   ]
  },
  {
   "cell_type": "code",
   "execution_count": 9,
   "id": "791c282e",
   "metadata": {},
   "outputs": [],
   "source": [
    "info = pd.DataFrame(map_tick_des)\n",
    "info.columns = ['description','BB ticker']\n",
    "info = info.set_index('description').sort_index()"
   ]
  },
  {
   "cell_type": "code",
   "execution_count": 10,
   "id": "e805d7d7",
   "metadata": {},
   "outputs": [],
   "source": [
    "if SAVE_DATA:\n",
    "    outfile = f'../data/sofr_cme_indexes.xlsx'\n",
    "    with pd.ExcelWriter(outfile) as writer:  \n",
    "        info.to_excel(writer, sheet_name= 'info', index=True)\n",
    "        futs.to_excel(writer, sheet_name= 'data', index=True)"
   ]
  }
 ],
 "metadata": {
  "hide_input": false,
  "kernelspec": {
   "display_name": "Python 3 (ipykernel)",
   "language": "python",
   "name": "python3"
  },
  "language_info": {
   "codemirror_mode": {
    "name": "ipython",
    "version": 3
   },
   "file_extension": ".py",
   "mimetype": "text/x-python",
   "name": "python",
   "nbconvert_exporter": "python",
   "pygments_lexer": "ipython3",
   "version": "3.9.7"
  }
 },
 "nbformat": 4,
 "nbformat_minor": 5
}
