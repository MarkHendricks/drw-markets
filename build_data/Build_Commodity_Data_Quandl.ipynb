{
 "cells": [
  {
   "cell_type": "code",
   "execution_count": 1,
   "id": "ce4d57e3",
   "metadata": {},
   "outputs": [],
   "source": [
    "import pandas as pd\n",
    "import numpy as np\n",
    "\n",
    "import quandl\n",
    "import yfinance as yf\n",
    "import pandas_datareader.data as web"
   ]
  },
  {
   "cell_type": "code",
   "execution_count": 2,
   "id": "69685705",
   "metadata": {},
   "outputs": [],
   "source": [
    "file_key = open(\"../../../keys/quandl_key.txt\",\"r\")\n",
    "API_KEY = file_key.read()\n",
    "file_key.close()\n",
    "\n",
    "quandl.ApiConfig.api_key = API_KEY"
   ]
  },
  {
   "cell_type": "markdown",
   "id": "3b6510c3",
   "metadata": {},
   "source": [
    "# Parameters"
   ]
  },
  {
   "cell_type": "code",
   "execution_count": 3,
   "id": "937acc93",
   "metadata": {},
   "outputs": [],
   "source": [
    "#RF_SOURCE = 'FRED'\n",
    "RF_SOURCE = 'FRENCH'\n",
    "#RF_SOURCE = 'ETF'\n",
    "\n",
    "t0 = \"1990-12-31\"\n",
    "t1 = \"2022-04-30\""
   ]
  },
  {
   "cell_type": "markdown",
   "id": "e4b6c72d",
   "metadata": {},
   "source": [
    "# Commodity Data\n",
    "API required"
   ]
  },
  {
   "cell_type": "code",
   "execution_count": 4,
   "id": "c4104ba9",
   "metadata": {},
   "outputs": [],
   "source": [
    "info = pd.DataFrame(columns=['Asset Class','Name', 'Source', 'Ticker'])\n",
    "\n",
    "info.loc['CL1'] = ['Future','NYMEX Crude Oil Futures','Quandl','CHRIS/CME_CL1']                    \n",
    "info.loc['NG1'] = ['Future','NYMEX Natural Gas Futures','Quandl','CHRIS/CME_NG1']    \n",
    "info.loc['KC1'] = ['Future','Coffee Futures','Quandl','CHRIS/ICE_KC1']\n",
    "info.loc['CC1'] = ['Future','Cocoa Futures','Quandl','CHRIS/ICE_CC1']\n",
    "info.loc['LB1'] = ['Future','Lumber Futures','Quandl','CHRIS/CME_LB1']                    \n",
    "info.loc['CT1'] = ['Future','Cotton No. 2 Futures','Quandl','CHRIS/ICE_CT1']\n",
    "info.loc['SB1'] = ['Future','Sugar No. 11 Futures','Quandl','CHRIS/ICE_SB1']\n",
    "info.loc['LC1'] = ['Future','Cattle, CME Live Cattle Futures','Quandl','CHRIS/CME_LC1']    \n",
    "info.loc['W1'] = ['Future','Wheat, CBOT Wheat Futures','Quandl','CHRIS/CME_W1']    \n",
    "info.loc['S1'] = ['Future','Soybean, CBOT Soybean Futures','Quandl','CHRIS/CME_S1']    \n",
    "info.loc['C1'] = ['Future','Corn, CBOT Corn Futures','Quandl','CHRIS/CME_C1']    \n",
    "info.loc['GC1'] = ['Future','Gold, COMEX Gold Futures','Quandl','CHRIS/CME_GC1']    \n",
    "info.loc['SI1'] = ['Future','Silver, COMEX Silver Futures','Quandl','CHRIS/CME_SI1']\n",
    "info.loc['HG1'] = ['Future','Copper Futures','Quandl','CHRIS/CME_HG1']    \n",
    "info.loc['PA1'] = ['Future','Palladium, NYMEX Palladium Futures','Quandl','CHRIS/CME_PA1']\n",
    "\n",
    "info_futures = info[info['Asset Class'].str.contains('Future')]\n",
    "tickers_futures = list(info_futures['Ticker'])\n",
    "df = pd.DataFrame()\n",
    "for tick in tickers_futures:\n",
    "    df[tick] = quandl.get(tick, start_date=t0, end_date=t1)['Settle']\n",
    "\n",
    "df.columns = list(info_futures.index)"
   ]
  },
  {
   "cell_type": "code",
   "execution_count": 5,
   "id": "b4a01c8c",
   "metadata": {},
   "outputs": [],
   "source": [
    "prices = df.resample('M').last()\n",
    "rets = prices.pct_change()\n",
    "rets.dropna(inplace=True)"
   ]
  },
  {
   "cell_type": "markdown",
   "id": "1c6d0a8c",
   "metadata": {},
   "source": [
    "# Get Risk-free rate\n",
    "\n",
    "Use short-term treasury bills.\n",
    "\n",
    "Pros / cons of various sources.\n",
    "\n",
    "* Get it from Ken French database via pandas-datareader, but updated with a few months lag.\n",
    "* Could get it from FRED, but need API-KEY\n",
    "* Could use ETF like SHV, but only goes back to 2007"
   ]
  },
  {
   "cell_type": "code",
   "execution_count": 6,
   "id": "1654d7ce",
   "metadata": {},
   "outputs": [],
   "source": [
    "if RF_SOURCE=='FRED':\n",
    "    1+1\n",
    "\n",
    "elif RF_SOURCE=='FRENCH':\n",
    "    rawdata = web.DataReader('F-F_Research_Data_Factors', data_source='famafrench',start=t0,end=t1)\n",
    "    ff = rawdata[0] / 100\n",
    "    # convert the yyyy-mm to timestamp object. default is to put first of month, but should be end of month\n",
    "    ff = ff.to_timestamp().resample('M').last()\n",
    "    rf = ff[['RF']]\n",
    "    \n",
    "elif RF_SOURCE=='ETF':\n",
    "    shv_raw = yf.download(['SHV'], start=t0, end=t1)['Adj Close']\n",
    "    shv = shv_raw.resample('M').last()\n",
    "    rf = shv.pct_change().iloc[1:].to_frame()\n",
    "    rf.columns = ['RF']\n",
    "    \n",
    "info.loc['RF'] = RF_SOURCE"
   ]
  },
  {
   "cell_type": "code",
   "execution_count": 7,
   "id": "3a911582",
   "metadata": {},
   "outputs": [],
   "source": [
    "rets_all = rets.merge(rf,how='inner',on='Date')\n",
    "rets = rets_all.drop(columns=['RF'])\n",
    "retsx = rets_all.sub(rets_all['RF'],axis=0).drop(columns=['RF'])"
   ]
  },
  {
   "cell_type": "code",
   "execution_count": 8,
   "id": "52489b0a",
   "metadata": {},
   "outputs": [],
   "source": [
    "with pd.ExcelWriter('commodities_return_data.xlsx') as writer:  \n",
    "    info.to_excel(writer, sheet_name= 'descriptions')\n",
    "    rets.to_excel(writer, sheet_name='total returns')    \n",
    "    retsx.to_excel(writer, sheet_name='excess returns')"
   ]
  }
 ],
 "metadata": {
  "hide_input": false,
  "kernelspec": {
   "display_name": "Python 3 (ipykernel)",
   "language": "python",
   "name": "python3"
  },
  "language_info": {
   "codemirror_mode": {
    "name": "ipython",
    "version": 3
   },
   "file_extension": ".py",
   "mimetype": "text/x-python",
   "name": "python",
   "nbconvert_exporter": "python",
   "pygments_lexer": "ipython3",
   "version": "3.9.7"
  }
 },
 "nbformat": 4,
 "nbformat_minor": 5
}
