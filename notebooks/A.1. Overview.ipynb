{
 "cells": [
  {
   "cell_type": "markdown",
   "id": "f7605588",
   "metadata": {},
   "source": [
    "# A.1. Overview\n",
    "\n",
    "## Fixed Income Module\n",
    "\n",
    "### DRW New-Hire Learning Program\n",
    "\n",
    "#### Summer 2022\n",
    "\n",
    "Questions?\n",
    "* Contact: Mark Hendricks\n",
    "* hendricks@uchicago.edu"
   ]
  },
  {
   "cell_type": "markdown",
   "id": "56f5a930",
   "metadata": {},
   "source": [
    "# Pop Quiz\n",
    "\n",
    "\n",
    "https://PollEv.com/surveys/HgGgn2MaEpwhQ1HoAcibl/respond"
   ]
  },
  {
   "cell_type": "markdown",
   "id": "43198814",
   "metadata": {},
   "source": [
    "# This Course\n",
    "\n",
    "## Objectives\n",
    "\n",
    "The main objective is **context**!\n",
    "\n",
    "* We are not hear to cram and memorize everythinig you will need to know. \n",
    "* You will be learning at your job and through other continuing education opportunities. \n",
    "\n",
    "That learning will be faster and deeper if you have\n",
    "* foundations (tools, terminology)\n",
    "* context (map, questions, data)\n",
    "\n",
    "The Pre-Work Foundations course was a start."
   ]
  },
  {
   "cell_type": "markdown",
   "id": "161e75b0",
   "metadata": {},
   "source": [
    "## Multidisciplinary\n",
    "\n",
    "This group has a **wide variety** of backgrounds/expertise.\n",
    "\n",
    "The course covers a wide range of topics, including\n",
    "* fixed income and their derivatives\n",
    "* equities and their derivatives\n",
    "* currencies\n",
    "* commodities\n",
    "* economics\n",
    "\n",
    "We will consider these topics from various perspectives, \n",
    "* finance\n",
    "* math\n",
    "* stats\n",
    "* computing\n",
    "* industry practice\n",
    "\n",
    "We do not expect that any of you are **quadruple majors** with work experience.\n",
    "\n",
    "For areas that are\n",
    "* New - lean into it\n",
    "* Familiar - add perspective and depth\n",
    "* Comfortable - dig into extensions"
   ]
  },
  {
   "cell_type": "markdown",
   "id": "cf0368c1",
   "metadata": {},
   "source": [
    "### Example: Yield curve\n",
    "\n",
    "* What is a yield curve\n",
    "* How is it actually constructed? What does the data say?\n",
    "* What is the advantage of one construction versus another? "
   ]
  },
  {
   "cell_type": "markdown",
   "id": "70e55176",
   "metadata": {},
   "source": [
    "## Engagement\n",
    "\n",
    "This is not a book club.\n",
    "* We are not reading a textbook.\n",
    "* We are meeting to **discuss**.\n",
    "\n",
    "Be an active learner.\n",
    "* Asking a question is not interrupting!\n",
    "* Adding your perspective is valuable.\n",
    "* I will manage the time and flow--don't worry about whether your question/perspective is at the right time.\n",
    "\n",
    "Staying engaged.\n",
    "* We will be in Jupyter notebooks every day.\n",
    "* Use them to explore and extend on our topics."
   ]
  },
  {
   "cell_type": "markdown",
   "id": "0cbac9f4",
   "metadata": {},
   "source": [
    "## Format\n",
    "\n",
    "### TSC (9:30-9:50am)\n",
    "* Triangle - Refresh on 3 big things from the prior day\n",
    "* Square - Square up with the context we have developed\n",
    "* Circle - Raise questions still circling around the room\n",
    "\n",
    "### Core material (9:50-11:30am)\n",
    "* Discussion\n",
    "* Demos\n",
    "* Surveys\n",
    "\n",
    "### Application (12:00-2pm)\n",
    "* Assigned (randomly) **group**\n",
    "* Related to the discussion, using real data.\n",
    "* Submit via Github\n",
    "\n",
    "### Wrap-up (2-2:45pm)\n",
    "* Debrief on the application\n",
    "* Transition to the DRW Speaker\n"
   ]
  },
  {
   "cell_type": "markdown",
   "id": "d25fb543",
   "metadata": {},
   "source": [
    "## Manage Your Risk\n",
    "\n",
    "We want this course to maximize your potential.\n",
    "\n",
    "Avoid common pitfalls.\n",
    "\n",
    "#### Hesitancy\n",
    "* Being too cautious, wanting to wait until you know more to engage.\n",
    "* Feeling too overwhelmed to just get going, one step at a time.\n",
    "* Relying too much on group members to do the applications.\n",
    "\n",
    "#### Narrowly focusing\n",
    "* Avoiding topic areas where you have less experience / interest.\n",
    "* Not doing the prep to get the most out of each day."
   ]
  },
  {
   "cell_type": "markdown",
   "id": "9614eb5d",
   "metadata": {},
   "source": [
    "# Who Am I?\n",
    "\n",
    "Mark Hendricks\n",
    "\n",
    "* University of Chicago Financial Mathematics.\n",
    "* Associate Director - manage academics and industry relations\n",
    "* Courses include Portfolio Management, Valuation, Economics of Asset Pricing, Data Analysis.\n",
    "* Taught at the Booth School of Business and the Department of Economics\n",
    "* Worked in industry developing hedge-fund strategies, consulting for trading firms, research firms, and non-financial firms.\n",
    "* Research in Dynamic Assset Pricing\n",
    "* Hobbies: basketball, running, and reading economics and history.\n",
    "\n",
    "https://finmath.uchicago.edu/about/faculty-and-lecturers/mark-hendricks/\n",
    "\n",
    "### Why This Course\n",
    "\n",
    "* Worked with your DRW team for the foundations course\n",
    "* Teach a wide range of markets for UChicago, with an applied focus."
   ]
  }
 ],
 "metadata": {
  "hide_input": false,
  "kernelspec": {
   "display_name": "Python 3 (ipykernel)",
   "language": "python",
   "name": "python3"
  },
  "language_info": {
   "codemirror_mode": {
    "name": "ipython",
    "version": 3
   },
   "file_extension": ".py",
   "mimetype": "text/x-python",
   "name": "python",
   "nbconvert_exporter": "python",
   "pygments_lexer": "ipython3",
   "version": "3.9.7"
  }
 },
 "nbformat": 4,
 "nbformat_minor": 5
}
