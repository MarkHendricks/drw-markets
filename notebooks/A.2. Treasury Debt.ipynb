{
 "cells": [
  {
   "cell_type": "markdown",
   "id": "f7605588",
   "metadata": {},
   "source": [
    "# A.2. Treasury Debt\n",
    "\n",
    "## Fixed Income Module\n",
    "\n",
    "### DRW New-Hire Learning Program\n",
    "\n",
    "#### Summer 2022\n",
    "\n",
    "Questions?\n",
    "* Contact: Mark Hendricks\n",
    "* hendricks@uchicago.edu"
   ]
  },
  {
   "cell_type": "code",
   "execution_count": 1,
   "id": "58a6ce44",
   "metadata": {},
   "outputs": [],
   "source": [
    "import pandas as pd\n",
    "import numpy as np\n",
    "import datetime\n",
    "import warnings\n",
    "\n",
    "from sklearn.linear_model import LinearRegression\n",
    "from scipy.optimize import minimize\n",
    "\n",
    "import matplotlib.pyplot as plt\n",
    "%matplotlib inline\n",
    "plt.rcParams['figure.figsize'] = (12,6)\n",
    "plt.rcParams['font.size'] = 15\n",
    "plt.rcParams['legend.fontsize'] = 13\n",
    "\n",
    "import sys\n",
    "sys.path.insert(0, '../cmds')\n",
    "from treasury_cmds import *"
   ]
  },
  {
   "cell_type": "markdown",
   "id": "84c7cd08",
   "metadata": {},
   "source": [
    "# Data Source\n",
    "\n",
    "CRSP Treasury Monthly Release\n",
    "accessed via WRDS\n",
    "\n",
    "For any given date, obtain quotes for nearly every issued Treasury.\n",
    "\n",
    "In particular, \n",
    "* Bills, Notes, Bonds\n",
    "* TIPS\n",
    "\n",
    "In the analysis below, we exclude TIPS to focus on nominal rates.\n",
    "\n",
    "The data set does not include Floating Rate Notes (FRNs)."
   ]
  },
  {
   "cell_type": "code",
   "execution_count": 2,
   "id": "708ab529",
   "metadata": {},
   "outputs": [],
   "source": [
    "QUOTE_DATE = '2021-12-31'\n",
    "\n",
    "filepath_rawdata = f'../data/treasury_quotes_{QUOTE_DATE}.xlsx'\n",
    "rawdata = pd.read_excel(filepath_rawdata,sheet_name='quotes')\n",
    "rawdata.columns = rawdata.columns.str.upper()\n",
    "rawdata.sort_values('TMATDT',inplace=True)\n",
    "rawdata.set_index('KYTREASNO',inplace=True)"
   ]
  },
  {
   "cell_type": "code",
   "execution_count": 3,
   "id": "3a18a330",
   "metadata": {},
   "outputs": [],
   "source": [
    "t_check = rawdata['CALDT'].values[0]\n",
    "if rawdata['CALDT'].eq(t_check).all():\n",
    "    t_current = t_check\n",
    "else:\n",
    "    warnings.warn('Quotes are from multiple dates.')\n",
    "    t_current = None"
   ]
  },
  {
   "cell_type": "code",
   "execution_count": 4,
   "id": "4de0ac14",
   "metadata": {},
   "outputs": [
    {
     "data": {
      "text/plain": [
       "'Analysis based on quotes from: 2021-12-31'"
      ]
     },
     "execution_count": 4,
     "metadata": {},
     "output_type": "execute_result"
    }
   ],
   "source": [
    "f'Analysis based on quotes from: {pd.to_datetime(t_current):%Y-%m-%d}'"
   ]
  },
  {
   "cell_type": "code",
   "execution_count": 5,
   "id": "12cf6dbb",
   "metadata": {
    "scrolled": false
   },
   "outputs": [],
   "source": [
    "metrics = rawdata.copy()[['TDATDT','TMATDT','TCOUPRT','TDYLD','TDDURATN','TDPUBOUT']]\n",
    "metrics.columns = ['issue date','maturity date','coupon rate','ytm','duration','outstanding']\n",
    "metrics['ytm'] *= 365\n",
    "metrics['duration'] /= 365\n",
    "metrics['outstanding'] *= 1e6\n",
    "metrics['maturity'] = get_maturity_delta(metrics['maturity date'], t_current)\n",
    "metrics['price'] = (rawdata['TDBID'] + rawdata['TDASK'])/2 + rawdata['TDACCINT']\n",
    "metrics['ask-bid'] = rawdata['TDASK'] - rawdata['TDBID']\n",
    "metrics['next cashflow date'] = (calc_cashflows(rawdata) != 0).idxmax(1)\n",
    "metrics = metrics[['issue date','maturity date','maturity','coupon rate','next cashflow date','price','ytm','ask-bid']]"
   ]
  },
  {
   "cell_type": "code",
   "execution_count": 6,
   "id": "2009c5c2",
   "metadata": {},
   "outputs": [
    {
     "data": {
      "text/html": [
       "<div>\n",
       "<style scoped>\n",
       "    .dataframe tbody tr th:only-of-type {\n",
       "        vertical-align: middle;\n",
       "    }\n",
       "\n",
       "    .dataframe tbody tr th {\n",
       "        vertical-align: top;\n",
       "    }\n",
       "\n",
       "    .dataframe thead th {\n",
       "        text-align: right;\n",
       "    }\n",
       "</style>\n",
       "<table border=\"1\" class=\"dataframe\">\n",
       "  <thead>\n",
       "    <tr style=\"text-align: right;\">\n",
       "      <th></th>\n",
       "      <th>issue date</th>\n",
       "      <th>maturity date</th>\n",
       "      <th>maturity</th>\n",
       "      <th>coupon rate</th>\n",
       "      <th>next cashflow date</th>\n",
       "      <th>price</th>\n",
       "      <th>ytm</th>\n",
       "      <th>ask-bid</th>\n",
       "    </tr>\n",
       "    <tr>\n",
       "      <th>KYTREASNO</th>\n",
       "      <th></th>\n",
       "      <th></th>\n",
       "      <th></th>\n",
       "      <th></th>\n",
       "      <th></th>\n",
       "      <th></th>\n",
       "      <th></th>\n",
       "      <th></th>\n",
       "    </tr>\n",
       "  </thead>\n",
       "  <tbody>\n",
       "    <tr>\n",
       "      <th>207764</th>\n",
       "      <td>2021-09-07</td>\n",
       "      <td>2022-01-04</td>\n",
       "      <td>0.010951</td>\n",
       "      <td>0.000</td>\n",
       "      <td>2022-01-04</td>\n",
       "      <td>100.000333</td>\n",
       "      <td>-0.000304</td>\n",
       "      <td>0.000111</td>\n",
       "    </tr>\n",
       "    <tr>\n",
       "      <th>207737</th>\n",
       "      <td>2021-07-08</td>\n",
       "      <td>2022-01-06</td>\n",
       "      <td>0.016427</td>\n",
       "      <td>0.000</td>\n",
       "      <td>2022-01-06</td>\n",
       "      <td>99.999917</td>\n",
       "      <td>0.000051</td>\n",
       "      <td>0.000167</td>\n",
       "    </tr>\n",
       "    <tr>\n",
       "      <th>207765</th>\n",
       "      <td>2021-09-14</td>\n",
       "      <td>2022-01-11</td>\n",
       "      <td>0.030116</td>\n",
       "      <td>0.000</td>\n",
       "      <td>2022-01-11</td>\n",
       "      <td>99.999924</td>\n",
       "      <td>0.000025</td>\n",
       "      <td>0.000153</td>\n",
       "    </tr>\n",
       "    <tr>\n",
       "      <th>207738</th>\n",
       "      <td>2021-07-15</td>\n",
       "      <td>2022-01-13</td>\n",
       "      <td>0.035592</td>\n",
       "      <td>0.000</td>\n",
       "      <td>2022-01-13</td>\n",
       "      <td>99.998194</td>\n",
       "      <td>0.000507</td>\n",
       "      <td>0.000361</td>\n",
       "    </tr>\n",
       "    <tr>\n",
       "      <th>207308</th>\n",
       "      <td>2019-01-15</td>\n",
       "      <td>2022-01-15</td>\n",
       "      <td>0.041068</td>\n",
       "      <td>2.500</td>\n",
       "      <td>2022-01-15</td>\n",
       "      <td>101.234035</td>\n",
       "      <td>0.003837</td>\n",
       "      <td>0.031250</td>\n",
       "    </tr>\n",
       "    <tr>\n",
       "      <th>...</th>\n",
       "      <td>...</td>\n",
       "      <td>...</td>\n",
       "      <td>...</td>\n",
       "      <td>...</td>\n",
       "      <td>...</td>\n",
       "      <td>...</td>\n",
       "      <td>...</td>\n",
       "      <td>...</td>\n",
       "    </tr>\n",
       "    <tr>\n",
       "      <th>207680</th>\n",
       "      <td>2021-02-15</td>\n",
       "      <td>2051-02-15</td>\n",
       "      <td>29.125257</td>\n",
       "      <td>1.875</td>\n",
       "      <td>2022-02-15</td>\n",
       "      <td>99.820312</td>\n",
       "      <td>0.019043</td>\n",
       "      <td>0.078125</td>\n",
       "    </tr>\n",
       "    <tr>\n",
       "      <th>207681</th>\n",
       "      <td>2021-02-15</td>\n",
       "      <td>2051-02-15</td>\n",
       "      <td>29.125257</td>\n",
       "      <td>0.125</td>\n",
       "      <td>2022-02-15</td>\n",
       "      <td>118.437500</td>\n",
       "      <td>NaN</td>\n",
       "      <td>0.492188</td>\n",
       "    </tr>\n",
       "    <tr>\n",
       "      <th>207719</th>\n",
       "      <td>2021-05-15</td>\n",
       "      <td>2051-05-15</td>\n",
       "      <td>29.368925</td>\n",
       "      <td>2.375</td>\n",
       "      <td>2022-05-15</td>\n",
       "      <td>110.879921</td>\n",
       "      <td>0.018931</td>\n",
       "      <td>0.046875</td>\n",
       "    </tr>\n",
       "    <tr>\n",
       "      <th>207763</th>\n",
       "      <td>2021-08-15</td>\n",
       "      <td>2051-08-15</td>\n",
       "      <td>29.620808</td>\n",
       "      <td>2.000</td>\n",
       "      <td>2022-02-15</td>\n",
       "      <td>102.796875</td>\n",
       "      <td>0.018991</td>\n",
       "      <td>0.015625</td>\n",
       "    </tr>\n",
       "    <tr>\n",
       "      <th>207808</th>\n",
       "      <td>2021-11-15</td>\n",
       "      <td>2051-11-15</td>\n",
       "      <td>29.872690</td>\n",
       "      <td>1.875</td>\n",
       "      <td>2022-05-15</td>\n",
       "      <td>99.621072</td>\n",
       "      <td>0.018919</td>\n",
       "      <td>0.062500</td>\n",
       "    </tr>\n",
       "  </tbody>\n",
       "</table>\n",
       "<p>422 rows × 8 columns</p>\n",
       "</div>"
      ],
      "text/plain": [
       "          issue date maturity date   maturity  coupon rate next cashflow date  \\\n",
       "KYTREASNO                                                                       \n",
       "207764    2021-09-07    2022-01-04   0.010951        0.000         2022-01-04   \n",
       "207737    2021-07-08    2022-01-06   0.016427        0.000         2022-01-06   \n",
       "207765    2021-09-14    2022-01-11   0.030116        0.000         2022-01-11   \n",
       "207738    2021-07-15    2022-01-13   0.035592        0.000         2022-01-13   \n",
       "207308    2019-01-15    2022-01-15   0.041068        2.500         2022-01-15   \n",
       "...              ...           ...        ...          ...                ...   \n",
       "207680    2021-02-15    2051-02-15  29.125257        1.875         2022-02-15   \n",
       "207681    2021-02-15    2051-02-15  29.125257        0.125         2022-02-15   \n",
       "207719    2021-05-15    2051-05-15  29.368925        2.375         2022-05-15   \n",
       "207763    2021-08-15    2051-08-15  29.620808        2.000         2022-02-15   \n",
       "207808    2021-11-15    2051-11-15  29.872690        1.875         2022-05-15   \n",
       "\n",
       "                price       ytm   ask-bid  \n",
       "KYTREASNO                                  \n",
       "207764     100.000333 -0.000304  0.000111  \n",
       "207737      99.999917  0.000051  0.000167  \n",
       "207765      99.999924  0.000025  0.000153  \n",
       "207738      99.998194  0.000507  0.000361  \n",
       "207308     101.234035  0.003837  0.031250  \n",
       "...               ...       ...       ...  \n",
       "207680      99.820312  0.019043  0.078125  \n",
       "207681     118.437500       NaN  0.492188  \n",
       "207719     110.879921  0.018931  0.046875  \n",
       "207763     102.796875  0.018991  0.015625  \n",
       "207808      99.621072  0.018919  0.062500  \n",
       "\n",
       "[422 rows x 8 columns]"
      ]
     },
     "execution_count": 6,
     "metadata": {},
     "output_type": "execute_result"
    }
   ],
   "source": [
    "metrics"
   ]
  },
  {
   "cell_type": "markdown",
   "id": "679cbb65",
   "metadata": {},
   "source": [
    "# Basics of Treasuries\n",
    "\n",
    "## Timing\n",
    "\n",
    "These quotes are at a single point in time.\n",
    "\n",
    "But they describe bonds covering a wide range of \n",
    "* issuance dates\n",
    "* maturity dates"
   ]
  },
  {
   "cell_type": "code",
   "execution_count": 7,
   "id": "d84666f2",
   "metadata": {},
   "outputs": [
    {
     "data": {
      "image/png": "[encoded data removed]",
      "text/plain": [
       "<Figure size 864x432 with 1 Axes>"
      ]
     },
     "metadata": {
      "needs_background": "light"
     },
     "output_type": "display_data"
    },
    {
     "data": {
      "image/png": "[encoded data removed]",
      "text/plain": [
       "<Figure size 864x432 with 1 Axes>"
      ]
     },
     "metadata": {
      "needs_background": "light"
     },
     "output_type": "display_data"
    }
   ],
   "source": [
    "metrics.hist('issue date',bins=20)\n",
    "metrics.hist('maturity date',bins=20)\n",
    "plt.show()"
   ]
  },
  {
   "cell_type": "markdown",
   "id": "471bc7fd",
   "metadata": {},
   "source": [
    "## Coupon Rates\n",
    "\n",
    "The quoted coupon is the annualized rate (per $100 face value).\n",
    "\n",
    "It is paid semiannually.\n",
    "\n",
    "The coupon rate is a feature set by the issuer (Treasury) at the time it is issued.\n",
    "* These rates have varied widely over time.\n",
    "* The Treasury sets coupons near the prevailing interest rate, (i.e. priced near par.)\n",
    "\n",
    "In the figure below, note that coupon rates have declined over time."
   ]
  },
  {
   "cell_type": "code",
   "execution_count": 8,
   "id": "c06d764c",
   "metadata": {},
   "outputs": [
    {
     "data": {
      "image/png": "[encoded data removed]",
      "text/plain": [
       "<Figure size 864x432 with 1 Axes>"
      ]
     },
     "metadata": {
      "needs_background": "light"
     },
     "output_type": "display_data"
    },
    {
     "data": {
      "image/png": "[encoded data removed]",
      "text/plain": [
       "<Figure size 864x432 with 1 Axes>"
      ]
     },
     "metadata": {
      "needs_background": "light"
     },
     "output_type": "display_data"
    }
   ],
   "source": [
    "metrics.plot.scatter(x='issue date',y='coupon rate',title='Coupon Rates by Issue Date')\n",
    "metrics.plot.scatter(x='maturity date',y='coupon rate',title='Coupon Rates by Maturity Date')\n",
    "plt.show()"
   ]
  },
  {
   "cell_type": "markdown",
   "id": "e17e4089",
   "metadata": {},
   "source": [
    "# Issue Types\n",
    "\n",
    "|         | Maturity            | Coupon   | Coupon Frequency | Principal          |\n",
    "|---------|---------------------|----------|------------------|--------------------|\n",
    "| T-bills | 4, 8, 13, 26, 52 weeks | None     | None             | Fixed              |\n",
    "| T-notes | 2, 5, 7, 10 years      | Fixed    | Semiannual       | Fixed              |\n",
    "| T-bonds | 20, 30 years            | Fixed    | Semiannual       | Fixed              |\n",
    "| TIPS    | 5, 10, 30 years     | Fixed    | Semiannual       | Inflation adjusted |\n",
    "| FRNs    | 2 years             | Floating | Quarterly        | Fixed              |\n",
    "| STRIPS  | Derived             | None     | None             | Fixed              |\n",
    "\n",
    "Reference: \n",
    "https://www.treasurydirect.gov/indiv/research/indepth/tbills/res_tbill.htm\n",
    "\n",
    "\n",
    "## Traditional Treasury Debt Securities\n",
    "\n",
    "### Bills\n",
    "* maturity $\\le$ 1 year\n",
    "* no coupon\n",
    "\n",
    "### Notes\n",
    "* 1 year $<$ maturity $\\le 10$ years\n",
    "* semiannual coupon\n",
    "\n",
    "### Bonds\n",
    "* maturity $> 10$ years\n",
    "* semiannual coupon"
   ]
  },
  {
   "cell_type": "markdown",
   "id": "b187ba25",
   "metadata": {},
   "source": [
    "## Others\n",
    "\n",
    "### Treasury Inflation Protected Securities (TIPS)\n",
    "* notes and bonds\n",
    "* constant coupon rate\n",
    "* inflatin-adjusted principal\n",
    "\n",
    "### Floating Rate Notes (FRN)\n",
    "* maturity of 2-years\n",
    "* floating coupon\n",
    "* quarterly payment\n",
    "\n",
    "Discussed in more depth later.\n",
    "\n",
    "### STRIPS\n",
    "\n",
    "STRIPS are registered securities created by \"stripping\" the coupons and principal from an issued Treasury.\n",
    "\n",
    "This allows investors to trade **zero coupon** bonds with maturities beyond 1 year."
   ]
  },
  {
   "cell_type": "markdown",
   "id": "2a167d07",
   "metadata": {},
   "source": [
    "# Composition\n",
    "\n",
    "<img src='../refs/treasury_debt_composition_MSPD.png'>\n",
    "\n",
    "Reference: https://fiscaldata.treasury.gov/datasets/monthly-statement-public-debt/summary-of-treasury-securities-outstanding"
   ]
  },
  {
   "cell_type": "markdown",
   "id": "4c28192c",
   "metadata": {},
   "source": [
    "# Pricing\n",
    "\n",
    "Price is quoted per $100 face value\n",
    "\n",
    "### Par\n",
    "A bond trading above face value is said to trade above par\n",
    "#### Bonds with coupons larger than current interest rates will trade above par.\n",
    "* Trade above par: coupons are large enough to more than offset the present value discount.\n",
    "\n",
    "\n",
    "### Pricing function\n",
    "The only features of an issue impacting price would be\n",
    "* remaining maturity: $T-t$\n",
    "* coupon rate\n",
    "\n",
    "In a frictionless market, the \n",
    "* issue date would be irrelevant to the price.\n",
    "\n",
    "### Bid-Ask Spread\n",
    "The data set quotes a `bid` and `ask`.\n",
    "* For most issues, these are very close."
   ]
  },
  {
   "cell_type": "code",
   "execution_count": 9,
   "id": "a16c4719",
   "metadata": {},
   "outputs": [
    {
     "data": {
      "text/html": [
       "<div>\n",
       "<style scoped>\n",
       "    .dataframe tbody tr th:only-of-type {\n",
       "        vertical-align: middle;\n",
       "    }\n",
       "\n",
       "    .dataframe tbody tr th {\n",
       "        vertical-align: top;\n",
       "    }\n",
       "\n",
       "    .dataframe thead th {\n",
       "        text-align: right;\n",
       "    }\n",
       "</style>\n",
       "<table border=\"1\" class=\"dataframe\">\n",
       "  <thead>\n",
       "    <tr style=\"text-align: right;\">\n",
       "      <th></th>\n",
       "      <th>issue date</th>\n",
       "      <th>maturity date</th>\n",
       "      <th>maturity</th>\n",
       "      <th>coupon rate</th>\n",
       "      <th>next cashflow date</th>\n",
       "      <th>price</th>\n",
       "      <th>ytm</th>\n",
       "      <th>ask-bid</th>\n",
       "    </tr>\n",
       "    <tr>\n",
       "      <th>KYTREASNO</th>\n",
       "      <th></th>\n",
       "      <th></th>\n",
       "      <th></th>\n",
       "      <th></th>\n",
       "      <th></th>\n",
       "      <th></th>\n",
       "      <th></th>\n",
       "      <th></th>\n",
       "    </tr>\n",
       "  </thead>\n",
       "  <tbody>\n",
       "    <tr>\n",
       "      <th>207764</th>\n",
       "      <td>2021-09-07</td>\n",
       "      <td>2022-01-04</td>\n",
       "      <td>0.010951</td>\n",
       "      <td>0.0</td>\n",
       "      <td>2022-01-04</td>\n",
       "      <td>100.000333</td>\n",
       "      <td>-0.000304</td>\n",
       "      <td>0.000111</td>\n",
       "    </tr>\n",
       "    <tr>\n",
       "      <th>207765</th>\n",
       "      <td>2021-09-14</td>\n",
       "      <td>2022-01-11</td>\n",
       "      <td>0.030116</td>\n",
       "      <td>0.0</td>\n",
       "      <td>2022-01-11</td>\n",
       "      <td>99.999924</td>\n",
       "      <td>0.000025</td>\n",
       "      <td>0.000153</td>\n",
       "    </tr>\n",
       "    <tr>\n",
       "      <th>207737</th>\n",
       "      <td>2021-07-08</td>\n",
       "      <td>2022-01-06</td>\n",
       "      <td>0.016427</td>\n",
       "      <td>0.0</td>\n",
       "      <td>2022-01-06</td>\n",
       "      <td>99.999917</td>\n",
       "      <td>0.000051</td>\n",
       "      <td>0.000167</td>\n",
       "    </tr>\n",
       "    <tr>\n",
       "      <th>207738</th>\n",
       "      <td>2021-07-15</td>\n",
       "      <td>2022-01-13</td>\n",
       "      <td>0.035592</td>\n",
       "      <td>0.0</td>\n",
       "      <td>2022-01-13</td>\n",
       "      <td>99.998194</td>\n",
       "      <td>0.000507</td>\n",
       "      <td>0.000361</td>\n",
       "    </tr>\n",
       "    <tr>\n",
       "      <th>207766</th>\n",
       "      <td>2021-09-21</td>\n",
       "      <td>2022-01-18</td>\n",
       "      <td>0.049281</td>\n",
       "      <td>0.0</td>\n",
       "      <td>2022-01-18</td>\n",
       "      <td>100.000750</td>\n",
       "      <td>-0.000152</td>\n",
       "      <td>0.000500</td>\n",
       "    </tr>\n",
       "  </tbody>\n",
       "</table>\n",
       "</div>"
      ],
      "text/plain": [
       "          issue date maturity date  maturity  coupon rate next cashflow date  \\\n",
       "KYTREASNO                                                                      \n",
       "207764    2021-09-07    2022-01-04  0.010951          0.0         2022-01-04   \n",
       "207765    2021-09-14    2022-01-11  0.030116          0.0         2022-01-11   \n",
       "207737    2021-07-08    2022-01-06  0.016427          0.0         2022-01-06   \n",
       "207738    2021-07-15    2022-01-13  0.035592          0.0         2022-01-13   \n",
       "207766    2021-09-21    2022-01-18  0.049281          0.0         2022-01-18   \n",
       "\n",
       "                price       ytm   ask-bid  \n",
       "KYTREASNO                                  \n",
       "207764     100.000333 -0.000304  0.000111  \n",
       "207765      99.999924  0.000025  0.000153  \n",
       "207737      99.999917  0.000051  0.000167  \n",
       "207738      99.998194  0.000507  0.000361  \n",
       "207766     100.000750 -0.000152  0.000500  "
      ]
     },
     "metadata": {},
     "output_type": "display_data"
    },
    {
     "data": {
      "text/html": [
       "<style type=\"text/css\">\n",
       "</style>\n",
       "<table id=\"T_69295\">\n",
       "  <thead>\n",
       "    <tr>\n",
       "      <th class=\"blank level0\" >&nbsp;</th>\n",
       "      <th id=\"T_69295_level0_col0\" class=\"col_heading level0 col0\" >count</th>\n",
       "      <th id=\"T_69295_level0_col1\" class=\"col_heading level0 col1\" >mean</th>\n",
       "      <th id=\"T_69295_level0_col2\" class=\"col_heading level0 col2\" >std</th>\n",
       "      <th id=\"T_69295_level0_col3\" class=\"col_heading level0 col3\" >min</th>\n",
       "      <th id=\"T_69295_level0_col4\" class=\"col_heading level0 col4\" >25%</th>\n",
       "      <th id=\"T_69295_level0_col5\" class=\"col_heading level0 col5\" >50%</th>\n",
       "      <th id=\"T_69295_level0_col6\" class=\"col_heading level0 col6\" >75%</th>\n",
       "      <th id=\"T_69295_level0_col7\" class=\"col_heading level0 col7\" >max</th>\n",
       "    </tr>\n",
       "  </thead>\n",
       "  <tbody>\n",
       "    <tr>\n",
       "      <th id=\"T_69295_level0_row0\" class=\"row_heading level0 row0\" >ask-bid</th>\n",
       "      <td id=\"T_69295_row0_col0\" class=\"data row0 col0\" >422.00</td>\n",
       "      <td id=\"T_69295_row0_col1\" class=\"data row0 col1\" >0.05</td>\n",
       "      <td id=\"T_69295_row0_col2\" class=\"data row0 col2\" >0.07</td>\n",
       "      <td id=\"T_69295_row0_col3\" class=\"data row0 col3\" >0.00</td>\n",
       "      <td id=\"T_69295_row0_col4\" class=\"data row0 col4\" >0.02</td>\n",
       "      <td id=\"T_69295_row0_col5\" class=\"data row0 col5\" >0.03</td>\n",
       "      <td id=\"T_69295_row0_col6\" class=\"data row0 col6\" >0.05</td>\n",
       "      <td id=\"T_69295_row0_col7\" class=\"data row0 col7\" >0.50</td>\n",
       "    </tr>\n",
       "  </tbody>\n",
       "</table>\n"
      ],
      "text/plain": [
       "<pandas.io.formats.style.Styler at 0x12ac93c70>"
      ]
     },
     "metadata": {},
     "output_type": "display_data"
    }
   ],
   "source": [
    "display(metrics.sort_values('ask-bid').head(5))\n",
    "display(metrics[['ask-bid']].describe().T.style.format(\"{:.2f}\"))"
   ]
  },
  {
   "cell_type": "markdown",
   "id": "ed157ff3",
   "metadata": {},
   "source": [
    "## On-the-run\n",
    "\n",
    "Suppose you are interested in investing in a treasury with 5 years until maturity.\n",
    "\n",
    "Consider two alternatives:\n",
    "* buy a newly issued 5-year note\n",
    "* buy a 10-year note that was issued 5 years ago\n",
    "\n",
    "The newly issued note is **on-the-run**.\n",
    "\n",
    "A treasury which has aged is **off-the-run**.\n",
    "\n",
    "This is an important consideration in liquidity.\n",
    "* financial intermediaries have substantial business in selling the on-the-run while hedging with the off-the-run.\n",
    "* in some sense, this is trading on liquidity."
   ]
  },
  {
   "cell_type": "code",
   "execution_count": 10,
   "id": "9d833232",
   "metadata": {},
   "outputs": [
    {
     "data": {
      "text/html": [
       "<div>\n",
       "<style scoped>\n",
       "    .dataframe tbody tr th:only-of-type {\n",
       "        vertical-align: middle;\n",
       "    }\n",
       "\n",
       "    .dataframe tbody tr th {\n",
       "        vertical-align: top;\n",
       "    }\n",
       "\n",
       "    .dataframe thead th {\n",
       "        text-align: right;\n",
       "    }\n",
       "</style>\n",
       "<table border=\"1\" class=\"dataframe\">\n",
       "  <thead>\n",
       "    <tr style=\"text-align: right;\">\n",
       "      <th></th>\n",
       "      <th>issue date</th>\n",
       "      <th>maturity date</th>\n",
       "      <th>maturity</th>\n",
       "      <th>coupon rate</th>\n",
       "      <th>next cashflow date</th>\n",
       "      <th>price</th>\n",
       "      <th>ytm</th>\n",
       "      <th>ask-bid</th>\n",
       "    </tr>\n",
       "    <tr>\n",
       "      <th>KYTREASNO</th>\n",
       "      <th></th>\n",
       "      <th></th>\n",
       "      <th></th>\n",
       "      <th></th>\n",
       "      <th></th>\n",
       "      <th></th>\n",
       "      <th></th>\n",
       "      <th></th>\n",
       "    </tr>\n",
       "  </thead>\n",
       "  <tbody>\n",
       "    <tr>\n",
       "      <th>207634</th>\n",
       "      <td>2020-11-30</td>\n",
       "      <td>2022-11-30</td>\n",
       "      <td>0.914442</td>\n",
       "      <td>0.125</td>\n",
       "      <td>2022-05-30</td>\n",
       "      <td>99.791896</td>\n",
       "      <td>0.003643</td>\n",
       "      <td>0.031250</td>\n",
       "    </tr>\n",
       "    <tr>\n",
       "      <th>206914</th>\n",
       "      <td>2015-11-30</td>\n",
       "      <td>2022-11-30</td>\n",
       "      <td>0.914442</td>\n",
       "      <td>2.000</td>\n",
       "      <td>2022-05-30</td>\n",
       "      <td>101.642986</td>\n",
       "      <td>0.003852</td>\n",
       "      <td>0.054688</td>\n",
       "    </tr>\n",
       "    <tr>\n",
       "      <th>207801</th>\n",
       "      <td>2021-12-02</td>\n",
       "      <td>2022-12-01</td>\n",
       "      <td>0.917180</td>\n",
       "      <td>0.000</td>\n",
       "      <td>2022-12-01</td>\n",
       "      <td>99.739444</td>\n",
       "      <td>0.002843</td>\n",
       "      <td>0.009306</td>\n",
       "    </tr>\n",
       "  </tbody>\n",
       "</table>\n",
       "</div>"
      ],
      "text/plain": [
       "          issue date maturity date  maturity  coupon rate next cashflow date  \\\n",
       "KYTREASNO                                                                      \n",
       "207634    2020-11-30    2022-11-30  0.914442        0.125         2022-05-30   \n",
       "206914    2015-11-30    2022-11-30  0.914442        2.000         2022-05-30   \n",
       "207801    2021-12-02    2022-12-01  0.917180        0.000         2022-12-01   \n",
       "\n",
       "                price       ytm   ask-bid  \n",
       "KYTREASNO                                  \n",
       "207634      99.791896  0.003643  0.031250  \n",
       "206914     101.642986  0.003852  0.054688  \n",
       "207801      99.739444  0.002843  0.009306  "
      ]
     },
     "execution_count": 10,
     "metadata": {},
     "output_type": "execute_result"
    }
   ],
   "source": [
    "t_current = pd.to_datetime(QUOTE_DATE)\n",
    "mats = get_maturity_delta(rawdata[['TMATDT']].astype('datetime64[ns]'), t_current=t_current)\n",
    "\n",
    "metrics[mats['TMATDT'].between(0.9,1.1)].head(3)"
   ]
  },
  {
   "cell_type": "markdown",
   "id": "7bfb246f",
   "metadata": {},
   "source": [
    "## Quoting Conventions \n",
    "\n",
    "Bonds differ in maturity and coupons, so looking at their relative prices is an apple-to-oranges comparison.\n",
    "\n",
    "**Yields** are a form of price quote that accounts for the maturity and coupon.\n",
    "\n",
    "### YTM \n",
    "\n",
    "The YTM discussed above is the most important yield. \n",
    "* It is used in **quoting** and **analyzing** bonds.\n",
    "* The YTM is not necessarily a sufficient statistics for all dimensions of a bond--price, coupon, maturity. Thus, two with equivalent YTM may have important differences."
   ]
  },
  {
   "cell_type": "markdown",
   "id": "ec6805b4",
   "metadata": {},
   "source": [
    "### Discount yield\n",
    "The discount yield is important for quoting money-market prices.\n",
    "* it is not popular for analyzing and research\n",
    "* it is perhaps vestigial to a time when traders needed to calculate by hand and calculator\n",
    "\n",
    "**Treasury bills** are typically quoted as discount yields.\n",
    "\n",
    "Consider\n",
    "* price of $P$\n",
    "* face value of 100\n",
    "* no coupon\n",
    "\n",
    "Then,\n",
    "$$\\text{discount yield} = \\left(\\frac{360}{n}\\right)\\frac{100-P}{100}$$\n",
    "\n",
    "#### Example\n",
    "\n",
    "A T-bill maturing in 90 days with cash price of $P=99$ will have discount yield of \n",
    "$$Y_{\\text{discount}} = 4\\%$$\n",
    "\n",
    "Note that it will be common to go the other way around: read quotes for 90-day T-bills of 4\\% (or simply, \"4\") and understand that as an actual price of 99.\n",
    "\n",
    "\n",
    "<img src='../refs/treasury_quotes_bills.png'>\n",
    "\n",
    "Reference: Bloomberg `B Govt`"
   ]
  },
  {
   "cell_type": "markdown",
   "id": "d51a78ff",
   "metadata": {},
   "source": [
    "## Price Quotes\n",
    "\n",
    "T-notes and T-bonds are quoted in thirty-seconds (1/32) of a dollar rather than hundredths of a dollar.\n",
    "\n",
    "<img src='../refs/treasury_quotes_bonds_notes.png'>\n",
    "\n",
    "Reference: Bloomberg `T Govt`"
   ]
  },
  {
   "cell_type": "markdown",
   "id": "14b08c87",
   "metadata": {},
   "source": [
    "## Accrued Interest\n",
    "\n",
    "Accrued interest is proportional to the coupon rate, based on the number of days since the last coupon (or, until the next coupon.)"
   ]
  },
  {
   "cell_type": "code",
   "execution_count": 11,
   "id": "084a8d9f",
   "metadata": {},
   "outputs": [
    {
     "data": {
      "image/png": "[encoded data removed]",
      "text/plain": [
       "<Figure size 864x432 with 1 Axes>"
      ]
     },
     "metadata": {
      "needs_background": "light"
     },
     "output_type": "display_data"
    }
   ],
   "source": [
    "rawdata[['TDACCINT']].plot.hist(title='Accrued Interest',xlabel='accrued interest',ylabel='count');"
   ]
  },
  {
   "cell_type": "markdown",
   "id": "be850280",
   "metadata": {},
   "source": [
    "### Day-Count Conventions\n",
    "\n",
    "The accrued interest is computed with a day-count convention\n",
    "\n",
    "$$\\text{accrued interest} = \\frac{\\text{days counted}}{\\text{days in reference period}} \\times \\text{interest in reference period}$$\n",
    "\n",
    "Common day-count conventions include:\n",
    "* actual/actual: treasury notes and bonds\n",
    "* 30/360: corporate and municipal bonds\n",
    "* actual/360: money-market instruments (issued with 1yr or less, little credit risk)\n",
    "\n",
    "Careful, or can lead to seeming arbitrage that doesn't exist.\n",
    "* Hull's Business Snapshot 6.1 mentions case of T-bond vs Corp and former getting 1 day of accrual Feb 28 to Mar 1, while latter gets 3 days of accrual.\n",
    "\n",
    "We will not focus on the taxonomy of day-count conventions in discussions below.\n",
    "* important to know what it is\n",
    "* look it up when necessary"
   ]
  },
  {
   "cell_type": "markdown",
   "id": "44b79611",
   "metadata": {},
   "source": [
    "***"
   ]
  },
  {
   "cell_type": "markdown",
   "id": "0e3bb835",
   "metadata": {},
   "source": [
    "# Market Sizes\n",
    "\n",
    "## Size of Treasury Debt Markets\n",
    "https://fred.stlouisfed.org/series/GFDEBTN\n",
    "\n",
    "### Composition of Treasury Debt\n",
    "Monthly Statement of the Public Debt\n",
    "\n",
    "https://fiscaldata.treasury.gov/datasets/monthly-statement-public-debt/summary-of-treasury-securities-outstanding\n",
    "\n",
    "STRIPS\n",
    "\n",
    "https://fiscaldata.treasury.gov/datasets/monthly-statement-public-debt/holdings-of-treasury-securities-in-stripped-form\n",
    "\n",
    "\n",
    "## Size of Fixed Income Markets\n",
    "https://www.sifma.org/resources/research/us-fixed-income-securities-statistics/\n",
    "\n",
    "\n",
    "## Size of Derivatives Markets\n",
    "https://www.isda.org/a/tBngE/Key-Trends-in-the-Size-and-Composition-of-OTC-Derivatives-Markets-in-the-First-Half-of-2021.pdf"
   ]
  },
  {
   "cell_type": "markdown",
   "id": "83fa24bc",
   "metadata": {},
   "source": [
    "# Overview of Money Markets\n",
    "\n",
    "<img src='../refs/money_markets_BB.png'>\n",
    "\n",
    "Reference: Bloomberg `BTMM`"
   ]
  }
 ],
 "metadata": {
  "hide_input": false,
  "kernelspec": {
   "display_name": "Python 3 (ipykernel)",
   "language": "python",
   "name": "python3"
  },
  "language_info": {
   "codemirror_mode": {
    "name": "ipython",
    "version": 3
   },
   "file_extension": ".py",
   "mimetype": "text/x-python",
   "name": "python",
   "nbconvert_exporter": "python",
   "pygments_lexer": "ipython3",
   "version": "3.9.7"
  }
 },
 "nbformat": 4,
 "nbformat_minor": 5
}
