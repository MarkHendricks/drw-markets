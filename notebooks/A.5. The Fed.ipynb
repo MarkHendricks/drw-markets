{
 "cells": [
  {
   "cell_type": "markdown",
   "id": "be9762af",
   "metadata": {},
   "source": [
    "## <span style=\"color:red\"> In development </span>\n",
    "\n",
    "Controlling inflation, Fed targets rates, not money supply.\n",
    "\n",
    "Fed Funds vs Fed Funds target\n",
    "\n",
    "2011 - Lec 7, slide 43\n",
    "2011 - Lec 9, slide 65\n",
    "\n",
    "2014 - HW 4"
   ]
  }
 ],
 "metadata": {
  "hide_input": false,
  "kernelspec": {
   "display_name": "Python 3 (ipykernel)",
   "language": "python",
   "name": "python3"
  },
  "language_info": {
   "codemirror_mode": {
    "name": "ipython",
    "version": 3
   },
   "file_extension": ".py",
   "mimetype": "text/x-python",
   "name": "python",
   "nbconvert_exporter": "python",
   "pygments_lexer": "ipython3",
   "version": "3.9.7"
  }
 },
 "nbformat": 4,
 "nbformat_minor": 5
}
