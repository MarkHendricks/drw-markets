{
 "cells": [
  {
   "cell_type": "markdown",
   "id": "da0b2257",
   "metadata": {},
   "source": [
    "# B.1. The FX Carry Trade\n",
    "\n",
    "## Module B: FX, Commodities, and Equities\n",
    "\n",
    "### DRW New-Hire Learning Program\n",
    "\n",
    "#### Summer 2022\n",
    "\n",
    "Questions?\n",
    "* Contact: Mark Hendricks\n",
    "* hendricks@uchicago.edu"
   ]
  },
  {
   "cell_type": "markdown",
   "id": "200d0c9e",
   "metadata": {
    "heading_collapsed": true
   },
   "source": [
    "# Data"
   ]
  },
  {
   "cell_type": "markdown",
   "id": "2cc6d610",
   "metadata": {
    "hidden": true
   },
   "source": [
    "`fx_carry_data.xlsx`.\n",
    "- It reports the risk-free rates in a monthly scaling.\n",
    "- It also pulls the LIBOR data from 1-month LIBOR instead of the original 3-month LIBOR. Thus, this set is more appropriate for our one-month trade-horizon considerations."
   ]
  },
  {
   "cell_type": "code",
   "execution_count": 1,
   "id": "1e19b166",
   "metadata": {
    "hidden": true
   },
   "outputs": [],
   "source": [
    "import numpy as np\n",
    "import pandas as pd\n",
    "import matplotlib.pyplot as plt\n",
    "import seaborn as sns\n",
    "\n",
    "import sys\n",
    "sys.path.insert(0, '../cmds')\n",
    "from portfolio import *\n",
    "\n",
    "pd.set_option(\"display.precision\", 4)"
   ]
  },
  {
   "cell_type": "code",
   "execution_count": 2,
   "id": "51c07414",
   "metadata": {
    "hidden": true
   },
   "outputs": [
    {
     "data": {
      "text/html": [
       "<div>\n",
       "<style scoped>\n",
       "    .dataframe tbody tr th:only-of-type {\n",
       "        vertical-align: middle;\n",
       "    }\n",
       "\n",
       "    .dataframe tbody tr th {\n",
       "        vertical-align: top;\n",
       "    }\n",
       "\n",
       "    .dataframe thead th {\n",
       "        text-align: right;\n",
       "    }\n",
       "</style>\n",
       "<table border=\"1\" class=\"dataframe\">\n",
       "  <thead>\n",
       "    <tr style=\"text-align: right;\">\n",
       "      <th></th>\n",
       "      <th>USUK</th>\n",
       "      <th>USEU</th>\n",
       "      <th>USSZ</th>\n",
       "      <th>USJP</th>\n",
       "    </tr>\n",
       "    <tr>\n",
       "      <th>DATE</th>\n",
       "      <th></th>\n",
       "      <th></th>\n",
       "      <th></th>\n",
       "      <th></th>\n",
       "    </tr>\n",
       "  </thead>\n",
       "  <tbody>\n",
       "    <tr>\n",
       "      <th>1999-01-31</th>\n",
       "      <td>0.4982</td>\n",
       "      <td>0.1285</td>\n",
       "      <td>-0.3484</td>\n",
       "      <td>-4.7536</td>\n",
       "    </tr>\n",
       "    <tr>\n",
       "      <th>1999-02-28</th>\n",
       "      <td>0.4717</td>\n",
       "      <td>0.0949</td>\n",
       "      <td>-0.3712</td>\n",
       "      <td>-4.7766</td>\n",
       "    </tr>\n",
       "    <tr>\n",
       "      <th>1999-03-31</th>\n",
       "      <td>0.4787</td>\n",
       "      <td>0.0777</td>\n",
       "      <td>-0.3904</td>\n",
       "      <td>-4.7743</td>\n",
       "    </tr>\n",
       "    <tr>\n",
       "      <th>1999-04-30</th>\n",
       "      <td>0.4753</td>\n",
       "      <td>0.0549</td>\n",
       "      <td>-0.4225</td>\n",
       "      <td>-4.7827</td>\n",
       "    </tr>\n",
       "    <tr>\n",
       "      <th>1999-05-31</th>\n",
       "      <td>0.4713</td>\n",
       "      <td>0.0413</td>\n",
       "      <td>-0.4240</td>\n",
       "      <td>-4.7948</td>\n",
       "    </tr>\n",
       "    <tr>\n",
       "      <th>...</th>\n",
       "      <td>...</td>\n",
       "      <td>...</td>\n",
       "      <td>...</td>\n",
       "      <td>...</td>\n",
       "    </tr>\n",
       "    <tr>\n",
       "      <th>2021-06-30</th>\n",
       "      <td>0.3225</td>\n",
       "      <td>0.1696</td>\n",
       "      <td>0.0776</td>\n",
       "      <td>-4.7100</td>\n",
       "    </tr>\n",
       "    <tr>\n",
       "      <th>2021-07-31</th>\n",
       "      <td>0.3302</td>\n",
       "      <td>0.1709</td>\n",
       "      <td>0.0986</td>\n",
       "      <td>-4.6977</td>\n",
       "    </tr>\n",
       "    <tr>\n",
       "      <th>2021-08-31</th>\n",
       "      <td>0.3182</td>\n",
       "      <td>0.1655</td>\n",
       "      <td>0.0876</td>\n",
       "      <td>-4.7009</td>\n",
       "    </tr>\n",
       "    <tr>\n",
       "      <th>2021-09-30</th>\n",
       "      <td>0.2979</td>\n",
       "      <td>0.1464</td>\n",
       "      <td>0.0684</td>\n",
       "      <td>-4.7140</td>\n",
       "    </tr>\n",
       "    <tr>\n",
       "      <th>2021-10-31</th>\n",
       "      <td>0.3138</td>\n",
       "      <td>0.1443</td>\n",
       "      <td>0.0872</td>\n",
       "      <td>-4.7365</td>\n",
       "    </tr>\n",
       "  </tbody>\n",
       "</table>\n",
       "<p>274 rows × 4 columns</p>\n",
       "</div>"
      ],
      "text/plain": [
       "              USUK    USEU    USSZ    USJP\n",
       "DATE                                      \n",
       "1999-01-31  0.4982  0.1285 -0.3484 -4.7536\n",
       "1999-02-28  0.4717  0.0949 -0.3712 -4.7766\n",
       "1999-03-31  0.4787  0.0777 -0.3904 -4.7743\n",
       "1999-04-30  0.4753  0.0549 -0.4225 -4.7827\n",
       "1999-05-31  0.4713  0.0413 -0.4240 -4.7948\n",
       "...            ...     ...     ...     ...\n",
       "2021-06-30  0.3225  0.1696  0.0776 -4.7100\n",
       "2021-07-31  0.3302  0.1709  0.0986 -4.6977\n",
       "2021-08-31  0.3182  0.1655  0.0876 -4.7009\n",
       "2021-09-30  0.2979  0.1464  0.0684 -4.7140\n",
       "2021-10-31  0.3138  0.1443  0.0872 -4.7365\n",
       "\n",
       "[274 rows x 4 columns]"
      ]
     },
     "execution_count": 2,
     "metadata": {},
     "output_type": "execute_result"
    }
   ],
   "source": [
    "DATAPATH_FX = '../data/fx_carry_data.xlsx'\n",
    "USDRF = 'USD1M'\n",
    "\n",
    "SHEET = 'fx rates'\n",
    "fx = pd.read_excel(DATAPATH_FX, sheet_name=SHEET).set_index('DATE')\n",
    "\n",
    "logFX = np.log(fx)\n",
    "logFX"
   ]
  },
  {
   "cell_type": "code",
   "execution_count": 3,
   "id": "685f15d5",
   "metadata": {
    "hidden": true
   },
   "outputs": [
    {
     "data": {
      "text/html": [
       "<div>\n",
       "<style scoped>\n",
       "    .dataframe tbody tr th:only-of-type {\n",
       "        vertical-align: middle;\n",
       "    }\n",
       "\n",
       "    .dataframe tbody tr th {\n",
       "        vertical-align: top;\n",
       "    }\n",
       "\n",
       "    .dataframe thead th {\n",
       "        text-align: right;\n",
       "    }\n",
       "</style>\n",
       "<table border=\"1\" class=\"dataframe\">\n",
       "  <thead>\n",
       "    <tr style=\"text-align: right;\">\n",
       "      <th></th>\n",
       "      <th>GBP1M</th>\n",
       "      <th>EUR1M</th>\n",
       "      <th>CHF1M</th>\n",
       "      <th>JPY1M</th>\n",
       "    </tr>\n",
       "    <tr>\n",
       "      <th>DATE</th>\n",
       "      <th></th>\n",
       "      <th></th>\n",
       "      <th></th>\n",
       "      <th></th>\n",
       "    </tr>\n",
       "  </thead>\n",
       "  <tbody>\n",
       "    <tr>\n",
       "      <th>1999-01-31</th>\n",
       "      <td>4.9255e-03</td>\n",
       "      <td>0.0026</td>\n",
       "      <td>0.0010</td>\n",
       "      <td>3.3458e-04</td>\n",
       "    </tr>\n",
       "    <tr>\n",
       "      <th>1999-02-28</th>\n",
       "      <td>4.6137e-03</td>\n",
       "      <td>0.0026</td>\n",
       "      <td>0.0010</td>\n",
       "      <td>2.3226e-04</td>\n",
       "    </tr>\n",
       "    <tr>\n",
       "      <th>1999-03-31</th>\n",
       "      <td>4.4241e-03</td>\n",
       "      <td>0.0025</td>\n",
       "      <td>0.0010</td>\n",
       "      <td>1.4270e-04</td>\n",
       "    </tr>\n",
       "    <tr>\n",
       "      <th>1999-04-30</th>\n",
       "      <td>4.3944e-03</td>\n",
       "      <td>0.0021</td>\n",
       "      <td>0.0008</td>\n",
       "      <td>9.8953e-05</td>\n",
       "    </tr>\n",
       "    <tr>\n",
       "      <th>1999-05-31</th>\n",
       "      <td>4.4106e-03</td>\n",
       "      <td>0.0021</td>\n",
       "      <td>0.0008</td>\n",
       "      <td>7.4997e-05</td>\n",
       "    </tr>\n",
       "    <tr>\n",
       "      <th>...</th>\n",
       "      <td>...</td>\n",
       "      <td>...</td>\n",
       "      <td>...</td>\n",
       "      <td>...</td>\n",
       "    </tr>\n",
       "    <tr>\n",
       "      <th>2021-06-30</th>\n",
       "      <td>4.5615e-05</td>\n",
       "      <td>-0.0005</td>\n",
       "      <td>-0.0007</td>\n",
       "      <td>-5.0143e-05</td>\n",
       "    </tr>\n",
       "    <tr>\n",
       "      <th>2021-07-31</th>\n",
       "      <td>4.3355e-05</td>\n",
       "      <td>-0.0005</td>\n",
       "      <td>-0.0007</td>\n",
       "      <td>-5.3335e-05</td>\n",
       "    </tr>\n",
       "    <tr>\n",
       "      <th>2021-08-31</th>\n",
       "      <td>4.2122e-05</td>\n",
       "      <td>-0.0005</td>\n",
       "      <td>-0.0007</td>\n",
       "      <td>-5.9310e-05</td>\n",
       "    </tr>\n",
       "    <tr>\n",
       "      <th>2021-09-30</th>\n",
       "      <td>3.9040e-05</td>\n",
       "      <td>-0.0005</td>\n",
       "      <td>-0.0007</td>\n",
       "      <td>-5.4310e-05</td>\n",
       "    </tr>\n",
       "    <tr>\n",
       "      <th>2021-10-31</th>\n",
       "      <td>1.0942e-04</td>\n",
       "      <td>-0.0005</td>\n",
       "      <td>-0.0007</td>\n",
       "      <td>-6.2360e-05</td>\n",
       "    </tr>\n",
       "  </tbody>\n",
       "</table>\n",
       "<p>274 rows × 4 columns</p>\n",
       "</div>"
      ],
      "text/plain": [
       "                 GBP1M   EUR1M   CHF1M       JPY1M\n",
       "DATE                                              \n",
       "1999-01-31  4.9255e-03  0.0026  0.0010  3.3458e-04\n",
       "1999-02-28  4.6137e-03  0.0026  0.0010  2.3226e-04\n",
       "1999-03-31  4.4241e-03  0.0025  0.0010  1.4270e-04\n",
       "1999-04-30  4.3944e-03  0.0021  0.0008  9.8953e-05\n",
       "1999-05-31  4.4106e-03  0.0021  0.0008  7.4997e-05\n",
       "...                ...     ...     ...         ...\n",
       "2021-06-30  4.5615e-05 -0.0005 -0.0007 -5.0143e-05\n",
       "2021-07-31  4.3355e-05 -0.0005 -0.0007 -5.3335e-05\n",
       "2021-08-31  4.2122e-05 -0.0005 -0.0007 -5.9310e-05\n",
       "2021-09-30  3.9040e-05 -0.0005 -0.0007 -5.4310e-05\n",
       "2021-10-31  1.0942e-04 -0.0005 -0.0007 -6.2360e-05\n",
       "\n",
       "[274 rows x 4 columns]"
      ]
     },
     "execution_count": 3,
     "metadata": {},
     "output_type": "execute_result"
    }
   ],
   "source": [
    "SHEET = 'risk-free rates'\n",
    "\n",
    "rf = pd.read_excel(DATAPATH_FX,sheet_name=SHEET).set_index('DATE')\n",
    "\n",
    "logRF = np.log(rf+1)\n",
    "logRFusd = logRF[[USDRF]]\n",
    "logRF.drop(columns=[USDRF],inplace=True)\n",
    "\n",
    "logRF"
   ]
  },
  {
   "cell_type": "markdown",
   "id": "1b7d7ea2",
   "metadata": {
    "hidden": true
   },
   "source": [
    "Timing of the risk-free rate\n",
    "- The data is defined such that the March value of the risk-free rate corresponds to the rate beginning in March and ending in April.\n",
    "- In terms of the class notation, $r^{f,i}_{t,t+1}$ is reported at time $t$. (It is risk-free, so it is a rate from $t$ to $t+1$ but it is know at $t$."
   ]
  },
  {
   "cell_type": "markdown",
   "id": "55c8c2cc",
   "metadata": {
    "heading_collapsed": true
   },
   "source": [
    "# The Static Carry Trade"
   ]
  },
  {
   "cell_type": "markdown",
   "id": "0f760f90",
   "metadata": {
    "hidden": true
   },
   "source": [
    "Calculate excess log returns using,\n",
    "$$\\tilde{r}^i_{t+1} \\equiv s^i_{t+1} - s^i_t + r^{f,i}_{t,t+1} - r^{f,\\$}_{t,t+1}$$\n",
    "For convenience, rewrite this as\n",
    "$$\\tilde{r}^i_{t+1} \\equiv s^i_{t+1} - s^i_t - (r^{f,\\$}_{t,t+1} - r^{f,i}_{t,t+1})$$\n",
    "\n",
    "1. Build the spread in risk-free rates: $r^{f,\\$}_{t,t+1} - r^{f,i}_{t,t+1}$.\n",
    "- Lag this variable, so that the March-to-April value is stamped as April.\n",
    "\n",
    "2. Build the FX growth rates: $ s^i_{t+1} - s^i_t$\n",
    "- These are already stamped as April for the March-to-April FX growth.\n",
    "\n",
    "Then the excess log return is simply the difference of the two objects."
   ]
  },
  {
   "cell_type": "code",
   "execution_count": 1,
   "id": "bb38f56a",
   "metadata": {
    "hidden": true,
    "scrolled": false
   },
   "outputs": [
    {
     "ename": "NameError",
     "evalue": "name 'logRF' is not defined",
     "output_type": "error",
     "traceback": [
      "\u001b[0;31m---------------------------------------------------------------------------\u001b[0m",
      "\u001b[0;31mNameError\u001b[0m                                 Traceback (most recent call last)",
      "Input \u001b[0;32mIn [1]\u001b[0m, in \u001b[0;36m<cell line: 1>\u001b[0;34m()\u001b[0m\n\u001b[0;32m----> 1\u001b[0m logRFspread \u001b[38;5;241m=\u001b[39m \u001b[38;5;241m-\u001b[39m\u001b[43mlogRF\u001b[49m\u001b[38;5;241m.\u001b[39msubtract(logRFusd\u001b[38;5;241m.\u001b[39mvalues,axis\u001b[38;5;241m=\u001b[39m\u001b[38;5;241m0\u001b[39m)\n\u001b[1;32m      2\u001b[0m logRFspread \u001b[38;5;241m=\u001b[39m logRFspread\u001b[38;5;241m.\u001b[39mshift(\u001b[38;5;241m1\u001b[39m)\n\u001b[1;32m      4\u001b[0m logFXgrowth \u001b[38;5;241m=\u001b[39m logFX\u001b[38;5;241m.\u001b[39mdiff(axis\u001b[38;5;241m=\u001b[39m\u001b[38;5;241m0\u001b[39m)\n",
      "\u001b[0;31mNameError\u001b[0m: name 'logRF' is not defined"
     ]
    }
   ],
   "source": [
    "logRFspread = -logRF.subtract(logRFusd.values,axis=0)\n",
    "logRFspread = logRFspread.shift(1)\n",
    "\n",
    "logFXgrowth = logFX.diff(axis=0)\n",
    "\n",
    "logRX = logFXgrowth - logRFspread.values\n",
    "logRX"
   ]
  },
  {
   "cell_type": "markdown",
   "id": "86b5af09",
   "metadata": {
    "hidden": true
   },
   "source": [
    "### Understanding the two components of excess log returns"
   ]
  },
  {
   "cell_type": "code",
   "execution_count": 5,
   "id": "5cdf2c29",
   "metadata": {
    "hidden": true,
    "scrolled": true
   },
   "outputs": [
    {
     "data": {
      "image/png": "[encoded data removed]",
      "text/plain": [
       "<Figure size 720x360 with 1 Axes>"
      ]
     },
     "metadata": {
      "needs_background": "light"
     },
     "output_type": "display_data"
    }
   ],
   "source": [
    "logFXgrowth.plot(title='FX Growth', figsize=(10,5));"
   ]
  },
  {
   "cell_type": "code",
   "execution_count": 6,
   "id": "307ee914",
   "metadata": {
    "hidden": true
   },
   "outputs": [
    {
     "data": {
      "image/png": "[encoded data removed]",
      "text/plain": [
       "<Figure size 720x360 with 1 Axes>"
      ]
     },
     "metadata": {
      "needs_background": "light"
     },
     "output_type": "display_data"
    }
   ],
   "source": [
    "logRFspread.plot(title='RF Spread (USD-Other)', figsize=(10,5));"
   ]
  },
  {
   "cell_type": "code",
   "execution_count": 7,
   "id": "bbb8697d",
   "metadata": {
    "hidden": true,
    "scrolled": true
   },
   "outputs": [
    {
     "data": {
      "text/html": [
       "<div>\n",
       "<style scoped>\n",
       "    .dataframe tbody tr th:only-of-type {\n",
       "        vertical-align: middle;\n",
       "    }\n",
       "\n",
       "    .dataframe tbody tr th {\n",
       "        vertical-align: top;\n",
       "    }\n",
       "\n",
       "    .dataframe thead th {\n",
       "        text-align: right;\n",
       "    }\n",
       "</style>\n",
       "<table border=\"1\" class=\"dataframe\">\n",
       "  <thead>\n",
       "    <tr style=\"text-align: right;\">\n",
       "      <th></th>\n",
       "      <th>FX effect</th>\n",
       "      <th>RF effect</th>\n",
       "      <th>Total</th>\n",
       "    </tr>\n",
       "  </thead>\n",
       "  <tbody>\n",
       "    <tr>\n",
       "      <th>USUK</th>\n",
       "      <td>-0.0081</td>\n",
       "      <td>0.0046</td>\n",
       "      <td>-0.0035</td>\n",
       "    </tr>\n",
       "    <tr>\n",
       "      <th>USEU</th>\n",
       "      <td>0.0007</td>\n",
       "      <td>-0.0050</td>\n",
       "      <td>-0.0044</td>\n",
       "    </tr>\n",
       "    <tr>\n",
       "      <th>USSZ</th>\n",
       "      <td>0.0191</td>\n",
       "      <td>-0.0148</td>\n",
       "      <td>0.0043</td>\n",
       "    </tr>\n",
       "    <tr>\n",
       "      <th>USJP</th>\n",
       "      <td>0.0008</td>\n",
       "      <td>-0.0182</td>\n",
       "      <td>-0.0174</td>\n",
       "    </tr>\n",
       "  </tbody>\n",
       "</table>\n",
       "</div>"
      ],
      "text/plain": [
       "      FX effect  RF effect   Total\n",
       "USUK    -0.0081     0.0046 -0.0035\n",
       "USEU     0.0007    -0.0050 -0.0044\n",
       "USSZ     0.0191    -0.0148  0.0043\n",
       "USJP     0.0008    -0.0182 -0.0174"
      ]
     },
     "execution_count": 7,
     "metadata": {},
     "output_type": "execute_result"
    }
   ],
   "source": [
    "rx_components = logFXgrowth.mean().to_frame()\n",
    "rx_components.columns=['FX effect']\n",
    "rx_components['RF effect'] = -logRFspread.mean().values\n",
    "rx_components['Total'] = rx_components.sum(axis=1)\n",
    "rx_components *= 12\n",
    "rx_components"
   ]
  },
  {
   "cell_type": "markdown",
   "id": "d1f21df4",
   "metadata": {
    "hidden": true
   },
   "source": [
    "### Performance Metrics\n",
    "\n",
    "Remember these are log returns, not level returns. But the distinction is minor for the quantitative results here."
   ]
  },
  {
   "cell_type": "code",
   "execution_count": 8,
   "id": "abb122f1",
   "metadata": {
    "hidden": true
   },
   "outputs": [
    {
     "data": {
      "text/html": [
       "<div>\n",
       "<style scoped>\n",
       "    .dataframe tbody tr th:only-of-type {\n",
       "        vertical-align: middle;\n",
       "    }\n",
       "\n",
       "    .dataframe tbody tr th {\n",
       "        vertical-align: top;\n",
       "    }\n",
       "\n",
       "    .dataframe thead th {\n",
       "        text-align: right;\n",
       "    }\n",
       "</style>\n",
       "<table border=\"1\" class=\"dataframe\">\n",
       "  <thead>\n",
       "    <tr style=\"text-align: right;\">\n",
       "      <th></th>\n",
       "      <th>Mean</th>\n",
       "      <th>Vol</th>\n",
       "      <th>Sharpe</th>\n",
       "      <th>Min</th>\n",
       "      <th>Max</th>\n",
       "    </tr>\n",
       "  </thead>\n",
       "  <tbody>\n",
       "    <tr>\n",
       "      <th>USUK</th>\n",
       "      <td>-0.0035</td>\n",
       "      <td>0.0863</td>\n",
       "      <td>-0.0406</td>\n",
       "      <td>-0.0949</td>\n",
       "      <td>0.0883</td>\n",
       "    </tr>\n",
       "    <tr>\n",
       "      <th>USEU</th>\n",
       "      <td>-0.0044</td>\n",
       "      <td>0.0947</td>\n",
       "      <td>-0.0459</td>\n",
       "      <td>-0.1037</td>\n",
       "      <td>0.0935</td>\n",
       "    </tr>\n",
       "    <tr>\n",
       "      <th>USSZ</th>\n",
       "      <td>0.0043</td>\n",
       "      <td>0.0988</td>\n",
       "      <td>0.0437</td>\n",
       "      <td>-0.1185</td>\n",
       "      <td>0.1300</td>\n",
       "    </tr>\n",
       "    <tr>\n",
       "      <th>USJP</th>\n",
       "      <td>-0.0174</td>\n",
       "      <td>0.0915</td>\n",
       "      <td>-0.1903</td>\n",
       "      <td>-0.0850</td>\n",
       "      <td>0.0743</td>\n",
       "    </tr>\n",
       "  </tbody>\n",
       "</table>\n",
       "</div>"
      ],
      "text/plain": [
       "        Mean     Vol  Sharpe     Min     Max\n",
       "USUK -0.0035  0.0863 -0.0406 -0.0949  0.0883\n",
       "USEU -0.0044  0.0947 -0.0459 -0.1037  0.0935\n",
       "USSZ  0.0043  0.0988  0.0437 -0.1185  0.1300\n",
       "USJP -0.0174  0.0915 -0.1903 -0.0850  0.0743"
      ]
     },
     "execution_count": 8,
     "metadata": {},
     "output_type": "execute_result"
    }
   ],
   "source": [
    "performanceMetrics(logRX,annualization=12)"
   ]
  },
  {
   "cell_type": "markdown",
   "id": "c1ae6c70",
   "metadata": {
    "hidden": true
   },
   "source": [
    "## Implications for UIP\n",
    "\n",
    "The results above are evidence against UIP, but not strong evidence.\n",
    "- UIP implies that the mean excess return should be zero. The USD and JPY trade seems to have a mean excess return significantly different from zero.)\n",
    "\n",
    "- The evidence from the other currencies is not clear. Their mean excess return is not exactly zero, but they are so close to zero that they may not be statistically significant.\n",
    "\n",
    "- Note that UIP makes no implication about the volatility of these excess returns.\n",
    "\n",
    "A long position in three of the currencies had negative mean excess (log) returns!\n",
    "- Being long CHF would have delivered a small positive mean excess log return, but a poor Sharpe.\n",
    "- The best trade would have been to be short JPY and long USD. This delivered a small but positive mean return and Sharpe."
   ]
  },
  {
   "cell_type": "markdown",
   "id": "8ee14b5a",
   "metadata": {
    "heading_collapsed": true
   },
   "source": [
    "# Predicting FX"
   ]
  },
  {
   "cell_type": "markdown",
   "id": "71c42aee",
   "metadata": {
    "hidden": true
   },
   "source": [
    "Run a forecasting regression for the log FX Growth, as implied by UIP.\n",
    "- UIP implies that the interest rate spread is the optimal predictor of FX growth.\n",
    "- Thus, it implies the forecasting beta should be 1."
   ]
  },
  {
   "cell_type": "code",
   "execution_count": 9,
   "id": "cacae40b",
   "metadata": {
    "hidden": true
   },
   "outputs": [
    {
     "data": {
      "text/html": [
       "<div>\n",
       "<style scoped>\n",
       "    .dataframe tbody tr th:only-of-type {\n",
       "        vertical-align: middle;\n",
       "    }\n",
       "\n",
       "    .dataframe tbody tr th {\n",
       "        vertical-align: top;\n",
       "    }\n",
       "\n",
       "    .dataframe thead th {\n",
       "        text-align: right;\n",
       "    }\n",
       "</style>\n",
       "<table border=\"1\" class=\"dataframe\">\n",
       "  <thead>\n",
       "    <tr style=\"text-align: right;\">\n",
       "      <th></th>\n",
       "      <th>USUK</th>\n",
       "      <th>USEU</th>\n",
       "      <th>USSZ</th>\n",
       "      <th>USJP</th>\n",
       "    </tr>\n",
       "  </thead>\n",
       "  <tbody>\n",
       "    <tr>\n",
       "      <th>alpha</th>\n",
       "      <td>-0.0005</td>\n",
       "      <td>0.0006</td>\n",
       "      <td>0.0036</td>\n",
       "      <td>-0.0005</td>\n",
       "    </tr>\n",
       "    <tr>\n",
       "      <th>Beta</th>\n",
       "      <td>0.4858</td>\n",
       "      <td>-1.2564</td>\n",
       "      <td>-1.6466</td>\n",
       "      <td>0.3715</td>\n",
       "    </tr>\n",
       "    <tr>\n",
       "      <th>r-squared</th>\n",
       "      <td>0.0004</td>\n",
       "      <td>0.0026</td>\n",
       "      <td>0.0039</td>\n",
       "      <td>0.0005</td>\n",
       "    </tr>\n",
       "  </tbody>\n",
       "</table>\n",
       "</div>"
      ],
      "text/plain": [
       "             USUK    USEU    USSZ    USJP\n",
       "alpha     -0.0005  0.0006  0.0036 -0.0005\n",
       "Beta       0.4858 -1.2564 -1.6466  0.3715\n",
       "r-squared  0.0004  0.0026  0.0039  0.0005"
      ]
     },
     "execution_count": 9,
     "metadata": {},
     "output_type": "execute_result"
    }
   ],
   "source": [
    "olstab = pd.DataFrame(index=logFXgrowth.columns, columns=['alpha','Beta','r-squared'])\n",
    "for i, curncy in enumerate(logFXgrowth.columns):\n",
    "    temp = get_ols_metrics(logRFspread.iloc[:,i],logFXgrowth.iloc[:,i],annualization=1).drop(columns=['Treynor Ratio','Info Ratio'])\n",
    "    temp.rename(columns={logRFspread.columns[i]:'Beta'}, inplace=True)\n",
    "    olstab.loc[curncy,:] = temp.values\n",
    "\n",
    "olstab.T"
   ]
  },
  {
   "cell_type": "markdown",
   "id": "4820e961",
   "metadata": {
    "hidden": true
   },
   "source": [
    "#### Predicting Appreciation or Depreciation?\n",
    "\n",
    "Look at whether the betas are positive or negative.\n",
    "\n",
    "If the regressor (USD minus foreign risk-free rate) goes DOWN, then we expect \n",
    "- decreased UK and JP relative to US.\n",
    "- increased EU and SZ relative to US. (That is, the expected FX growth is higher.)\n",
    "\n",
    "Thus, if UK risk-free rate increases relative to US risk-free rate, we expect USD will appreciate.\n",
    "- This means FX growth is partially offsetting the interest-rate differential. But not fully. Beta is positive, but less than one.\n",
    "\n",
    "For EU and SZ,\n",
    "- this means that FX growth is exacerbating the returns from the interest rate differentials. Beta is negative, so in a sense, investors expect to gain twice: immediately from the risk-free rate differential, and again from the FX movement at the close of the position.\n",
    "\n",
    "In fact, the statements above are just about the point estimates, and may not be statistically significant.\n",
    "\n",
    "#### Strength of Predictability?\n",
    "These effects are extremely small! The R-squared stats for all four currencies are nearly 0. "
   ]
  },
  {
   "cell_type": "markdown",
   "id": "51a9d2df",
   "metadata": {
    "heading_collapsed": true
   },
   "source": [
    "# The Dynamic Carry Trade"
   ]
  },
  {
   "cell_type": "code",
   "execution_count": 10,
   "id": "7bb88b7e",
   "metadata": {
    "hidden": true
   },
   "outputs": [
    {
     "data": {
      "text/html": [
       "<div>\n",
       "<style scoped>\n",
       "    .dataframe tbody tr th:only-of-type {\n",
       "        vertical-align: middle;\n",
       "    }\n",
       "\n",
       "    .dataframe tbody tr th {\n",
       "        vertical-align: top;\n",
       "    }\n",
       "\n",
       "    .dataframe thead th {\n",
       "        text-align: right;\n",
       "    }\n",
       "</style>\n",
       "<table border=\"1\" class=\"dataframe\">\n",
       "  <thead>\n",
       "    <tr style=\"text-align: right;\">\n",
       "      <th></th>\n",
       "      <th>USUK</th>\n",
       "      <th>USEU</th>\n",
       "      <th>USSZ</th>\n",
       "      <th>USJP</th>\n",
       "    </tr>\n",
       "    <tr>\n",
       "      <th>DATE</th>\n",
       "      <th></th>\n",
       "      <th></th>\n",
       "      <th></th>\n",
       "      <th></th>\n",
       "    </tr>\n",
       "  </thead>\n",
       "  <tbody>\n",
       "    <tr>\n",
       "      <th>1999-01-31</th>\n",
       "      <td>NaN</td>\n",
       "      <td>NaN</td>\n",
       "      <td>NaN</td>\n",
       "      <td>NaN</td>\n",
       "    </tr>\n",
       "    <tr>\n",
       "      <th>1999-02-28</th>\n",
       "      <td>-6.8394e-05</td>\n",
       "      <td>-0.0028</td>\n",
       "      <td>-0.0046</td>\n",
       "      <td>-0.0029</td>\n",
       "    </tr>\n",
       "    <tr>\n",
       "      <th>1999-03-31</th>\n",
       "      <td>-2.3875e-04</td>\n",
       "      <td>-0.0029</td>\n",
       "      <td>-0.0046</td>\n",
       "      <td>-0.0029</td>\n",
       "    </tr>\n",
       "    <tr>\n",
       "      <th>1999-04-30</th>\n",
       "      <td>-3.2543e-04</td>\n",
       "      <td>-0.0031</td>\n",
       "      <td>-0.0046</td>\n",
       "      <td>-0.0030</td>\n",
       "    </tr>\n",
       "    <tr>\n",
       "      <th>1999-05-31</th>\n",
       "      <td>-3.2588e-04</td>\n",
       "      <td>-0.0038</td>\n",
       "      <td>-0.0050</td>\n",
       "      <td>-0.0030</td>\n",
       "    </tr>\n",
       "    <tr>\n",
       "      <th>...</th>\n",
       "      <td>...</td>\n",
       "      <td>...</td>\n",
       "      <td>...</td>\n",
       "      <td>...</td>\n",
       "    </tr>\n",
       "    <tr>\n",
       "      <th>2021-06-30</th>\n",
       "      <td>-5.0427e-04</td>\n",
       "      <td>-0.0007</td>\n",
       "      <td>0.0017</td>\n",
       "      <td>-0.0006</td>\n",
       "    </tr>\n",
       "    <tr>\n",
       "      <th>2021-07-31</th>\n",
       "      <td>-5.0863e-04</td>\n",
       "      <td>-0.0007</td>\n",
       "      <td>0.0016</td>\n",
       "      <td>-0.0006</td>\n",
       "    </tr>\n",
       "    <tr>\n",
       "      <th>2021-08-31</th>\n",
       "      <td>-5.0551e-04</td>\n",
       "      <td>-0.0007</td>\n",
       "      <td>0.0017</td>\n",
       "      <td>-0.0006</td>\n",
       "    </tr>\n",
       "    <tr>\n",
       "      <th>2021-09-30</th>\n",
       "      <td>-5.0271e-04</td>\n",
       "      <td>-0.0007</td>\n",
       "      <td>0.0017</td>\n",
       "      <td>-0.0006</td>\n",
       "    </tr>\n",
       "    <tr>\n",
       "      <th>2021-10-31</th>\n",
       "      <td>-5.0333e-04</td>\n",
       "      <td>-0.0006</td>\n",
       "      <td>0.0017</td>\n",
       "      <td>-0.0006</td>\n",
       "    </tr>\n",
       "  </tbody>\n",
       "</table>\n",
       "<p>274 rows × 4 columns</p>\n",
       "</div>"
      ],
      "text/plain": [
       "                  USUK    USEU    USSZ    USJP\n",
       "DATE                                          \n",
       "1999-01-31         NaN     NaN     NaN     NaN\n",
       "1999-02-28 -6.8394e-05 -0.0028 -0.0046 -0.0029\n",
       "1999-03-31 -2.3875e-04 -0.0029 -0.0046 -0.0029\n",
       "1999-04-30 -3.2543e-04 -0.0031 -0.0046 -0.0030\n",
       "1999-05-31 -3.2588e-04 -0.0038 -0.0050 -0.0030\n",
       "...                ...     ...     ...     ...\n",
       "2021-06-30 -5.0427e-04 -0.0007  0.0017 -0.0006\n",
       "2021-07-31 -5.0863e-04 -0.0007  0.0016 -0.0006\n",
       "2021-08-31 -5.0551e-04 -0.0007  0.0017 -0.0006\n",
       "2021-09-30 -5.0271e-04 -0.0007  0.0017 -0.0006\n",
       "2021-10-31 -5.0333e-04 -0.0006  0.0017 -0.0006\n",
       "\n",
       "[274 rows x 4 columns]"
      ]
     },
     "execution_count": 10,
     "metadata": {},
     "output_type": "execute_result"
    }
   ],
   "source": [
    "forecast = pd.DataFrame(columns=logFXgrowth.columns, index=logFXgrowth.index)\n",
    "for i, curncy in enumerate(logFXgrowth.columns):\n",
    "    forecast[curncy] = olstab.loc[curncy,'alpha'] + (olstab.loc[curncy,'Beta']-1) * logRFspread.iloc[:,i]\n",
    "\n",
    "forecast"
   ]
  },
  {
   "cell_type": "markdown",
   "id": "b836ba3d",
   "metadata": {
    "hidden": true
   },
   "source": [
    "### Forecast timing\n",
    "We do not need to lag the forecasts with `.shift()` because we already use the lagged calculation of the interest rate spread. \n",
    "\n",
    "Thus, the regressor is lagged, and thus is generating forecasts stamped with the date of their targeted value, as desired."
   ]
  },
  {
   "cell_type": "code",
   "execution_count": 11,
   "id": "11bef413",
   "metadata": {
    "hidden": true
   },
   "outputs": [
    {
     "data": {
      "text/html": [
       "<div>\n",
       "<style scoped>\n",
       "    .dataframe tbody tr th:only-of-type {\n",
       "        vertical-align: middle;\n",
       "    }\n",
       "\n",
       "    .dataframe tbody tr th {\n",
       "        vertical-align: top;\n",
       "    }\n",
       "\n",
       "    .dataframe thead th {\n",
       "        text-align: right;\n",
       "    }\n",
       "</style>\n",
       "<table border=\"1\" class=\"dataframe\">\n",
       "  <thead>\n",
       "    <tr style=\"text-align: right;\">\n",
       "      <th></th>\n",
       "      <th>USUK</th>\n",
       "      <th>USEU</th>\n",
       "      <th>USSZ</th>\n",
       "      <th>USJP</th>\n",
       "    </tr>\n",
       "  </thead>\n",
       "  <tbody>\n",
       "    <tr>\n",
       "      <th>fraction with positive forecastium</th>\n",
       "      <td>0.2381</td>\n",
       "      <td>0.5018</td>\n",
       "      <td>0.63</td>\n",
       "      <td>0.0</td>\n",
       "    </tr>\n",
       "  </tbody>\n",
       "</table>\n",
       "</div>"
      ],
      "text/plain": [
       "                                      USUK    USEU  USSZ  USJP\n",
       "fraction with positive forecastium  0.2381  0.5018  0.63   0.0"
      ]
     },
     "execution_count": 11,
     "metadata": {},
     "output_type": "execute_result"
    }
   ],
   "source": [
    "forecast_positive = ((forecast.dropna() > 0).sum() / forecast.dropna().shape[0]).to_frame().T\n",
    "forecast_positive.index = ['fraction with positive forecastium']\n",
    "forecast_positive"
   ]
  },
  {
   "cell_type": "code",
   "execution_count": 12,
   "id": "30938342",
   "metadata": {
    "hidden": true
   },
   "outputs": [
    {
     "data": {
      "image/png": "[encoded data removed]",
      "text/plain": [
       "<Figure size 720x432 with 1 Axes>"
      ]
     },
     "metadata": {
      "needs_background": "light"
     },
     "output_type": "display_data"
    }
   ],
   "source": [
    "forecast.plot(title='Forecasted Excess Log Returns', figsize=(10,6));"
   ]
  },
  {
   "cell_type": "markdown",
   "id": "169b8a9a",
   "metadata": {
    "hidden": true
   },
   "source": [
    "#### Positive or Negative Forecasts?\n",
    "\n",
    "Though the static carry-trade above found that UK and EU have negative mean excess (log) returns, the dynamic carry trade finds that the time-varying forecast is often positive.\n",
    "\n",
    "For JP, the forecast is negative throughout the sample due to the much higher interest rate in USD not being offset by appreciation of the Yen to the USD.\n",
    "\n",
    "#### Improving the Trade?\n",
    "\n",
    "We can use forecasts of excess returns to construct trading positions, (weights,) which vary with the forecasts. The resulting trading strategy should be better than the static carry trade.\n",
    "\n",
    "That is, we could time the magnitude and direction of the currency trades instead of being passively 100\\% invested in a currency according to the evidence above.\n",
    "\n",
    "It is analagous to timing the trading of SPY according to the Earnings-Price Ratio instead of being passively 100\\% invested in SPY.\n",
    "\n",
    "Of course, it is an open question as to whether this will work given the weak R-squared in-sample, let alone out-of-sample."
   ]
  },
  {
   "cell_type": "markdown",
   "id": "9a990df0",
   "metadata": {
    "heading_collapsed": true
   },
   "source": [
    "# Building the Dynamic Trade"
   ]
  },
  {
   "cell_type": "markdown",
   "id": "47db9ab9",
   "metadata": {
    "hidden": true
   },
   "source": [
    "Try implementing the forecasts with a simple proportional weighting of each forecast."
   ]
  },
  {
   "cell_type": "code",
   "execution_count": 13,
   "id": "0376029a",
   "metadata": {
    "hidden": true
   },
   "outputs": [
    {
     "data": {
      "text/html": [
       "<div>\n",
       "<style scoped>\n",
       "    .dataframe tbody tr th:only-of-type {\n",
       "        vertical-align: middle;\n",
       "    }\n",
       "\n",
       "    .dataframe tbody tr th {\n",
       "        vertical-align: top;\n",
       "    }\n",
       "\n",
       "    .dataframe thead th {\n",
       "        text-align: right;\n",
       "    }\n",
       "</style>\n",
       "<table border=\"1\" class=\"dataframe\">\n",
       "  <thead>\n",
       "    <tr style=\"text-align: right;\">\n",
       "      <th></th>\n",
       "      <th>USUK</th>\n",
       "      <th>USEU</th>\n",
       "      <th>USSZ</th>\n",
       "      <th>USJP</th>\n",
       "    </tr>\n",
       "    <tr>\n",
       "      <th>DATE</th>\n",
       "      <th></th>\n",
       "      <th></th>\n",
       "      <th></th>\n",
       "      <th></th>\n",
       "    </tr>\n",
       "  </thead>\n",
       "  <tbody>\n",
       "    <tr>\n",
       "      <th>1999-01-31</th>\n",
       "      <td>NaN</td>\n",
       "      <td>NaN</td>\n",
       "      <td>NaN</td>\n",
       "      <td>NaN</td>\n",
       "    </tr>\n",
       "    <tr>\n",
       "      <th>1999-02-28</th>\n",
       "      <td>0.0002</td>\n",
       "      <td>9.9311e-03</td>\n",
       "      <td>0.0119</td>\n",
       "      <td>0.0077</td>\n",
       "    </tr>\n",
       "    <tr>\n",
       "      <th>1999-03-31</th>\n",
       "      <td>-0.0002</td>\n",
       "      <td>5.3562e-03</td>\n",
       "      <td>0.0101</td>\n",
       "      <td>0.0005</td>\n",
       "    </tr>\n",
       "    <tr>\n",
       "      <th>1999-04-30</th>\n",
       "      <td>0.0001</td>\n",
       "      <td>7.4887e-03</td>\n",
       "      <td>0.0162</td>\n",
       "      <td>0.0037</td>\n",
       "    </tr>\n",
       "    <tr>\n",
       "      <th>1999-05-31</th>\n",
       "      <td>0.0001</td>\n",
       "      <td>5.8593e-03</td>\n",
       "      <td>0.0024</td>\n",
       "      <td>0.0048</td>\n",
       "    </tr>\n",
       "    <tr>\n",
       "      <th>...</th>\n",
       "      <td>...</td>\n",
       "      <td>...</td>\n",
       "      <td>...</td>\n",
       "      <td>...</td>\n",
       "    </tr>\n",
       "    <tr>\n",
       "      <th>2021-06-30</th>\n",
       "      <td>0.0014</td>\n",
       "      <td>1.9275e-03</td>\n",
       "      <td>-0.0049</td>\n",
       "      <td>0.0007</td>\n",
       "    </tr>\n",
       "    <tr>\n",
       "      <th>2021-07-31</th>\n",
       "      <td>-0.0004</td>\n",
       "      <td>-5.4750e-05</td>\n",
       "      <td>0.0033</td>\n",
       "      <td>-0.0007</td>\n",
       "    </tr>\n",
       "    <tr>\n",
       "      <th>2021-08-31</th>\n",
       "      <td>0.0006</td>\n",
       "      <td>3.9923e-04</td>\n",
       "      <td>-0.0020</td>\n",
       "      <td>0.0002</td>\n",
       "    </tr>\n",
       "    <tr>\n",
       "      <th>2021-09-30</th>\n",
       "      <td>0.0010</td>\n",
       "      <td>1.3082e-03</td>\n",
       "      <td>-0.0034</td>\n",
       "      <td>0.0008</td>\n",
       "    </tr>\n",
       "    <tr>\n",
       "      <th>2021-10-31</th>\n",
       "      <td>-0.0008</td>\n",
       "      <td>1.7394e-04</td>\n",
       "      <td>0.0031</td>\n",
       "      <td>0.0013</td>\n",
       "    </tr>\n",
       "  </tbody>\n",
       "</table>\n",
       "<p>274 rows × 4 columns</p>\n",
       "</div>"
      ],
      "text/plain": [
       "              USUK        USEU    USSZ    USJP\n",
       "DATE                                          \n",
       "1999-01-31     NaN         NaN     NaN     NaN\n",
       "1999-02-28  0.0002  9.9311e-03  0.0119  0.0077\n",
       "1999-03-31 -0.0002  5.3562e-03  0.0101  0.0005\n",
       "1999-04-30  0.0001  7.4887e-03  0.0162  0.0037\n",
       "1999-05-31  0.0001  5.8593e-03  0.0024  0.0048\n",
       "...            ...         ...     ...     ...\n",
       "2021-06-30  0.0014  1.9275e-03 -0.0049  0.0007\n",
       "2021-07-31 -0.0004 -5.4750e-05  0.0033 -0.0007\n",
       "2021-08-31  0.0006  3.9923e-04 -0.0020  0.0002\n",
       "2021-09-30  0.0010  1.3082e-03 -0.0034  0.0008\n",
       "2021-10-31 -0.0008  1.7394e-04  0.0031  0.0013\n",
       "\n",
       "[274 rows x 4 columns]"
      ]
     },
     "execution_count": 13,
     "metadata": {},
     "output_type": "execute_result"
    }
   ],
   "source": [
    "passive = logRX\n",
    "forecast_baseline = logRX.expanding().mean().shift(1)\n",
    "\n",
    "wts = 100 * forecast\n",
    "forecast_returns = wts * passive.values\n",
    "forecast_returns"
   ]
  },
  {
   "cell_type": "markdown",
   "id": "9f86c144",
   "metadata": {
    "hidden": true
   },
   "source": [
    "## Check the performance\n",
    "\n",
    "#### Also compare to the equally-weighted combination of the currency trades\n",
    "\n",
    "All stats are **much** better than the static carry trade.\n",
    "- But this is an in-sample performance.\n",
    "- Open question whether the OOS version can beat the static table.\n",
    "\n",
    "Note that currencies have low means and low vols, so in no case are we expecting to get equity-like return statistics."
   ]
  },
  {
   "cell_type": "code",
   "execution_count": 14,
   "id": "0d7bf19b",
   "metadata": {
    "hidden": true
   },
   "outputs": [
    {
     "data": {
      "text/html": [
       "<div>\n",
       "<style scoped>\n",
       "    .dataframe tbody tr th:only-of-type {\n",
       "        vertical-align: middle;\n",
       "    }\n",
       "\n",
       "    .dataframe tbody tr th {\n",
       "        vertical-align: top;\n",
       "    }\n",
       "\n",
       "    .dataframe thead th {\n",
       "        text-align: right;\n",
       "    }\n",
       "</style>\n",
       "<table border=\"1\" class=\"dataframe\">\n",
       "  <thead>\n",
       "    <tr style=\"text-align: right;\">\n",
       "      <th></th>\n",
       "      <th>Mean</th>\n",
       "      <th>Vol</th>\n",
       "      <th>Sharpe</th>\n",
       "      <th>Min</th>\n",
       "      <th>Max</th>\n",
       "    </tr>\n",
       "  </thead>\n",
       "  <tbody>\n",
       "    <tr>\n",
       "      <th>USUK</th>\n",
       "      <td>0.0004</td>\n",
       "      <td>0.0050</td>\n",
       "      <td>0.0840</td>\n",
       "      <td>-0.0060</td>\n",
       "      <td>0.0049</td>\n",
       "    </tr>\n",
       "    <tr>\n",
       "      <th>USEU</th>\n",
       "      <td>0.0076</td>\n",
       "      <td>0.0241</td>\n",
       "      <td>0.3166</td>\n",
       "      <td>-0.0378</td>\n",
       "      <td>0.0347</td>\n",
       "    </tr>\n",
       "    <tr>\n",
       "      <th>USSZ</th>\n",
       "      <td>0.0100</td>\n",
       "      <td>0.0283</td>\n",
       "      <td>0.3530</td>\n",
       "      <td>-0.0373</td>\n",
       "      <td>0.0257</td>\n",
       "    </tr>\n",
       "    <tr>\n",
       "      <th>USJP</th>\n",
       "      <td>0.0037</td>\n",
       "      <td>0.0165</td>\n",
       "      <td>0.2251</td>\n",
       "      <td>-0.0220</td>\n",
       "      <td>0.0218</td>\n",
       "    </tr>\n",
       "    <tr>\n",
       "      <th>Equally-Weighted</th>\n",
       "      <td>0.0545</td>\n",
       "      <td>0.1356</td>\n",
       "      <td>0.4017</td>\n",
       "      <td>-0.1684</td>\n",
       "      <td>0.1486</td>\n",
       "    </tr>\n",
       "  </tbody>\n",
       "</table>\n",
       "</div>"
      ],
      "text/plain": [
       "                    Mean     Vol  Sharpe     Min     Max\n",
       "USUK              0.0004  0.0050  0.0840 -0.0060  0.0049\n",
       "USEU              0.0076  0.0241  0.3166 -0.0378  0.0347\n",
       "USSZ              0.0100  0.0283  0.3530 -0.0373  0.0257\n",
       "USJP              0.0037  0.0165  0.2251 -0.0220  0.0218\n",
       "Equally-Weighted  0.0545  0.1356  0.4017 -0.1684  0.1486"
      ]
     },
     "execution_count": 14,
     "metadata": {},
     "output_type": "execute_result"
    }
   ],
   "source": [
    "forecast_returns['Equally-Weighted'] = forecast_returns.mean(axis=1) * 10\n",
    "\n",
    "performanceMetrics(forecast_returns,annualization=12)"
   ]
  },
  {
   "cell_type": "markdown",
   "id": "3e209ff7",
   "metadata": {
    "hidden": true
   },
   "source": [
    "### How correlated are the active (forecasted) implementations to the passive returns?\n",
    "\n",
    "- Not all that correlated.\n",
    "- Note that we're interested in the magnitude, not the sign.\n",
    "- The active version is shorting JP, so no surprise that the correlation is negative."
   ]
  },
  {
   "cell_type": "code",
   "execution_count": 15,
   "id": "fc727254",
   "metadata": {
    "hidden": true,
    "scrolled": true
   },
   "outputs": [
    {
     "data": {
      "text/html": [
       "<div>\n",
       "<style scoped>\n",
       "    .dataframe tbody tr th:only-of-type {\n",
       "        vertical-align: middle;\n",
       "    }\n",
       "\n",
       "    .dataframe tbody tr th {\n",
       "        vertical-align: top;\n",
       "    }\n",
       "\n",
       "    .dataframe thead th {\n",
       "        text-align: right;\n",
       "    }\n",
       "</style>\n",
       "<table border=\"1\" class=\"dataframe\">\n",
       "  <thead>\n",
       "    <tr style=\"text-align: right;\">\n",
       "      <th></th>\n",
       "      <th>USUK</th>\n",
       "      <th>USEU</th>\n",
       "      <th>USSZ</th>\n",
       "      <th>USJP</th>\n",
       "    </tr>\n",
       "  </thead>\n",
       "  <tbody>\n",
       "    <tr>\n",
       "      <th>Corr. Passive to Active</th>\n",
       "      <td>-0.3961</td>\n",
       "      <td>0.2602</td>\n",
       "      <td>0.3772</td>\n",
       "      <td>-0.8106</td>\n",
       "    </tr>\n",
       "  </tbody>\n",
       "</table>\n",
       "</div>"
      ],
      "text/plain": [
       "                           USUK    USEU    USSZ    USJP\n",
       "Corr. Passive to Active -0.3961  0.2602  0.3772 -0.8106"
      ]
     },
     "execution_count": 15,
     "metadata": {},
     "output_type": "execute_result"
    }
   ],
   "source": [
    "corr_tab = forecast_returns.corrwith(passive,drop='missing',axis=0).to_frame().T\n",
    "corr_tab.index = ['Corr. Passive to Active']\n",
    "corr_tab"
   ]
  }
 ],
 "metadata": {
  "hide_input": false,
  "kernelspec": {
   "display_name": "Python 3 (ipykernel)",
   "language": "python",
   "name": "python3"
  },
  "language_info": {
   "codemirror_mode": {
    "name": "ipython",
    "version": 3
   },
   "file_extension": ".py",
   "mimetype": "text/x-python",
   "name": "python",
   "nbconvert_exporter": "python",
   "pygments_lexer": "ipython3",
   "version": "3.9.7"
  }
 },
 "nbformat": 4,
 "nbformat_minor": 5
}
