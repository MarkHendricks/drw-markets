{
 "cells": [
  {
   "cell_type": "markdown",
   "id": "e80086c7",
   "metadata": {},
   "source": [
    "# C.2. Multiperiod Trees and American Options\n",
    "\n",
    "## Module: Options\n",
    "\n",
    "### DRW New-Hire Learning Program\n",
    "\n",
    "#### Summer 2022\n",
    "\n",
    "Questions?\n",
    "* Contact: Mark Hendricks\n",
    "* hendricks@uchicago.edu"
   ]
  },
  {
   "cell_type": "markdown",
   "id": "7a83f8f5",
   "metadata": {},
   "source": [
    "$$\\newcommand{\\Ern}{E^*}$$\n",
    "$$\\newcommand{\\hedge}{\\beta}$$\n",
    "$$\\newcommand{\\dt}{\\Delta t}$$"
   ]
  },
  {
   "cell_type": "markdown",
   "id": "b40f140a",
   "metadata": {},
   "source": [
    "# A Multiperiod Tree"
   ]
  },
  {
   "cell_type": "markdown",
   "id": "d100f3d1",
   "metadata": {},
   "source": [
    "### Reminder on the One-period Tree\n",
    "\n",
    "We have focused on a one-period (of uncertainty) tree for\n",
    "* equities\n",
    "* rates\n",
    "\n",
    "We saw that the same computational approach applied to both, and it priced the option via\n",
    "* no-arbitrage replication\n",
    "* no-arbitrage risk-adjusted (risk-neutral) discounted expected values.\n",
    "\n",
    "\n",
    "## Multiperiod Equity Tree\n",
    "\n",
    "Continue the logic of the equity tree, and extend it to a second period.\n",
    "* Continue to use $u$ and $d$ to denote multiplicative \"up\" and \"down\" factors.\n",
    "* Fill out the underlying tree with $u$ and $d$ factors to match the volatility of the underlying.\n",
    "\n",
    "See the figure below."
   ]
  },
  {
   "cell_type": "markdown",
   "id": "e14afb9b",
   "metadata": {},
   "source": [
    "<img src=\"../refs/options/tree_multiperiod/two_period_form.png\" width=\"700\" />\n",
    "Reference: John Hull, Chapter 13."
   ]
  },
  {
   "cell_type": "markdown",
   "id": "ad7cec19",
   "metadata": {},
   "source": [
    "## Solution Method\n",
    "\n",
    "#### Boundary (Terminal) Conditions\n",
    "\n",
    "The contract determines the payoff at expiration as a known function of the underlying.\n",
    "* This gives us the option value at the final nodes.\n",
    "\n",
    "#### Moving Backward\n",
    "From there, go backward in time one node.\n",
    "* We have two separate, one-period trees.\n",
    "\n",
    "The solution procedure works exactly as discussed before--same formulas, with the obvious adaptations.\n",
    "* $f_{uu}$ and $f_{ud}$ instead of $f_u$ and $f_d$.\n",
    "* $S_0uu$ and $S_0ud$ instead of $S_0u$ and $S_0d$."
   ]
  },
  {
   "cell_type": "markdown",
   "id": "95fe434f",
   "metadata": {},
   "source": [
    "# The Multiperiod Tree\n",
    "\n",
    "#### Iterate\n",
    "* Continue at each state of $T-i\\dt$.\n",
    "* Move back a time step, $\\dt$, and continue.\n",
    "\n",
    "#### Choosing a time-grid\n",
    "The time-grid must be chosen fine enough to get convergence.\n",
    "* Common to see $\\dt$ chosen such that there are around 30 steps for a vanilla American option.\n",
    "* Exotic options (barrier, knock-in, etc) may need many more steps.\n",
    "\n",
    "If the time grid is chosen too coarsely, the solution will not converge to a reasonable solution.\n",
    "* Furthermore, there may be issues of negative risk-neutral probabilities.\n",
    "* If the variance in any given step is too large, the probabilities become extreme to try to match it.\n",
    "* Small time-steps keep this from happening.\n",
    "\n",
    "#### Specific underlying values\n",
    "In the tree, we do not get to set the exact price values.\n",
    "* We have been setting $u$ and $d$ to match volatility.\n",
    "* For some options, specific underlying values are of importance.\n",
    "\n",
    "For this flexibility, we would need to take a different approach which will lead to **trinomial trees.**"
   ]
  },
  {
   "cell_type": "code",
   "execution_count": 1,
   "id": "daf3deed",
   "metadata": {},
   "outputs": [],
   "source": [
    "import pandas as pd\n",
    "import numpy as np\n",
    "import sys\n",
    "sys.path.insert(0, '../cmds')\n",
    "from options import *"
   ]
  },
  {
   "cell_type": "markdown",
   "id": "f5a86144",
   "metadata": {},
   "source": [
    "### Inputs"
   ]
  },
  {
   "cell_type": "code",
   "execution_count": 2,
   "id": "beeb19db",
   "metadata": {},
   "outputs": [],
   "source": [
    "## Market variables\n",
    "r = .05\n",
    "sigma = .25\n",
    "So = 50\n",
    "\n",
    "## Contract\n",
    "T = 2\n",
    "K = 55\n",
    "funPayoff = lambda x: np.maximum(K-x,0)\n",
    "\n",
    "## Solving variable\n",
    "Nt = 2\n",
    "uset = 1.2\n",
    "dset = .8\n",
    "\n",
    "dt = T/Nt"
   ]
  },
  {
   "cell_type": "markdown",
   "id": "b6451477",
   "metadata": {},
   "source": [
    "### Underlying Tree"
   ]
  },
  {
   "cell_type": "code",
   "execution_count": 3,
   "id": "a281b813",
   "metadata": {
    "scrolled": true
   },
   "outputs": [
    {
     "data": {
      "text/html": [
       "<style type=\"text/css\">\n",
       "</style>\n",
       "<table id=\"T_29386\">\n",
       "  <thead>\n",
       "    <tr>\n",
       "      <th class=\"blank level0\" >&nbsp;</th>\n",
       "      <th id=\"T_29386_level0_col0\" class=\"col_heading level0 col0\" >0</th>\n",
       "      <th id=\"T_29386_level0_col1\" class=\"col_heading level0 col1\" >1</th>\n",
       "      <th id=\"T_29386_level0_col2\" class=\"col_heading level0 col2\" >2</th>\n",
       "    </tr>\n",
       "  </thead>\n",
       "  <tbody>\n",
       "    <tr>\n",
       "      <th id=\"T_29386_level0_row0\" class=\"row_heading level0 row0\" >0</th>\n",
       "      <td id=\"T_29386_row0_col0\" class=\"data row0 col0\" >50.00</td>\n",
       "      <td id=\"T_29386_row0_col1\" class=\"data row0 col1\" >64.20</td>\n",
       "      <td id=\"T_29386_row0_col2\" class=\"data row0 col2\" >82.44</td>\n",
       "    </tr>\n",
       "    <tr>\n",
       "      <th id=\"T_29386_level0_row1\" class=\"row_heading level0 row1\" >1</th>\n",
       "      <td id=\"T_29386_row1_col0\" class=\"data row1 col0\" >nan</td>\n",
       "      <td id=\"T_29386_row1_col1\" class=\"data row1 col1\" >38.94</td>\n",
       "      <td id=\"T_29386_row1_col2\" class=\"data row1 col2\" >50.00</td>\n",
       "    </tr>\n",
       "    <tr>\n",
       "      <th id=\"T_29386_level0_row2\" class=\"row_heading level0 row2\" >2</th>\n",
       "      <td id=\"T_29386_row2_col0\" class=\"data row2 col0\" >nan</td>\n",
       "      <td id=\"T_29386_row2_col1\" class=\"data row2 col1\" >nan</td>\n",
       "      <td id=\"T_29386_row2_col2\" class=\"data row2 col2\" >30.33</td>\n",
       "    </tr>\n",
       "  </tbody>\n",
       "</table>\n"
      ],
      "text/plain": [
       "<pandas.io.formats.style.Styler at 0x10e50d370>"
      ]
     },
     "execution_count": 3,
     "metadata": {},
     "output_type": "execute_result"
    }
   ],
   "source": [
    "tree, treeinfo = treeUnder(So,T,Nt,sigma=sigma)\n",
    "\n",
    "tree.style.format('{:.2f}')"
   ]
  },
  {
   "cell_type": "markdown",
   "id": "df802038",
   "metadata": {},
   "source": [
    "### Tree Rates"
   ]
  },
  {
   "cell_type": "code",
   "execution_count": 4,
   "id": "d32e9485",
   "metadata": {},
   "outputs": [
    {
     "name": "stdout",
     "output_type": "stream",
     "text": [
      "Risk-neutral probability: 53.93%\n"
     ]
    }
   ],
   "source": [
    "rates = r * np.ones(Nt)\n",
    "\n",
    "Z = np.exp(-rates*dt)\n",
    "A = np.exp(rates * dt)\n",
    "\n",
    "pstar = (A - treeinfo.d)/(treeinfo.u-treeinfo.d)\n",
    "\n",
    "print(f'Risk-neutral probability: {pstar[0]:.2%}')"
   ]
  },
  {
   "cell_type": "markdown",
   "id": "67170a88",
   "metadata": {},
   "source": [
    "### Solving the European Tree"
   ]
  },
  {
   "cell_type": "code",
   "execution_count": 5,
   "id": "a53adbab",
   "metadata": {},
   "outputs": [
    {
     "data": {
      "text/html": [
       "<style type=\"text/css\">\n",
       "</style>\n",
       "<table id=\"T_eb256\">\n",
       "  <thead>\n",
       "    <tr>\n",
       "      <th class=\"blank level0\" >&nbsp;</th>\n",
       "      <th id=\"T_eb256_level0_col0\" class=\"col_heading level0 col0\" >0</th>\n",
       "      <th id=\"T_eb256_level0_col1\" class=\"col_heading level0 col1\" >1</th>\n",
       "      <th id=\"T_eb256_level0_col2\" class=\"col_heading level0 col2\" >2</th>\n",
       "    </tr>\n",
       "  </thead>\n",
       "  <tbody>\n",
       "    <tr>\n",
       "      <th id=\"T_eb256_level0_row0\" class=\"row_heading level0 row0\" >0</th>\n",
       "      <td id=\"T_eb256_row0_col0\" class=\"data row0 col0\" >6.99</td>\n",
       "      <td id=\"T_eb256_row0_col1\" class=\"data row0 col1\" >2.19</td>\n",
       "      <td id=\"T_eb256_row0_col2\" class=\"data row0 col2\" >0.00</td>\n",
       "    </tr>\n",
       "    <tr>\n",
       "      <th id=\"T_eb256_level0_row1\" class=\"row_heading level0 row1\" >1</th>\n",
       "      <td id=\"T_eb256_row1_col0\" class=\"data row1 col0\" >nan</td>\n",
       "      <td id=\"T_eb256_row1_col1\" class=\"data row1 col1\" >13.38</td>\n",
       "      <td id=\"T_eb256_row1_col2\" class=\"data row1 col2\" >5.00</td>\n",
       "    </tr>\n",
       "    <tr>\n",
       "      <th id=\"T_eb256_level0_row2\" class=\"row_heading level0 row2\" >2</th>\n",
       "      <td id=\"T_eb256_row2_col0\" class=\"data row2 col0\" >nan</td>\n",
       "      <td id=\"T_eb256_row2_col1\" class=\"data row2 col1\" >nan</td>\n",
       "      <td id=\"T_eb256_row2_col2\" class=\"data row2 col2\" >24.67</td>\n",
       "    </tr>\n",
       "  </tbody>\n",
       "</table>\n"
      ],
      "text/plain": [
       "<pandas.io.formats.style.Styler at 0x12721bb20>"
      ]
     },
     "execution_count": 5,
     "metadata": {},
     "output_type": "execute_result"
    }
   ],
   "source": [
    "treeV = treeAsset(funPayoff,tree,treeinfo,Z=Z,pstar=pstar)\n",
    "treeV.style.format('{:.2f}')"
   ]
  },
  {
   "cell_type": "markdown",
   "id": "5861b6b2",
   "metadata": {},
   "source": [
    "### Compare to Black-Scholes"
   ]
  },
  {
   "cell_type": "code",
   "execution_count": 6,
   "id": "472a8789",
   "metadata": {},
   "outputs": [
    {
     "data": {
      "text/plain": [
       "6.8830357011256"
      ]
     },
     "execution_count": 6,
     "metadata": {},
     "output_type": "execute_result"
    }
   ],
   "source": [
    "f0BS = bs_price(under=So,strike=K,T=T,rf=r,vol=sigma,option='put')\n",
    "f0BS"
   ]
  },
  {
   "cell_type": "markdown",
   "id": "a8f32343",
   "metadata": {},
   "source": [
    "## American Option"
   ]
  },
  {
   "cell_type": "code",
   "execution_count": 7,
   "id": "da57637a",
   "metadata": {},
   "outputs": [
    {
     "data": {
      "text/html": [
       "<style type=\"text/css\">\n",
       "</style>\n",
       "<table id=\"T_135b2\">\n",
       "  <thead>\n",
       "    <tr>\n",
       "      <th class=\"blank level0\" >&nbsp;</th>\n",
       "      <th id=\"T_135b2_level0_col0\" class=\"col_heading level0 col0\" >0</th>\n",
       "      <th id=\"T_135b2_level0_col1\" class=\"col_heading level0 col1\" >1</th>\n",
       "      <th id=\"T_135b2_level0_col2\" class=\"col_heading level0 col2\" >2</th>\n",
       "    </tr>\n",
       "  </thead>\n",
       "  <tbody>\n",
       "    <tr>\n",
       "      <th id=\"T_135b2_level0_row0\" class=\"row_heading level0 row0\" >0</th>\n",
       "      <td id=\"T_135b2_row0_col0\" class=\"data row0 col0\" >8.16</td>\n",
       "      <td id=\"T_135b2_row0_col1\" class=\"data row0 col1\" >2.19</td>\n",
       "      <td id=\"T_135b2_row0_col2\" class=\"data row0 col2\" >0.00</td>\n",
       "    </tr>\n",
       "    <tr>\n",
       "      <th id=\"T_135b2_level0_row1\" class=\"row_heading level0 row1\" >1</th>\n",
       "      <td id=\"T_135b2_row1_col0\" class=\"data row1 col0\" >nan</td>\n",
       "      <td id=\"T_135b2_row1_col1\" class=\"data row1 col1\" >16.06</td>\n",
       "      <td id=\"T_135b2_row1_col2\" class=\"data row1 col2\" >5.00</td>\n",
       "    </tr>\n",
       "    <tr>\n",
       "      <th id=\"T_135b2_level0_row2\" class=\"row_heading level0 row2\" >2</th>\n",
       "      <td id=\"T_135b2_row2_col0\" class=\"data row2 col0\" >nan</td>\n",
       "      <td id=\"T_135b2_row2_col1\" class=\"data row2 col1\" >nan</td>\n",
       "      <td id=\"T_135b2_row2_col2\" class=\"data row2 col2\" >24.67</td>\n",
       "    </tr>\n",
       "  </tbody>\n",
       "</table>\n"
      ],
      "text/plain": [
       "<pandas.io.formats.style.Styler at 0x12e78bb20>"
      ]
     },
     "execution_count": 7,
     "metadata": {},
     "output_type": "execute_result"
    }
   ],
   "source": [
    "STYLE = 'american'\n",
    "treeVamer, treeExer = treeAsset(funPayoff,tree,treeinfo,Z=Z,pstar=pstar,style='american')\n",
    "treeVamer.style.format('{:.2f}')"
   ]
  },
  {
   "cell_type": "code",
   "execution_count": 8,
   "id": "2e7e758d",
   "metadata": {
    "scrolled": true
   },
   "outputs": [
    {
     "data": {
      "text/html": [
       "<div>\n",
       "<style scoped>\n",
       "    .dataframe tbody tr th:only-of-type {\n",
       "        vertical-align: middle;\n",
       "    }\n",
       "\n",
       "    .dataframe tbody tr th {\n",
       "        vertical-align: top;\n",
       "    }\n",
       "\n",
       "    .dataframe thead th {\n",
       "        text-align: right;\n",
       "    }\n",
       "</style>\n",
       "<table border=\"1\" class=\"dataframe\">\n",
       "  <thead>\n",
       "    <tr style=\"text-align: right;\">\n",
       "      <th></th>\n",
       "      <th>0</th>\n",
       "      <th>1</th>\n",
       "      <th>2</th>\n",
       "    </tr>\n",
       "  </thead>\n",
       "  <tbody>\n",
       "    <tr>\n",
       "      <th>0</th>\n",
       "      <td>NaN</td>\n",
       "      <td>NaN</td>\n",
       "      <td>NaN</td>\n",
       "    </tr>\n",
       "    <tr>\n",
       "      <th>1</th>\n",
       "      <td>NaN</td>\n",
       "      <td>True</td>\n",
       "      <td>NaN</td>\n",
       "    </tr>\n",
       "    <tr>\n",
       "      <th>2</th>\n",
       "      <td>NaN</td>\n",
       "      <td>NaN</td>\n",
       "      <td>NaN</td>\n",
       "    </tr>\n",
       "  </tbody>\n",
       "</table>\n",
       "</div>"
      ],
      "text/plain": [
       "    0     1   2\n",
       "0 NaN   NaN NaN\n",
       "1 NaN  True NaN\n",
       "2 NaN   NaN NaN"
      ]
     },
     "execution_count": 8,
     "metadata": {},
     "output_type": "execute_result"
    }
   ],
   "source": [
    "treeExer"
   ]
  },
  {
   "cell_type": "markdown",
   "id": "2f02a8ac",
   "metadata": {},
   "source": [
    "### Compare all three"
   ]
  },
  {
   "cell_type": "code",
   "execution_count": 9,
   "id": "ef9421f6",
   "metadata": {},
   "outputs": [
    {
     "data": {
      "text/html": [
       "<style type=\"text/css\">\n",
       "</style>\n",
       "<table id=\"T_d9f89\">\n",
       "  <thead>\n",
       "    <tr>\n",
       "      <th class=\"blank level0\" >&nbsp;</th>\n",
       "      <th id=\"T_d9f89_level0_col0\" class=\"col_heading level0 col0\" >value</th>\n",
       "    </tr>\n",
       "  </thead>\n",
       "  <tbody>\n",
       "    <tr>\n",
       "      <th id=\"T_d9f89_level0_row0\" class=\"row_heading level0 row0\" >BS value</th>\n",
       "      <td id=\"T_d9f89_row0_col0\" class=\"data row0 col0\" >6.8830</td>\n",
       "    </tr>\n",
       "    <tr>\n",
       "      <th id=\"T_d9f89_level0_row1\" class=\"row_heading level0 row1\" >tree value</th>\n",
       "      <td id=\"T_d9f89_row1_col0\" class=\"data row1 col0\" >6.9865</td>\n",
       "    </tr>\n",
       "    <tr>\n",
       "      <th id=\"T_d9f89_level0_row2\" class=\"row_heading level0 row2\" >American</th>\n",
       "      <td id=\"T_d9f89_row2_col0\" class=\"data row2 col0\" >8.1620</td>\n",
       "    </tr>\n",
       "  </tbody>\n",
       "</table>\n"
      ],
      "text/plain": [
       "<pandas.io.formats.style.Styler at 0x12e800b80>"
      ]
     },
     "execution_count": 9,
     "metadata": {},
     "output_type": "execute_result"
    }
   ],
   "source": [
    "pd.DataFrame([f0BS,treeV.iloc[0,0],treeVamer.iloc[0,0]],columns=['value'],index=['BS value','tree value','American']).style.format('{:.4f}')"
   ]
  },
  {
   "cell_type": "markdown",
   "id": "093851ff",
   "metadata": {},
   "source": [
    "# Try a Two-Period Tree\n",
    "\n",
    "Consider pricing a **put** option in a **2 period** tree. (Two periods of uncertainty, so with the starting point, three periods total.)\n",
    "* $T=0.50$.\n",
    "* $S_0=100$\n",
    "* $K=110$\n",
    "* $\\sigma=.30$\n",
    "* $r=0.02$\n",
    "\n",
    "1. What are the stock prices at each node?\n",
    "2. What is the risk-neutral probability?\n",
    "\n",
    "### European style\n",
    "1. What are the option prices at the final nodes?\n",
    "2. Solve the tree for the option price at each node.\n",
    "\n",
    "### American style\n",
    "1. Suppose the option is American. Which node would you exercise early?\n",
    "2. What is the value of the American option?\n",
    "\n",
    "### Redo for a Call\n",
    "How does the answer change?\n",
    "\n",
    "Is there any path of early exercise?\n",
    "\n",
    "### More nodes\n",
    "Try solving with 30 time steps, still for $T=0.25$."
   ]
  }
 ],
 "metadata": {
  "hide_input": false,
  "kernelspec": {
   "display_name": "Python 3 (ipykernel)",
   "language": "python",
   "name": "python3"
  },
  "language_info": {
   "codemirror_mode": {
    "name": "ipython",
    "version": 3
   },
   "file_extension": ".py",
   "mimetype": "text/x-python",
   "name": "python",
   "nbconvert_exporter": "python",
   "pygments_lexer": "ipython3",
   "version": "3.9.7"
  }
 },
 "nbformat": 4,
 "nbformat_minor": 5
}
