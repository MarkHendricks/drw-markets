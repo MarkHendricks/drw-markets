{
 "cells": [
  {
   "cell_type": "markdown",
   "id": "e80086c7",
   "metadata": {},
   "source": [
    "# C.5. Volatility Modeling\n",
    "\n",
    "## Module: Options\n",
    "\n",
    "### DRW New-Hire Learning Program\n",
    "\n",
    "#### Summer 2022\n",
    "\n",
    "Questions?\n",
    "* Contact: Mark Hendricks\n",
    "* hendricks@uchicago.edu"
   ]
  },
  {
   "cell_type": "markdown",
   "id": "f7802cec",
   "metadata": {},
   "source": [
    "$$\\newcommand{\\ivol}{\\sigma_{\\text{imp}}}$$\n",
    "$$\\newcommand{\\vega}{\\mathcal{V}}$$\n",
    "\n",
    "$$\\newcommand{\\dwF}{dW^{[1]}}$$\n",
    "$$\\newcommand{\\dwS}{dW^{[2]}}$$"
   ]
  },
  {
   "cell_type": "markdown",
   "id": "5a149d24",
   "metadata": {},
   "source": [
    "# Volatility Models"
   ]
  },
  {
   "cell_type": "markdown",
   "id": "d90d3c77",
   "metadata": {},
   "source": [
    "## Motivation\n",
    "\n",
    "As we have seen, \n",
    "* implied volatility is not constant for an underlying\n",
    "* it varies substantially with **moneyness** (strike vs underlying) and time-to-expiration.\n",
    "* and it is not stable over time!\n",
    "\n",
    "Why do we care? Suppose you hold...\n",
    "* a 3-month call struck at 100\n",
    "* a 1-month call struck at 90\n",
    "\n",
    "What is the right hedge ratio?\n",
    "\n",
    "How is this impacted by the inconsistency across\n",
    "* strikes\n",
    "* maturity"
   ]
  },
  {
   "cell_type": "markdown",
   "id": "2c767487",
   "metadata": {},
   "source": [
    "## Volatility Surface and Skew\n",
    "\n",
    "To ensure model (internal) consistency and hopefully (external) performance, we need a \n",
    "* volatility surface\n",
    "\n",
    "In practice, there is much more focus on the \n",
    "* volatility curve / smile /skew\n",
    "\n",
    "That is, the inconsistency of the volatility across strikes is more problematic than across maturities.\n",
    "\n",
    "## This is about hedging as much as it is about pricing!\n",
    "\n",
    "To know whether we are hedged, we need to know the true delta.\n",
    "* Model inconsistency in implied vol will lead to model inconsistency in delta and gamma.\n",
    "\n",
    "If implied vol were constant (as in BS) for a given point in time, we would still care how it shifts over time!\n",
    "* Remember the \"greek\" vega\n",
    "$$\\vega \\equiv \\frac{\\partial f}{\\partial \\ivol}$$"
   ]
  },
  {
   "cell_type": "markdown",
   "id": "3bc18d0a",
   "metadata": {},
   "source": [
    "## Which Type of Model?\n",
    "\n",
    "You discussed this in depth with DRW.\n",
    "\n",
    "### Parametric \n",
    "* impose structure, \n",
    "* which leads to statistical power\n",
    "* protects against overfitting.\n",
    "\n",
    "Examples\n",
    "* polynomials"
   ]
  },
  {
   "cell_type": "markdown",
   "id": "75c85d89",
   "metadata": {},
   "source": [
    "### Non-parametric and semi-parametric\n",
    "* flexibility\n",
    "* \"let the data speak\"\n",
    "\n",
    "Examples \n",
    "* splines\n",
    "* regularized (ML) models"
   ]
  },
  {
   "cell_type": "markdown",
   "id": "9a30556d",
   "metadata": {},
   "source": [
    "### Stochastic Volatility\n",
    "* specify a stochastic process for volatility\n",
    "* ensures no-arbitrage\n",
    "* provides insights beyond the output\n",
    "\n",
    "Examples\n",
    "* Local volatility\n",
    "* SABR\n",
    "* ZABR?"
   ]
  },
  {
   "cell_type": "markdown",
   "id": "12536785",
   "metadata": {},
   "source": [
    "### Modeling the Discount (yield) Curve\n",
    "\n",
    "This discussion and its tradeoffs should feel familiar!"
   ]
  },
  {
   "cell_type": "markdown",
   "id": "f6539b73",
   "metadata": {},
   "source": [
    "# SABR"
   ]
  },
  {
   "cell_type": "markdown",
   "id": "ee72003c",
   "metadata": {},
   "source": [
    "## Stochastic Alpha Beta Rho (SABR)\n",
    "\n",
    "The SABR model is used in conjunction with Black's Model.\n",
    "* Can be used for generalized versions, such as the \"Libor Market Model\".\n",
    "* Key is that SABR just handles the implied volatility.\n",
    "* Provides an input for a pricing model, (most notably, Black.)\n",
    "\n",
    "Instead of a constant diffusion term, $\\sigma$, we want\n",
    "* not just a function $\\sigma(F,t)$\n",
    "* but rather a stochastic process"
   ]
  },
  {
   "cell_type": "markdown",
   "id": "b63821c5",
   "metadata": {},
   "source": [
    "## The Model\n",
    "\n",
    "Suppose the underlying is the forward process, $F$.\n",
    "* Typically using forwards or futures, as fitting with Black's model.\n",
    "\n",
    "Under the **forward measure**, this process has no drift!\n",
    "* So no \"$dt$\" term in the stochastic differential.\n",
    "$$dF = \\sigma F^{\\beta}\\dwF$$\n",
    "\n",
    "Here, $\\dwF$ is simply a pure Brownian motion as usual in these equations.\n",
    "* The superscript is anticipating we will have a second such process.\n",
    "* It is not an exponent."
   ]
  },
  {
   "cell_type": "markdown",
   "id": "bf45cbcf",
   "metadata": {},
   "source": [
    "### Role of Beta $\\beta$\n",
    "Note that $\\beta$ is controlling whether this is\n",
    "* lognormal: $\\beta=1$\n",
    "* normal: $\\beta=0$\n",
    "* CEV: $0<\\beta<1$\n",
    "\n",
    "Typically, this parameter is not estimated but is set according to the desired model.\n",
    "* Could parameterize with a regression (in logs) but not typically done.\n",
    "\n",
    "In interest-rate derivatives, it is typical to choose\n",
    "* $\\beta=0.5$"
   ]
  },
  {
   "cell_type": "markdown",
   "id": "3f4c5e85",
   "metadata": {},
   "source": [
    "## Stochastic Volatility\n",
    "\n",
    "Now onto the stochastic volatility. Model $\\sigma$ as a process characterized by\n",
    "$$\\sigma = \\nu \\sigma \\dwS$$\n",
    "\n",
    "So $\\sigma$ is a geometric Brownian motion!\n",
    "* Why geometric Brownian (lognormal) instead of Brownian (normal)?\n",
    "\n",
    "## Role of alpha $\\alpha$\n",
    "\n",
    "Alpha, sometimes denoted $\\sigma_0$, is the initialized value of this process.\n",
    "* It is controlling the level of realized volatility.\n",
    "\n",
    "In the formula below, \n",
    "* $\\alpha$ is being written as $\\sigma_0$ to emphasize this."
   ]
  },
  {
   "cell_type": "markdown",
   "id": "8ba10195",
   "metadata": {},
   "source": [
    "## Role of rho $\\rho$\n",
    "The process $\\dwS$ is another Brownian motion, different than $\\dwF$. \n",
    "* Remember the superscript is an identifier, not an exponent!\n",
    "* They are not necessarily independent.\n",
    "\n",
    "The parameter, $\\rho$, governs the correlation between the two processes (shocks) $\\dwF$ and $\\dwS$.\n",
    "\n",
    "### Question\n",
    "Do you think $\\rho$ will typically be positive or negative?\n",
    "* Why?\n",
    "* For all assets?"
   ]
  },
  {
   "cell_type": "markdown",
   "id": "9b431776",
   "metadata": {},
   "source": [
    "## Role of \"nu\" $\\nu$\n",
    "\n",
    "Note that $\\nu$ is a constant (parameter), and it is the \"vol\" of the volatility process."
   ]
  },
  {
   "cell_type": "markdown",
   "id": "d8389e19",
   "metadata": {},
   "source": [
    "## The Equation\n",
    "\n",
    "It can be shown that under these dynamics,\n",
    "\n",
    "$$\\ivol(F_0,K) = AB\\frac{\\phi}{\\chi}$$\n",
    "where, not joking,\n",
    "<img src=\"../refs/options/SABRformula.png\" width=\"600\" />"
   ]
  },
  {
   "cell_type": "markdown",
   "id": "c4720b4b",
   "metadata": {},
   "source": [
    "### At-the-money\n",
    "\n",
    "For an ATM option, $\\ln(F_0/K)$ is zero, and we get\n",
    "\n",
    "$$\\ivol^*(F_0,K) = \\frac{\\sigma_0B}{F_0^{1-\\beta}}$$\n",
    "\n",
    "Money implementations make use of this fact to solve for $\\alpha$ (denoted here $\\sigma_0$) as a function of the other two parameters and the observed ATM implied vol $\\ivol^*$:\n",
    "$$\\alpha = \\alpha\\left(\\nu,\\rho,\\ivol^{*,\\text{market}}\\right)$$\n",
    "\n",
    "This reduces the problem from 3 parameters to 2 parameters. \n",
    "* For nonlinear equations, even this modest reduction can be helpful."
   ]
  },
  {
   "cell_type": "markdown",
   "id": "1f4282e9",
   "metadata": {},
   "source": [
    "### Benefit?\n",
    "\n",
    "This function is a mess, but it is a closed-form solution!\n",
    "* Traders may need to recompute the volatility curve every day / hour / second.\n",
    "* A closed-form solution is attractive as it allows this frequent recalculation of the entire curve.\n",
    "\n",
    "### Missing?\n",
    "This function \n",
    "* has a parameter for expiration $T$\n",
    "* but it is not a **function**.\n",
    "\n",
    "What is the difference?\n",
    "\n",
    "This is in line with what we mentioned above, the main goal is to model the vol curve, and glue together (incompatible?) slices to form the vol surface."
   ]
  },
  {
   "cell_type": "markdown",
   "id": "4f23334f",
   "metadata": {},
   "source": [
    "## Fitting SABR\n",
    "\n",
    "Use observed market implied volatilities to fit SABR on a set of options.\n",
    "\n",
    "1. Use the reference set of $(F_0,K,\\ivol^{\\text{mkt}})$.\n",
    "2. Numerically try sets of parameters $(\\alpha,\\nu,\\rho)$ \n",
    "    * or $(\\nu, \\rho)$ if using the ATM relationship for alpha above.\n",
    "3. For each parameterization, check how close the SABR vol is to the market implied vol across all securities, using a penalty function of\n",
    "$$\\sum_{i}\\left(\\ivol^{\\text{SABR}}(i) - \\ivol^{\\text{market}}(i)\\right)^2$$\n",
    "4. Set the parameters that minimize this error.\n",
    "\n",
    "Now, use the solution parameters to set the implied volatility curve. \n",
    "* This gives you $\\sigma(F,K)$ to insert into Black's formula.\n",
    "\n",
    "Use this curve for \n",
    "* pricing other strikes / maturities / options on this underyling.\n",
    "* better measuring the greeks of even these reference securities."
   ]
  },
  {
   "cell_type": "markdown",
   "id": "191dfd94",
   "metadata": {},
   "source": [
    "# Delta Hedging\n",
    "\n",
    "As one example, consider the simple problem of delta hedging.\n",
    "\n",
    "Given that implied volatility is not constant, we can expect that \n",
    "* delta changes when implied vol changes!\n",
    "\n",
    "This is sometimes referred to as **vanna**\n",
    "$$\\frac{\\partial \\Delta}{\\partial \\ivol}$$\n",
    "\n",
    "In particular, we would now have an augmented delta\n",
    "$$\\text{Delta} = \\frac{\\partial C}{\\partial F} + \\frac{\\partial C}{\\partial \\ivol}\\frac{\\partial \\ivol}{\\partial F}$$\n",
    "\n",
    "### Black's Formulas\n",
    "\n",
    "Black's formula (and Black-Scholes) completely ignores this effect.\n",
    "* This can cause substantial risk and portfolio variation day-over-day, especially in volatile markets.\n",
    "\n",
    "### Local Volatility\n",
    "The famed, \"local volatility\" model fits a function $\\sigma(F,K)$ **exactly** to the market quoted implied vols.\n",
    "\n",
    "So this is better than SABR, which minimizes the error but does not fit perfectly, right?\n",
    "* No!\n",
    "* Local volatility does not get the time dynamics right, such that this vega channel of the hedging ends up being worse than Black Scholes!"
   ]
  },
  {
   "cell_type": "markdown",
   "id": "9dbacac5",
   "metadata": {},
   "source": [
    "# A Look at the Data"
   ]
  },
  {
   "cell_type": "code",
   "execution_count": 1,
   "id": "5c1749c0",
   "metadata": {},
   "outputs": [],
   "source": [
    "import pandas as pd\n",
    "import numpy as np\n",
    "import datetime\n",
    "import warnings\n",
    "\n",
    "import matplotlib.pyplot as plt\n",
    "%matplotlib inline\n",
    "plt.rcParams['figure.figsize'] = (12,6)\n",
    "plt.rcParams['font.size'] = 15\n",
    "plt.rcParams['legend.fontsize'] = 13\n",
    "\n",
    "from matplotlib.ticker import (MultipleLocator,\n",
    "                               FormatStrFormatter,\n",
    "                               AutoMinorLocator)\n",
    "\n",
    "import sys\n",
    "sys.path.insert(0,'../cmds')\n",
    "from options import *"
   ]
  },
  {
   "cell_type": "code",
   "execution_count": 2,
   "id": "f63a1dba",
   "metadata": {},
   "outputs": [],
   "source": [
    "import numpy.polynomial.polynomial as poly\n",
    "from numpy import poly1d\n",
    "from scipy.optimize import fsolve\n",
    "from scipy.optimize import minimize"
   ]
  },
  {
   "cell_type": "code",
   "execution_count": 3,
   "id": "88ea2fa1",
   "metadata": {},
   "outputs": [],
   "source": [
    "LOADFILE = '../data/vol_surfaces.xlsx'\n",
    "BETA = 1\n",
    "OBJ = 0\n",
    "\n",
    "info = pd.read_excel(LOADFILE,sheet_name='descriptions').set_index('specs')\n",
    "labels = info.columns\n",
    "\n",
    "sheet = labels[OBJ]\n",
    "\n",
    "TYPE = 'call'\n",
    "QUOTE_ED_PX = False\n",
    "\n",
    "ts, ivol_mkt = load_vol_surface(LOADFILE,sheet)\n",
    "\n",
    "if info.loc['futures ticker',sheet] == 'ED' and not QUOTE_ED_PX:\n",
    "    ts['Future Price'] = 1-ts['Future Price']/100\n",
    "\n",
    "strikes = get_strikes_from_vol_moneyness(TYPE,ivol_mkt,ts)\n",
    "\n",
    "if info.loc['futures ticker',sheet] == 'ED' and QUOTE_ED_PX:\n",
    "    if TYPE=='put':\n",
    "        TYPE = 'call'\n",
    "    else:\n",
    "        TYPE = 'put'"
   ]
  },
  {
   "cell_type": "code",
   "execution_count": 4,
   "id": "2db5aace",
   "metadata": {},
   "outputs": [],
   "source": [
    "def alpha_polynomial(beta, nu, rho, T, volATM, f):\n",
    "    \n",
    "    coefs = np.ones(4)\n",
    "    coefs[0] = (1-beta)**2 * T / (24*f**(2-2*beta))\n",
    "    coefs[1] = rho * beta * nu * T / (4*f**(1-beta))\n",
    "    coefs[2] = 1 + (2-3*rho**2) * nu**2 * T / 24\n",
    "    coefs[3] = -volATM * f**(1-beta)\n",
    "    \n",
    "    return np.poly1d(coefs)"
   ]
  },
  {
   "cell_type": "code",
   "execution_count": 5,
   "id": "b61a77cd",
   "metadata": {},
   "outputs": [],
   "source": [
    "def solve_alpha(beta, nu, rho, T, volATM, f):\n",
    "    coefs = np.ones(4)\n",
    "    coefs[3] = (1-beta)**2 * T / (24*f**(2-2*beta))\n",
    "    coefs[2] = rho * beta * nu * T / (4*f**(1-beta))\n",
    "    coefs[1] = 1 + (2-3*rho**2) * nu**2 * T / 24\n",
    "    coefs[0] = -volATM * f**(1-beta)\n",
    "\n",
    "    roots = poly.polyroots(coefs)\n",
    "    alpha = np.real(roots[np.abs(np.imag(roots))<1e-6][0])\n",
    "    return alpha"
   ]
  },
  {
   "cell_type": "code",
   "execution_count": 6,
   "id": "fde23e05",
   "metadata": {},
   "outputs": [],
   "source": [
    "def z(beta, nu, alpha, f, K):\n",
    "    return (nu/alpha) * (f*K)**((1-beta)/2) * np.log(f/K)\n",
    "\n",
    "def chi(z, rho):\n",
    "    return np.log((np.sqrt(1-2*rho*z + z**2) + z - rho) / (1-rho))"
   ]
  },
  {
   "cell_type": "code",
   "execution_count": 7,
   "id": "bc5f794b",
   "metadata": {},
   "outputs": [],
   "source": [
    "def sabr_slim(beta,nu,rho,f,K,T,volATM):\n",
    "\n",
    "    alpha = solve_alpha(beta, nu, rho, T, volATM, f)\n",
    "    squareNUM = (((1-beta)**2)/24) * (alpha**2)/((f*K)**(1-beta)) + (1/4) * (rho*beta*nu*alpha)/((f*K)**((1-beta)/2))+((2-3*rho**2)/24)*nu**2\n",
    "    NUM = alpha * (1 + squareNUM * T)\n",
    "\n",
    "    squareDEN = 1 + (((1-beta)**2)/24) * (np.log(f/K)**2) + (((1-beta)**4)/1920) * (np.log(f/K)**4)\n",
    "    DEN = (f*K)**((1-beta)/2) * squareDEN\n",
    "\n",
    "    sigmaB = (NUM/DEN) * (z(beta,nu,alpha,f,K)/chi(z(beta,nu,alpha,f,K),rho))\n",
    "    return sigmaB"
   ]
  },
  {
   "cell_type": "code",
   "execution_count": 8,
   "id": "befb3f19",
   "metadata": {},
   "outputs": [],
   "source": [
    "def sabr(beta,nu,rho,alpha,f,K,T,volATM):\n",
    "\n",
    "    squareNUM = (((1-beta)**2)/24) * (alpha**2)/((f*K)**(1-beta)) + (1/4) * (rho*beta*nu*alpha)/((f*K)**((1-beta)/2))+((2-3*rho**2)/24)*nu**2\n",
    "    NUM = alpha * (1 + squareNUM * T)\n",
    "\n",
    "    squareDEN = 1 + (((1-beta)**2)/24) * (np.log(f/K)**2) + (((1-beta)**4)/1920) * (np.log(f/K)**4)\n",
    "    DEN = (f*K)**((1-beta)/2) * squareDEN\n",
    "\n",
    "    sigmaB = (NUM/DEN) * (z(beta,nu,alpha,f,K)/chi(z(beta,nu,alpha,f,K),rho))\n",
    "    return sigmaB"
   ]
  },
  {
   "cell_type": "code",
   "execution_count": 9,
   "id": "ae3c5a75",
   "metadata": {},
   "outputs": [],
   "source": [
    "from pandas.tseries.offsets import Day, BDay\n",
    "from datetime import date\n",
    "bdays = BDay()"
   ]
  },
  {
   "cell_type": "code",
   "execution_count": 10,
   "id": "1673d94d",
   "metadata": {},
   "outputs": [],
   "source": [
    "TARG_T = 1\n",
    "t = pd.to_datetime(info.loc['option expiration',sheet]) - TARG_T * datetime.timedelta(365)\n",
    "t += 1 * bdays\n",
    "t = t.strftime('%Y-%m-%d')"
   ]
  },
  {
   "cell_type": "code",
   "execution_count": 11,
   "id": "6feab07e",
   "metadata": {},
   "outputs": [],
   "source": [
    "volATM = ivol_mkt.loc[t,'P50dVol']\n",
    "F = ts.loc[t,'Future Price']\n",
    "strike_grid = strikes.loc[t]\n",
    "T = ts.loc[t,'Expiration Option']\n",
    "\n",
    "ivol_obs = ivol_mkt.loc[t]"
   ]
  },
  {
   "cell_type": "code",
   "execution_count": 12,
   "id": "80a2afdc",
   "metadata": {},
   "outputs": [],
   "source": [
    "def obj_fun(xargs):\n",
    "    nu = xargs[0]\n",
    "    rho = xargs[1]\n",
    "    alpha = xargs[2]\n",
    "    ivol_mod = np.zeros(len(strike_grid))\n",
    "    \n",
    "    for i,K in enumerate(strike_grid):\n",
    "         ivol_mod[i] = sabr(beta,nu,rho,alpha,F,K,T,volATM)\n",
    "    \n",
    "    error = ((ivol_mod - ivol_obs)**2).sum()\n",
    "    \n",
    "    return error\n",
    "\n",
    "\n",
    "def obj_fun_slim(xargs):\n",
    "    nu = xargs[0]\n",
    "    rho = xargs[1]\n",
    "    ivol_mod = np.zeros(len(strike_grid))\n",
    "    \n",
    "    for i,K in enumerate(strike_grid):\n",
    "         ivol_mod[i] = sabr_slim(beta,nu,rho,F,K,T,volATM)\n",
    "    \n",
    "    error = ((ivol_mod - ivol_obs)**2).sum()\n",
    "    \n",
    "    return error"
   ]
  },
  {
   "cell_type": "markdown",
   "id": "ab367170",
   "metadata": {},
   "source": [
    "# Optimizing"
   ]
  },
  {
   "cell_type": "code",
   "execution_count": 13,
   "id": "d57efa52",
   "metadata": {},
   "outputs": [],
   "source": [
    "beta = BETA\n",
    "doSLIM = False"
   ]
  },
  {
   "cell_type": "code",
   "execution_count": 14,
   "id": "6c6c94d0",
   "metadata": {},
   "outputs": [],
   "source": [
    "x0 = np.array([.6,0,.1])\n",
    "fun = obj_fun \n",
    "\n",
    "if doSLIM:\n",
    "    x0 = x0[0:2]\n",
    "    fun = obj_fun_slim\n",
    "    \n",
    "optim = minimize(fun,x0)\n",
    "xstar = optim.x\n",
    "nustar = xstar[0]\n",
    "rhostar = xstar[1]\n",
    "\n",
    "if doSLIM:\n",
    "    alphastar = solve_alpha(beta,nustar,rhostar[1],T,volATM,F)\n",
    "else:\n",
    "    alphastar = xstar[2]\n",
    "    \n",
    "if doSLIM:\n",
    "    ivolSABR = sabr_slim(beta,nustar,rhostar,F,strike_grid,T,volATM)\n",
    "else:\n",
    "    ivolSABR = sabr(beta,nustar,rhostar,alphastar,F,strike_grid,T,volATM)"
   ]
  },
  {
   "cell_type": "code",
   "execution_count": 15,
   "id": "5f5baef0",
   "metadata": {},
   "outputs": [
    {
     "data": {
      "image/png": "[encoded data removed]",
      "text/plain": [
       "<Figure size 864x432 with 1 Axes>"
      ]
     },
     "metadata": {
      "needs_background": "light"
     },
     "output_type": "display_data"
    }
   ],
   "source": [
    "comp = pd.concat([ivolSABR,ivol_obs],axis=1)\n",
    "comp.columns = ['SABR','market']\n",
    "comp['strike'] = strike_grid\n",
    "comp.set_index('strike',inplace=True)\n",
    "comp.plot();"
   ]
  },
  {
   "cell_type": "code",
   "execution_count": 16,
   "id": "53fd9f93",
   "metadata": {},
   "outputs": [],
   "source": [
    "scalegrid = volATM / np.sqrt(1)\n",
    "if info.loc['futures ticker',sheet] == 'ED':\n",
    "    if QUOTE_ED_PX:\n",
    "        scalegrid /= 5\n",
    "        \n",
    "Fpath = np.arange(F*(1-scalegrid),F*(1+scalegrid),F*scalegrid/20)\n",
    "        \n",
    "volPath = pd.DataFrame(columns=ivolSABR.index,index=Fpath)\n",
    "for f in Fpath:\n",
    "    volPath.loc[f,:] = sabr(beta,nustar,rhostar,alphastar,f,strike_grid,T,volATM)"
   ]
  },
  {
   "cell_type": "code",
   "execution_count": 17,
   "id": "71bd2c2b",
   "metadata": {},
   "outputs": [],
   "source": [
    "if TYPE == 'call':\n",
    "    phi = 1\n",
    "    isCall = True\n",
    "    \n",
    "else:\n",
    "    phi =-1\n",
    "    isCall = False\n",
    "    \n",
    "deltas = pd.DataFrame(np.array([float(col[1:3])/100 for col in volPath.columns]) * phi, index=volPath.columns,columns = ['delta'])\n",
    "strikesPath = pd.DataFrame(index=volPath.index, columns=volPath.columns,dtype=float)\n",
    "for i, col in enumerate(volPath.columns):\n",
    "    for row in volPath.index:\n",
    "        strikesPath.loc[row,col] = bs_delta_to_strike(row,deltas.loc[col,'delta'],volPath.loc[row,col],T,isCall=isCall)\n",
    "\n",
    "if info.loc['futures ticker',sheet] == 'ED':\n",
    "    if QUOTE_ED_PX:\n",
    "        strikesPath[strikesPath>100] = np.nan\n",
    "        strikesPath[strikesPath<85] = np.nan"
   ]
  },
  {
   "cell_type": "code",
   "execution_count": 18,
   "id": "d267e55a",
   "metadata": {},
   "outputs": [
    {
     "data": {
      "image/png": "[encoded data removed]",
      "text/plain": [
       "<Figure size 864x432 with 1 Axes>"
      ]
     },
     "metadata": {
      "needs_background": "light"
     },
     "output_type": "display_data"
    }
   ],
   "source": [
    "fig, ax = plt.subplots()\n",
    "chosen = volPath.index[::10]\n",
    "for row in chosen:\n",
    "    plotdata = pd.concat([strikesPath.loc[row],volPath.loc[row]],axis=1)\n",
    "    plotdata.columns = ['strike','vol']\n",
    "    plotdata.set_index('strike',inplace=True)\n",
    "    plotdata.plot(ax=ax)\n",
    "\n",
    "center = round(volPath.shape[1]/2)\n",
    "\n",
    "plt.legend([f'{c:.2f}' for c in chosen]);\n",
    "\n",
    "\n",
    "# backbone = volPath.iloc[:,center]\n",
    "# plotdata = pd.concat([strikesPath.iloc[:,center],backbone],axis=1)\n",
    "# plotdata.columns = ['strike','vol path']\n",
    "# plotdata.set_index('strike',inplace=True)\n",
    "# plotdata.plot(ax=ax,color='black')\n",
    "\n",
    "# plt.legend([f'{c:.2f}' for c in chosen] + ['vol path']);"
   ]
  }
 ],
 "metadata": {
  "hide_input": false,
  "kernelspec": {
   "display_name": "Python 3 (ipykernel)",
   "language": "python",
   "name": "python3"
  },
  "language_info": {
   "codemirror_mode": {
    "name": "ipython",
    "version": 3
   },
   "file_extension": ".py",
   "mimetype": "text/x-python",
   "name": "python",
   "nbconvert_exporter": "python",
   "pygments_lexer": "ipython3",
   "version": "3.9.7"
  }
 },
 "nbformat": 4,
 "nbformat_minor": 5
}
