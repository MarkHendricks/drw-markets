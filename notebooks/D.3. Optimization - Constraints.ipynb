{
 "cells": [
  {
   "cell_type": "markdown",
   "id": "6f38c1c2",
   "metadata": {},
   "source": [
    "# D.3. Optimization - Constraints\n",
    "\n",
    "## Module: Risk\n",
    "\n",
    "### DRW New-Hire Learning Program\n",
    "\n",
    "#### Summer 2022\n",
    "\n",
    "Questions?\n",
    "* Contact: Mark Hendricks\n",
    "* hendricks@uchicago.edu"
   ]
  },
  {
   "cell_type": "markdown",
   "id": "24eb1807",
   "metadata": {},
   "source": [
    "# Import Packages, Settings"
   ]
  },
  {
   "cell_type": "code",
   "execution_count": 1,
   "id": "95abf429",
   "metadata": {},
   "outputs": [],
   "source": [
    "import pandas as pd\n",
    "import numpy as np\n",
    "import datetime\n",
    "import warnings\n",
    "\n",
    "pd.options.display.float_format = \"{:,.4f}\".format\n",
    "\n",
    "import matplotlib.pyplot as plt\n",
    "%matplotlib inline\n",
    "plt.rcParams['figure.figsize'] = (12,6)\n",
    "plt.rcParams['font.size'] = 15\n",
    "plt.rcParams['legend.fontsize'] = 13\n",
    "\n",
    "from matplotlib.ticker import (MultipleLocator,\n",
    "                               FormatStrFormatter,\n",
    "                               AutoMinorLocator)"
   ]
  },
  {
   "cell_type": "code",
   "execution_count": 2,
   "id": "db68378c",
   "metadata": {},
   "outputs": [],
   "source": [
    "from sklearn.linear_model import LinearRegression\n",
    "from sklearn.decomposition import PCA\n",
    "from scipy.optimize import minimize\n",
    "import seaborn as sns\n",
    "#import statsmodels.api as sm"
   ]
  },
  {
   "cell_type": "code",
   "execution_count": 3,
   "id": "8a8a4b8e",
   "metadata": {},
   "outputs": [],
   "source": [
    "import os\n",
    "import sys\n",
    "sys.path.insert(0, '../cmds')\n",
    "from portfolio import *"
   ]
  },
  {
   "cell_type": "markdown",
   "id": "65b18a73",
   "metadata": {},
   "source": [
    "# Import and Organize Data\n",
    "### Data Source: Yahoo Finance"
   ]
  },
  {
   "cell_type": "code",
   "execution_count": 4,
   "id": "4f45ecda",
   "metadata": {},
   "outputs": [],
   "source": [
    "DATAFILE = '../data/multi_asset_etf_data.xlsx'\n",
    "\n",
    "TICKER_CASH = 'SHV'\n",
    "DROP_CASH = False\n",
    "\n",
    "info = pd.read_excel(DATAFILE,sheet_name='descriptions')\n",
    "info.rename(columns={'Unnamed: 0':'Symbol'},inplace=True)\n",
    "info.set_index('Symbol',inplace=True)\n",
    "\n",
    "rets = pd.read_excel(DATAFILE,sheet_name='total returns')\n",
    "rets.set_index('Date',inplace=True)\n",
    "if DROP_CASH:\n",
    "    rets.drop(columns=['SHV'])\n",
    "\n",
    "retsx = pd.read_excel(DATAFILE,sheet_name='excess returns')\n",
    "retsx.set_index('Date',inplace=True)\n",
    "\n",
    "# sort columns by order of descriptions in Info tab\n",
    "if DROP_CASH:\n",
    "    symbol_list = info.index.drop('SHV')\n",
    "else:\n",
    "    symbol_list = info.index\n",
    "    \n",
    "rets = rets[symbol_list]\n",
    "retsx = retsx[symbol_list.drop('SHV')]"
   ]
  },
  {
   "cell_type": "code",
   "execution_count": 5,
   "id": "c56bfa9e",
   "metadata": {
    "scrolled": true
   },
   "outputs": [
    {
     "data": {
      "text/html": [
       "<div>\n",
       "<style scoped>\n",
       "    .dataframe tbody tr th:only-of-type {\n",
       "        vertical-align: middle;\n",
       "    }\n",
       "\n",
       "    .dataframe tbody tr th {\n",
       "        vertical-align: top;\n",
       "    }\n",
       "\n",
       "    .dataframe thead th {\n",
       "        text-align: right;\n",
       "    }\n",
       "</style>\n",
       "<table border=\"1\" class=\"dataframe\">\n",
       "  <thead>\n",
       "    <tr style=\"text-align: right;\">\n",
       "      <th></th>\n",
       "      <th>ETF Description</th>\n",
       "      <th>Name</th>\n",
       "    </tr>\n",
       "    <tr>\n",
       "      <th>Symbol</th>\n",
       "      <th></th>\n",
       "      <th></th>\n",
       "    </tr>\n",
       "  </thead>\n",
       "  <tbody>\n",
       "    <tr>\n",
       "      <th>SPY</th>\n",
       "      <td>Domestic Equity SPDR S&amp;P500</td>\n",
       "      <td>Domestic Equity</td>\n",
       "    </tr>\n",
       "    <tr>\n",
       "      <th>EFA</th>\n",
       "      <td>Foreign Equity iShares EAFE</td>\n",
       "      <td>Foreign Equity</td>\n",
       "    </tr>\n",
       "    <tr>\n",
       "      <th>EEM</th>\n",
       "      <td>iShares Emerging Markets</td>\n",
       "      <td>Emerging Markets</td>\n",
       "    </tr>\n",
       "    <tr>\n",
       "      <th>PSP</th>\n",
       "      <td>Private Equity Invesco Global Private Equity</td>\n",
       "      <td>Private Equity</td>\n",
       "    </tr>\n",
       "    <tr>\n",
       "      <th>QAI</th>\n",
       "      <td>Absolute Return IQ Multi-Strat</td>\n",
       "      <td>Absolute Return</td>\n",
       "    </tr>\n",
       "    <tr>\n",
       "      <th>HYG</th>\n",
       "      <td>High Yield iShares High Yield Corporate Bond</td>\n",
       "      <td>High Yield</td>\n",
       "    </tr>\n",
       "    <tr>\n",
       "      <th>DBC</th>\n",
       "      <td>Invesco DB Commodity Index Tracking Fund</td>\n",
       "      <td>Commodities</td>\n",
       "    </tr>\n",
       "    <tr>\n",
       "      <th>IYR</th>\n",
       "      <td>Real Estate iShares US Real Estate</td>\n",
       "      <td>Real Estate</td>\n",
       "    </tr>\n",
       "    <tr>\n",
       "      <th>IEF</th>\n",
       "      <td>Domestic Bonds iShares 7-10 Year Treasury</td>\n",
       "      <td>Domestic Bonds</td>\n",
       "    </tr>\n",
       "    <tr>\n",
       "      <th>BWX</th>\n",
       "      <td>Foreign Bonds SPDR Bloomberg Barclay Internati...</td>\n",
       "      <td>Foreign Bonds</td>\n",
       "    </tr>\n",
       "    <tr>\n",
       "      <th>TIP</th>\n",
       "      <td>Inflation-Indexed iShares TIPS Bond</td>\n",
       "      <td>Inflation-Indexed Bonds</td>\n",
       "    </tr>\n",
       "    <tr>\n",
       "      <th>SHV</th>\n",
       "      <td>iShares Short Treasury Bond</td>\n",
       "      <td>Cash</td>\n",
       "    </tr>\n",
       "  </tbody>\n",
       "</table>\n",
       "</div>"
      ],
      "text/plain": [
       "                                          ETF Description  \\\n",
       "Symbol                                                      \n",
       "SPY                           Domestic Equity SPDR S&P500   \n",
       "EFA                           Foreign Equity iShares EAFE   \n",
       "EEM                              iShares Emerging Markets   \n",
       "PSP          Private Equity Invesco Global Private Equity   \n",
       "QAI                        Absolute Return IQ Multi-Strat   \n",
       "HYG          High Yield iShares High Yield Corporate Bond   \n",
       "DBC              Invesco DB Commodity Index Tracking Fund   \n",
       "IYR                    Real Estate iShares US Real Estate   \n",
       "IEF             Domestic Bonds iShares 7-10 Year Treasury   \n",
       "BWX     Foreign Bonds SPDR Bloomberg Barclay Internati...   \n",
       "TIP                   Inflation-Indexed iShares TIPS Bond   \n",
       "SHV                           iShares Short Treasury Bond   \n",
       "\n",
       "                           Name  \n",
       "Symbol                           \n",
       "SPY             Domestic Equity  \n",
       "EFA              Foreign Equity  \n",
       "EEM            Emerging Markets  \n",
       "PSP              Private Equity  \n",
       "QAI             Absolute Return  \n",
       "HYG                  High Yield  \n",
       "DBC                 Commodities  \n",
       "IYR                 Real Estate  \n",
       "IEF              Domestic Bonds  \n",
       "BWX               Foreign Bonds  \n",
       "TIP     Inflation-Indexed Bonds  \n",
       "SHV                        Cash  "
      ]
     },
     "metadata": {},
     "output_type": "display_data"
    }
   ],
   "source": [
    "info['Name'] = ['Domestic Equity','Foreign Equity','Emerging Markets','Private Equity','Absolute Return','High Yield','Commodities','Real Estate','Domestic Bonds','Foreign Bonds','Inflation-Indexed Bonds','Cash']\n",
    "display(info)"
   ]
  },
  {
   "cell_type": "code",
   "execution_count": 6,
   "id": "46309b14",
   "metadata": {
    "scrolled": false
   },
   "outputs": [],
   "source": [
    "USE_LONGONLY_CONSTRAINT = False\n",
    "TARGET_MEAN = 0.10\n",
    "\n",
    "USE_EXCESS = False\n",
    "SCALE_ANNUAL = 12\n",
    "\n",
    "if USE_EXCESS:\n",
    "    df_data = retsx\n",
    "else:\n",
    "    df_data = rets\n",
    "\n",
    "df_data.columns = info['Name']\n",
    "CASH = 'Cash'\n",
    "\n",
    "mean = df_data.mean() * SCALE_ANNUAL\n",
    "cov = df_data.cov()* SCALE_ANNUAL\n",
    "nAssets = df_data.shape[1]\n",
    "        \n",
    "bounds_df = pd.DataFrame(index=df_data.columns,columns=['Min','Max'],dtype=float)\n",
    "\n",
    "if USE_LONGONLY_CONSTRAINT:\n",
    "    bounds_df['Min'] = 0\n",
    "    bounds_df['Max'] = 10\n",
    "else:\n",
    "    # Add more specific bounds here if desired\n",
    "    bounds_df['Min'] = -.05\n",
    "    bounds_df['Max'] = .50\n",
    "#    bounds_df.loc[['Domestic Equity','Foreign Equity','Private Equity'],'Min'] = [.25,0,0]"
   ]
  },
  {
   "cell_type": "markdown",
   "id": "0b1004cf",
   "metadata": {},
   "source": [
    "# Constrained Optimization\n",
    "\n",
    "### Objective\n",
    "Minimize portfolio variance. \n",
    "- Portfolio weights: $\\boldsymbol{w}$\n",
    "- Return covariance matrix: $\\boldsymbol{\\Sigma}$\n",
    "$$f(\\boldsymbol{w}) = \\boldsymbol{w}' \\boldsymbol{\\Sigma} \\boldsymbol{w}$$"
   ]
  },
  {
   "cell_type": "code",
   "execution_count": 7,
   "id": "593f8043",
   "metadata": {},
   "outputs": [],
   "source": [
    "def objective(w):        \n",
    "    return (w.T @ cov @ w)"
   ]
  },
  {
   "cell_type": "markdown",
   "id": "fd1c917d",
   "metadata": {},
   "source": [
    "### Constraints\n",
    "\n",
    "#### Equality Constraints\n",
    "- Targeted mean for the optimized portfolio: $\\mu_p$\n",
    "Define the following two functions:\n",
    "$$g_{1}(\\boldsymbol{w}) \\equiv \\boldsymbol{1}'\\boldsymbol{w}$$\n",
    "$$g_{2}(\\boldsymbol{w}) \\equiv \\boldsymbol{\\mu}'\\boldsymbol{w}$$\n",
    "\n",
    "These are imposed as equality constraints:\n",
    "$$g_1(\\boldsymbol{w}) = 1$$\n",
    "$$g_2(\\boldsymbol{w}) = \\mu_p$$\n",
    "\n",
    "#### Target mean\n",
    "Below we analyze the problem for a target mean return of\n",
    "- 8% if using the assume stats\n",
    "- 12% if using the historic stats\n",
    "The reason for the difference is that the historic stats are **much** more favorable, and it is easy to generate high mean returns."
   ]
  },
  {
   "cell_type": "code",
   "execution_count": 8,
   "id": "101d625c",
   "metadata": {},
   "outputs": [],
   "source": [
    "def fun_constraint_capital(w):\n",
    "    return np.sum(w) - 1\n",
    "\n",
    "def fun_constraint_mean(w):\n",
    "    return (mean @ w) - TARGET_MEAN\n",
    "\n",
    "constraint_capital = {'type': 'eq', 'fun': fun_constraint_capital}\n",
    "constraint_mean = {'type': 'eq', 'fun': fun_constraint_mean}\n",
    "\n",
    "cons = ([constraint_capital, constraint_mean])"
   ]
  },
  {
   "cell_type": "markdown",
   "id": "315436bb",
   "metadata": {},
   "source": [
    "### Inequality Constraints\n",
    "\n",
    "**This cell's notation and setup is overkill for the simplicity of these constraints, but is noted here for more general problems.**\n",
    "\n",
    "- Denote the $k\\times k$ identity matrix as $\\mathcal{I}_k$\n",
    "- Denote the $i$ column of the identity matrix as $\\boldsymbol{\\iota}_i$\n",
    "\n",
    "Define the following $k$ functions, for $1\\le i\\le n$: \n",
    "$$h_i(\\boldsymbol{w}) \\equiv \\boldsymbol{\\iota}_i' \\boldsymbol{w}$$\n",
    "For each $i$, we use the upper and lower inequality constraints:\n",
    "$$h_i(\\boldsymbol{w}) \\le d_i^{\\text{max}}$$\n",
    "$$h_i(\\boldsymbol{w}) \\ge d_i^{\\text{min}}$$\n",
    "\n",
    "Stack the constraints into matrix notation. The inequality constraint functions are linear:\n",
    "$$\\boldsymbol{h}(\\boldsymbol{w}) \\equiv \\mathcal{I}_k \\boldsymbol{w}$$\n",
    "and there are $2n$ total of them--$n$ upper and $n$ lower:\n",
    "$$\\boldsymbol{h}(\\boldsymbol{w}) \\le \\boldsymbol{d}^{\\text{max}}$$\n",
    "$$\\boldsymbol{h}(\\boldsymbol{w}) \\ge \\boldsymbol{d}^{\\text{min}}$$"
   ]
  },
  {
   "cell_type": "markdown",
   "id": "4f3d1ae5",
   "metadata": {},
   "source": [
    "### Boundary Constraints\n",
    "\n",
    "Given that the inequality constraint functions are all linear, these constraints are simply boundary conditions.\n",
    "\n",
    "The `scipy` package `minimize` implements boundary constraints specifically, via an iteration of tuples:"
   ]
  },
  {
   "cell_type": "code",
   "execution_count": 9,
   "id": "462210bb",
   "metadata": {},
   "outputs": [],
   "source": [
    "bounds = [tuple(bounds_df.iloc[i,:].values) for i in range(nAssets)]"
   ]
  },
  {
   "cell_type": "markdown",
   "id": "45c99e30",
   "metadata": {},
   "source": [
    "## Solution\n",
    "\n",
    "#### Default Tolerance\n",
    "- Default tolerance is fine here, but be careful. Variance minimization for daily or even monthly variance leads to extremely small scaling of the objective function, and often the default tolerance will not be sufficient.\n",
    "- Even in the example below, making the tolerance stricter impacts the weights to the second decimal place.\n",
    "\n",
    "#### Method\n",
    "- For the data given here the problem is not too hard to solve, so many methods will work fine.\n",
    "- If using high dimensionality, nearly singular determinant, etc, it may matter more.\n",
    "- Below we use `SLSQP` as it is fast and fairly robust for this application.\n",
    "- At the end, we redo the optimization using `trust-constr` solely for the fact that this method automatically returns the Lagrange Multipliers which are useful for pedagogical reasons.\n",
    "\n",
    "#### Initialize\n",
    "- Try equally-weighted portfolio\n",
    "- This satisfies the Long-Only constraint.\n",
    "- May not satisfy the Policy constraint, but this problem is well-behaved, so it will be good enough as an initial guess\n",
    "\n",
    "#### Verify!\n",
    "- In a serious application, we would code the problem to verify that the answer returned by the solution is a \"success\" (obeys all the constraints) rather than a failed attempt. Try changing `TARGET_MEAN` to a big number, and you will see the optimizer fail to hit the target and obey the constraints."
   ]
  },
  {
   "cell_type": "code",
   "execution_count": 10,
   "id": "5d2380e6",
   "metadata": {},
   "outputs": [
    {
     "name": "stdout",
     "output_type": "stream",
     "text": [
      "Optimization SUCCESSFUL.\n",
      "Iterations: 35.\n"
     ]
    }
   ],
   "source": [
    "TOL = 1e-12\n",
    "METHOD = 'SLSQP'\n",
    "\n",
    "w0 = np.ones(nAssets) / nAssets\n",
    "\n",
    "solution = minimize(objective, w0, method=METHOD, bounds=bounds,constraints=cons, tol=TOL)\n",
    "wstar = pd.DataFrame(data=solution.x, index=cov.columns, columns=['Bounded: Numerical'])\n",
    "\n",
    "if solution.success:\n",
    "    print('Optimization SUCCESSFUL.')\n",
    "else:\n",
    "    print('Optimization FAILED.')\n",
    "\n",
    "print(f'Iterations: {solution.nit}.')"
   ]
  },
  {
   "cell_type": "markdown",
   "id": "291449b4",
   "metadata": {},
   "source": [
    "# Other Solutions for Comparison\n",
    "\n",
    "#### HBS Case Exhibit Solution\n",
    "Compare to Exhibits 5 and 6.\n",
    "- Only applicable if `USE_HISTORIC_STATS` is `False`.\n",
    "- (Case does not provide their solutions when using Historic data.)\n",
    "\n",
    "#### Classic MV via Numerical Optimization\n",
    "Solve numerically by dropping the inequality (bounds) constraints in `minimize`.\n",
    "- Only applicable if `USE_HISTORIC_STATS` is `False`. \n",
    "- (Exhibit 2 correlation matrix is not positive definite.)\n",
    "\n",
    "#### Analytic MV solution for verification.\n",
    "- Calculate this on your own.\n",
    "- The function doing it below is not available to you.\n",
    "- If `USE_HISTORIC_STATS` is `True`, computation may not work correctly, but it is attempted.\n",
    "\n",
    "#### Equal-weighted\n",
    "- Just for illustration. "
   ]
  },
  {
   "cell_type": "code",
   "execution_count": 11,
   "id": "17a664a7",
   "metadata": {},
   "outputs": [
    {
     "name": "stdout",
     "output_type": "stream",
     "text": [
      "Optimization SUCCESSFUL.\n",
      "Iterations: 72.\n"
     ]
    }
   ],
   "source": [
    "METHOD = 'SLSQP'\n",
    "TOL = 1e-12\n",
    "w0 = np.ones(nAssets) / nAssets\n",
    "\n",
    "solutionMV = minimize(objective, w0, method=METHOD, constraints=cons, tol=TOL)\n",
    "wstar['MV: Numerical'] = solutionMV.x\n",
    "\n",
    "if solutionMV.success:\n",
    "    print('Optimization SUCCESSFUL.')\n",
    "else:\n",
    "    print('Optimization FAILED.')\n",
    "\n",
    "print(f'Iterations: {solutionMV.nit}.')"
   ]
  },
  {
   "cell_type": "code",
   "execution_count": 12,
   "id": "a9459adc",
   "metadata": {},
   "outputs": [],
   "source": [
    "if os.path.isfile('../dev/extras.py'):\n",
    "    sys.path.insert(0, '../dev')\n",
    "    from extras import MVweights\n",
    "    wstar['MV: Analytic'] = MVweights(mean=mean,cov=cov,isexcess=False,target=TARGET_MEAN)\n",
    "    \n",
    "    DO_MV = True"
   ]
  },
  {
   "cell_type": "code",
   "execution_count": 13,
   "id": "6edb4a67",
   "metadata": {},
   "outputs": [],
   "source": [
    "wstar.insert(0,'Equally-Weighted',w0)"
   ]
  },
  {
   "cell_type": "markdown",
   "id": "5e9cb7a1",
   "metadata": {},
   "source": [
    "# Results\n",
    "\n",
    "### Optimized Weights Comparison"
   ]
  },
  {
   "cell_type": "code",
   "execution_count": 14,
   "id": "acceabb2",
   "metadata": {
    "scrolled": false
   },
   "outputs": [
    {
     "data": {
      "text/html": [
       "<style type=\"text/css\">\n",
       "</style>\n",
       "<table id=\"T_92528\">\n",
       "  <thead>\n",
       "    <tr>\n",
       "      <th class=\"blank level0\" >&nbsp;</th>\n",
       "      <th id=\"T_92528_level0_col0\" class=\"col_heading level0 col0\" >Equally-Weighted</th>\n",
       "      <th id=\"T_92528_level0_col1\" class=\"col_heading level0 col1\" >Bounded: Numerical</th>\n",
       "      <th id=\"T_92528_level0_col2\" class=\"col_heading level0 col2\" >MV: Numerical</th>\n",
       "      <th id=\"T_92528_level0_col3\" class=\"col_heading level0 col3\" >MV: Analytic</th>\n",
       "    </tr>\n",
       "    <tr>\n",
       "      <th class=\"index_name level0\" >Name</th>\n",
       "      <th class=\"blank col0\" >&nbsp;</th>\n",
       "      <th class=\"blank col1\" >&nbsp;</th>\n",
       "      <th class=\"blank col2\" >&nbsp;</th>\n",
       "      <th class=\"blank col3\" >&nbsp;</th>\n",
       "    </tr>\n",
       "  </thead>\n",
       "  <tbody>\n",
       "    <tr>\n",
       "      <th id=\"T_92528_level0_row0\" class=\"row_heading level0 row0\" >Domestic Equity</th>\n",
       "      <td id=\"T_92528_row0_col0\" class=\"data row0 col0\" >8.33%</td>\n",
       "      <td id=\"T_92528_row0_col1\" class=\"data row0 col1\" >50.00%</td>\n",
       "      <td id=\"T_92528_row0_col2\" class=\"data row0 col2\" >66.96%</td>\n",
       "      <td id=\"T_92528_row0_col3\" class=\"data row0 col3\" >66.96%</td>\n",
       "    </tr>\n",
       "    <tr>\n",
       "      <th id=\"T_92528_level0_row1\" class=\"row_heading level0 row1\" >Foreign Equity</th>\n",
       "      <td id=\"T_92528_row1_col0\" class=\"data row1 col0\" >8.33%</td>\n",
       "      <td id=\"T_92528_row1_col1\" class=\"data row1 col1\" >-5.00%</td>\n",
       "      <td id=\"T_92528_row1_col2\" class=\"data row1 col2\" >1.59%</td>\n",
       "      <td id=\"T_92528_row1_col3\" class=\"data row1 col3\" >1.59%</td>\n",
       "    </tr>\n",
       "    <tr>\n",
       "      <th id=\"T_92528_level0_row2\" class=\"row_heading level0 row2\" >Emerging Markets</th>\n",
       "      <td id=\"T_92528_row2_col0\" class=\"data row2 col0\" >8.33%</td>\n",
       "      <td id=\"T_92528_row2_col1\" class=\"data row2 col1\" >-5.00%</td>\n",
       "      <td id=\"T_92528_row2_col2\" class=\"data row2 col2\" >3.84%</td>\n",
       "      <td id=\"T_92528_row2_col3\" class=\"data row2 col3\" >3.84%</td>\n",
       "    </tr>\n",
       "    <tr>\n",
       "      <th id=\"T_92528_level0_row3\" class=\"row_heading level0 row3\" >Private Equity</th>\n",
       "      <td id=\"T_92528_row3_col0\" class=\"data row3 col0\" >8.33%</td>\n",
       "      <td id=\"T_92528_row3_col1\" class=\"data row3 col1\" >-5.00%</td>\n",
       "      <td id=\"T_92528_row3_col2\" class=\"data row3 col2\" >-10.18%</td>\n",
       "      <td id=\"T_92528_row3_col3\" class=\"data row3 col3\" >-10.18%</td>\n",
       "    </tr>\n",
       "    <tr>\n",
       "      <th id=\"T_92528_level0_row4\" class=\"row_heading level0 row4\" >Absolute Return</th>\n",
       "      <td id=\"T_92528_row4_col0\" class=\"data row4 col0\" >8.33%</td>\n",
       "      <td id=\"T_92528_row4_col1\" class=\"data row4 col1\" >-5.00%</td>\n",
       "      <td id=\"T_92528_row4_col2\" class=\"data row4 col2\" >-130.87%</td>\n",
       "      <td id=\"T_92528_row4_col3\" class=\"data row4 col3\" >-130.87%</td>\n",
       "    </tr>\n",
       "    <tr>\n",
       "      <th id=\"T_92528_level0_row5\" class=\"row_heading level0 row5\" >High Yield</th>\n",
       "      <td id=\"T_92528_row5_col0\" class=\"data row5 col0\" >8.33%</td>\n",
       "      <td id=\"T_92528_row5_col1\" class=\"data row5 col1\" >22.50%</td>\n",
       "      <td id=\"T_92528_row5_col2\" class=\"data row5 col2\" >37.78%</td>\n",
       "      <td id=\"T_92528_row5_col3\" class=\"data row5 col3\" >37.78%</td>\n",
       "    </tr>\n",
       "    <tr>\n",
       "      <th id=\"T_92528_level0_row6\" class=\"row_heading level0 row6\" >Commodities</th>\n",
       "      <td id=\"T_92528_row6_col0\" class=\"data row6 col0\" >8.33%</td>\n",
       "      <td id=\"T_92528_row6_col1\" class=\"data row6 col1\" >-3.46%</td>\n",
       "      <td id=\"T_92528_row6_col2\" class=\"data row6 col2\" >6.74%</td>\n",
       "      <td id=\"T_92528_row6_col3\" class=\"data row6 col3\" >6.74%</td>\n",
       "    </tr>\n",
       "    <tr>\n",
       "      <th id=\"T_92528_level0_row7\" class=\"row_heading level0 row7\" >Real Estate</th>\n",
       "      <td id=\"T_92528_row7_col0\" class=\"data row7 col0\" >8.33%</td>\n",
       "      <td id=\"T_92528_row7_col1\" class=\"data row7 col1\" >7.75%</td>\n",
       "      <td id=\"T_92528_row7_col2\" class=\"data row7 col2\" >-11.64%</td>\n",
       "      <td id=\"T_92528_row7_col3\" class=\"data row7 col3\" >-11.64%</td>\n",
       "    </tr>\n",
       "    <tr>\n",
       "      <th id=\"T_92528_level0_row8\" class=\"row_heading level0 row8\" >Domestic Bonds</th>\n",
       "      <td id=\"T_92528_row8_col0\" class=\"data row8 col0\" >8.33%</td>\n",
       "      <td id=\"T_92528_row8_col1\" class=\"data row8 col1\" >50.00%</td>\n",
       "      <td id=\"T_92528_row8_col2\" class=\"data row8 col2\" >68.33%</td>\n",
       "      <td id=\"T_92528_row8_col3\" class=\"data row8 col3\" >68.33%</td>\n",
       "    </tr>\n",
       "    <tr>\n",
       "      <th id=\"T_92528_level0_row9\" class=\"row_heading level0 row9\" >Foreign Bonds</th>\n",
       "      <td id=\"T_92528_row9_col0\" class=\"data row9 col0\" >8.33%</td>\n",
       "      <td id=\"T_92528_row9_col1\" class=\"data row9 col1\" >-5.00%</td>\n",
       "      <td id=\"T_92528_row9_col2\" class=\"data row9 col2\" >-29.75%</td>\n",
       "      <td id=\"T_92528_row9_col3\" class=\"data row9 col3\" >-29.75%</td>\n",
       "    </tr>\n",
       "    <tr>\n",
       "      <th id=\"T_92528_level0_row10\" class=\"row_heading level0 row10\" >Inflation-Indexed Bonds</th>\n",
       "      <td id=\"T_92528_row10_col0\" class=\"data row10 col0\" >8.33%</td>\n",
       "      <td id=\"T_92528_row10_col1\" class=\"data row10 col1\" >3.21%</td>\n",
       "      <td id=\"T_92528_row10_col2\" class=\"data row10 col2\" >23.33%</td>\n",
       "      <td id=\"T_92528_row10_col3\" class=\"data row10 col3\" >23.33%</td>\n",
       "    </tr>\n",
       "    <tr>\n",
       "      <th id=\"T_92528_level0_row11\" class=\"row_heading level0 row11\" >Cash</th>\n",
       "      <td id=\"T_92528_row11_col0\" class=\"data row11 col0\" >8.33%</td>\n",
       "      <td id=\"T_92528_row11_col1\" class=\"data row11 col1\" >-5.00%</td>\n",
       "      <td id=\"T_92528_row11_col2\" class=\"data row11 col2\" >73.87%</td>\n",
       "      <td id=\"T_92528_row11_col3\" class=\"data row11 col3\" >73.87%</td>\n",
       "    </tr>\n",
       "  </tbody>\n",
       "</table>\n"
      ],
      "text/plain": [
       "<pandas.io.formats.style.Styler at 0x12f9a9970>"
      ]
     },
     "metadata": {},
     "output_type": "display_data"
    }
   ],
   "source": [
    "display(wstar.style.format('{:.2%}'.format))"
   ]
  },
  {
   "cell_type": "markdown",
   "id": "d4c9cb64",
   "metadata": {},
   "source": [
    "### Using Bounds of..."
   ]
  },
  {
   "cell_type": "code",
   "execution_count": 15,
   "id": "8760e758",
   "metadata": {
    "scrolled": false
   },
   "outputs": [
    {
     "data": {
      "text/html": [
       "<style type=\"text/css\">\n",
       "</style>\n",
       "<table id=\"T_18b0b\">\n",
       "  <thead>\n",
       "    <tr>\n",
       "      <th class=\"blank level0\" >&nbsp;</th>\n",
       "      <th id=\"T_18b0b_level0_col0\" class=\"col_heading level0 col0\" >Min</th>\n",
       "      <th id=\"T_18b0b_level0_col1\" class=\"col_heading level0 col1\" >Max</th>\n",
       "    </tr>\n",
       "    <tr>\n",
       "      <th class=\"index_name level0\" >Name</th>\n",
       "      <th class=\"blank col0\" >&nbsp;</th>\n",
       "      <th class=\"blank col1\" >&nbsp;</th>\n",
       "    </tr>\n",
       "  </thead>\n",
       "  <tbody>\n",
       "    <tr>\n",
       "      <th id=\"T_18b0b_level0_row0\" class=\"row_heading level0 row0\" >Domestic Equity</th>\n",
       "      <td id=\"T_18b0b_row0_col0\" class=\"data row0 col0\" >-5.00%</td>\n",
       "      <td id=\"T_18b0b_row0_col1\" class=\"data row0 col1\" >50.00%</td>\n",
       "    </tr>\n",
       "    <tr>\n",
       "      <th id=\"T_18b0b_level0_row1\" class=\"row_heading level0 row1\" >Foreign Equity</th>\n",
       "      <td id=\"T_18b0b_row1_col0\" class=\"data row1 col0\" >-5.00%</td>\n",
       "      <td id=\"T_18b0b_row1_col1\" class=\"data row1 col1\" >50.00%</td>\n",
       "    </tr>\n",
       "    <tr>\n",
       "      <th id=\"T_18b0b_level0_row2\" class=\"row_heading level0 row2\" >Emerging Markets</th>\n",
       "      <td id=\"T_18b0b_row2_col0\" class=\"data row2 col0\" >-5.00%</td>\n",
       "      <td id=\"T_18b0b_row2_col1\" class=\"data row2 col1\" >50.00%</td>\n",
       "    </tr>\n",
       "    <tr>\n",
       "      <th id=\"T_18b0b_level0_row3\" class=\"row_heading level0 row3\" >Private Equity</th>\n",
       "      <td id=\"T_18b0b_row3_col0\" class=\"data row3 col0\" >-5.00%</td>\n",
       "      <td id=\"T_18b0b_row3_col1\" class=\"data row3 col1\" >50.00%</td>\n",
       "    </tr>\n",
       "    <tr>\n",
       "      <th id=\"T_18b0b_level0_row4\" class=\"row_heading level0 row4\" >Absolute Return</th>\n",
       "      <td id=\"T_18b0b_row4_col0\" class=\"data row4 col0\" >-5.00%</td>\n",
       "      <td id=\"T_18b0b_row4_col1\" class=\"data row4 col1\" >50.00%</td>\n",
       "    </tr>\n",
       "    <tr>\n",
       "      <th id=\"T_18b0b_level0_row5\" class=\"row_heading level0 row5\" >High Yield</th>\n",
       "      <td id=\"T_18b0b_row5_col0\" class=\"data row5 col0\" >-5.00%</td>\n",
       "      <td id=\"T_18b0b_row5_col1\" class=\"data row5 col1\" >50.00%</td>\n",
       "    </tr>\n",
       "    <tr>\n",
       "      <th id=\"T_18b0b_level0_row6\" class=\"row_heading level0 row6\" >Commodities</th>\n",
       "      <td id=\"T_18b0b_row6_col0\" class=\"data row6 col0\" >-5.00%</td>\n",
       "      <td id=\"T_18b0b_row6_col1\" class=\"data row6 col1\" >50.00%</td>\n",
       "    </tr>\n",
       "    <tr>\n",
       "      <th id=\"T_18b0b_level0_row7\" class=\"row_heading level0 row7\" >Real Estate</th>\n",
       "      <td id=\"T_18b0b_row7_col0\" class=\"data row7 col0\" >-5.00%</td>\n",
       "      <td id=\"T_18b0b_row7_col1\" class=\"data row7 col1\" >50.00%</td>\n",
       "    </tr>\n",
       "    <tr>\n",
       "      <th id=\"T_18b0b_level0_row8\" class=\"row_heading level0 row8\" >Domestic Bonds</th>\n",
       "      <td id=\"T_18b0b_row8_col0\" class=\"data row8 col0\" >-5.00%</td>\n",
       "      <td id=\"T_18b0b_row8_col1\" class=\"data row8 col1\" >50.00%</td>\n",
       "    </tr>\n",
       "    <tr>\n",
       "      <th id=\"T_18b0b_level0_row9\" class=\"row_heading level0 row9\" >Foreign Bonds</th>\n",
       "      <td id=\"T_18b0b_row9_col0\" class=\"data row9 col0\" >-5.00%</td>\n",
       "      <td id=\"T_18b0b_row9_col1\" class=\"data row9 col1\" >50.00%</td>\n",
       "    </tr>\n",
       "    <tr>\n",
       "      <th id=\"T_18b0b_level0_row10\" class=\"row_heading level0 row10\" >Inflation-Indexed Bonds</th>\n",
       "      <td id=\"T_18b0b_row10_col0\" class=\"data row10 col0\" >-5.00%</td>\n",
       "      <td id=\"T_18b0b_row10_col1\" class=\"data row10 col1\" >50.00%</td>\n",
       "    </tr>\n",
       "    <tr>\n",
       "      <th id=\"T_18b0b_level0_row11\" class=\"row_heading level0 row11\" >Cash</th>\n",
       "      <td id=\"T_18b0b_row11_col0\" class=\"data row11 col0\" >-5.00%</td>\n",
       "      <td id=\"T_18b0b_row11_col1\" class=\"data row11 col1\" >50.00%</td>\n",
       "    </tr>\n",
       "  </tbody>\n",
       "</table>\n"
      ],
      "text/plain": [
       "<pandas.io.formats.style.Styler at 0x12fbb4e50>"
      ]
     },
     "metadata": {},
     "output_type": "display_data"
    }
   ],
   "source": [
    "display(bounds_df.style.format('{:.2%}'.format))"
   ]
  },
  {
   "cell_type": "markdown",
   "id": "b51bc048",
   "metadata": {},
   "source": [
    "# Performance Stats"
   ]
  },
  {
   "cell_type": "code",
   "execution_count": 16,
   "id": "34225574",
   "metadata": {},
   "outputs": [
    {
     "data": {
      "text/html": [
       "<style type=\"text/css\">\n",
       "</style>\n",
       "<table id=\"T_a82eb\">\n",
       "  <thead>\n",
       "    <tr>\n",
       "      <th class=\"blank level0\" >&nbsp;</th>\n",
       "      <th id=\"T_a82eb_level0_col0\" class=\"col_heading level0 col0\" >mean</th>\n",
       "      <th id=\"T_a82eb_level0_col1\" class=\"col_heading level0 col1\" >vol</th>\n",
       "      <th id=\"T_a82eb_level0_col2\" class=\"col_heading level0 col2\" >Sharpe</th>\n",
       "    </tr>\n",
       "  </thead>\n",
       "  <tbody>\n",
       "    <tr>\n",
       "      <th id=\"T_a82eb_level0_row0\" class=\"row_heading level0 row0\" >Equally-Weighted</th>\n",
       "      <td id=\"T_a82eb_row0_col0\" class=\"data row0 col0\" >6.88%</td>\n",
       "      <td id=\"T_a82eb_row0_col1\" class=\"data row0 col1\" >8.99%</td>\n",
       "      <td id=\"T_a82eb_row0_col2\" class=\"data row0 col2\" >71.40%</td>\n",
       "    </tr>\n",
       "    <tr>\n",
       "      <th id=\"T_a82eb_level0_row1\" class=\"row_heading level0 row1\" >Bounded: Numerical</th>\n",
       "      <td id=\"T_a82eb_row1_col0\" class=\"data row1 col0\" >10.00%</td>\n",
       "      <td id=\"T_a82eb_row1_col1\" class=\"data row1 col1\" >6.82%</td>\n",
       "      <td id=\"T_a82eb_row1_col2\" class=\"data row1 col2\" >139.82%</td>\n",
       "    </tr>\n",
       "    <tr>\n",
       "      <th id=\"T_a82eb_level0_row2\" class=\"row_heading level0 row2\" >MV: Numerical</th>\n",
       "      <td id=\"T_a82eb_row2_col0\" class=\"data row2 col0\" >10.00%</td>\n",
       "      <td id=\"T_a82eb_row2_col1\" class=\"data row2 col1\" >4.75%</td>\n",
       "      <td id=\"T_a82eb_row2_col2\" class=\"data row2 col2\" >200.79%</td>\n",
       "    </tr>\n",
       "    <tr>\n",
       "      <th id=\"T_a82eb_level0_row3\" class=\"row_heading level0 row3\" >MV: Analytic</th>\n",
       "      <td id=\"T_a82eb_row3_col0\" class=\"data row3 col0\" >10.00%</td>\n",
       "      <td id=\"T_a82eb_row3_col1\" class=\"data row3 col1\" >4.75%</td>\n",
       "      <td id=\"T_a82eb_row3_col2\" class=\"data row3 col2\" >200.79%</td>\n",
       "    </tr>\n",
       "  </tbody>\n",
       "</table>\n"
      ],
      "text/plain": [
       "<pandas.io.formats.style.Styler at 0x12fb88d60>"
      ]
     },
     "metadata": {},
     "output_type": "display_data"
    }
   ],
   "source": [
    "meanP = (mean.T @ wstar)\n",
    "volP = pd.Series(np.diag(wstar.T @ cov @ wstar),index=wstar.columns).apply(np.sqrt)\n",
    "\n",
    "sharpeP = (meanP-mean.loc[CASH])/volP\n",
    "\n",
    "performance = pd.DataFrame({'mean':meanP,'vol':volP,'Sharpe':sharpeP})\n",
    "display(performance.style.format('{:.2%}'.format))"
   ]
  },
  {
   "cell_type": "markdown",
   "id": "3c33d08c",
   "metadata": {},
   "source": [
    "### In the case of Assumed Statistics (Exhibit 4)...\n",
    "\n",
    "The Bounded and Classic MV answers have similar Sharpe ratios.\n",
    "- Bounded optimization does a good job?\n",
    "- For these targeted mean returns, yes.\n",
    "- But for large target mean, classic MV can get there with huge long-short positions, and the bounded solution will fail or will do so with bigger penalty.\n",
    "\n",
    "Try `TARGET_MEAN` of 10%, 15%, 20% to get an idea of this.\n",
    "\n",
    "Additionally, this analysis is impacted by the strange assumed mean return. Domestic equities are assumed to only have a 3% premium over cash!"
   ]
  },
  {
   "cell_type": "markdown",
   "id": "e872578b",
   "metadata": {},
   "source": [
    "# Which Constraints are most costly?\n",
    "\n",
    "The Lagrange Multipliers give us a clue.\n",
    "- Each is the derivative of the objective function with respect to the constraint boundary.\n",
    "- Magnitude shows impact.\n",
    "- Sign is an indication of whether constraint is upper or lower bound.\n",
    "- Showing impact on objective (variance) so numbers are small.\n",
    "\n",
    "Focus on their relative magnitudes.\n",
    "\n",
    "### The importance of the constraints changes a lot\n",
    "- between using the Long-Only or Policy Constraints\n",
    "- between using the Historic and Assumed Stats"
   ]
  },
  {
   "cell_type": "code",
   "execution_count": 17,
   "id": "08405dbf",
   "metadata": {
    "scrolled": false
   },
   "outputs": [
    {
     "data": {
      "text/html": [
       "<style type=\"text/css\">\n",
       "</style>\n",
       "<table id=\"T_6938e\">\n",
       "  <thead>\n",
       "    <tr>\n",
       "      <th class=\"blank level0\" >&nbsp;</th>\n",
       "      <th id=\"T_6938e_level0_col0\" class=\"col_heading level0 col0\" >Lagrange Multipliers</th>\n",
       "    </tr>\n",
       "    <tr>\n",
       "      <th class=\"index_name level0\" >Name</th>\n",
       "      <th class=\"blank col0\" >&nbsp;</th>\n",
       "    </tr>\n",
       "  </thead>\n",
       "  <tbody>\n",
       "    <tr>\n",
       "      <th id=\"T_6938e_level0_row0\" class=\"row_heading level0 row0\" >Domestic Equity</th>\n",
       "      <td id=\"T_6938e_row0_col0\" class=\"data row0 col0\" >0.4231%</td>\n",
       "    </tr>\n",
       "    <tr>\n",
       "      <th id=\"T_6938e_level0_row1\" class=\"row_heading level0 row1\" >Domestic Bonds</th>\n",
       "      <td id=\"T_6938e_row1_col0\" class=\"data row1 col0\" >0.0132%</td>\n",
       "    </tr>\n",
       "    <tr>\n",
       "      <th id=\"T_6938e_level0_row2\" class=\"row_heading level0 row2\" >High Yield</th>\n",
       "      <td id=\"T_6938e_row2_col0\" class=\"data row2 col0\" >-0.0000%</td>\n",
       "    </tr>\n",
       "    <tr>\n",
       "      <th id=\"T_6938e_level0_row3\" class=\"row_heading level0 row3\" >Real Estate</th>\n",
       "      <td id=\"T_6938e_row3_col0\" class=\"data row3 col0\" >-0.0000%</td>\n",
       "    </tr>\n",
       "    <tr>\n",
       "      <th id=\"T_6938e_level0_row4\" class=\"row_heading level0 row4\" >Inflation-Indexed Bonds</th>\n",
       "      <td id=\"T_6938e_row4_col0\" class=\"data row4 col0\" >-0.0000%</td>\n",
       "    </tr>\n",
       "    <tr>\n",
       "      <th id=\"T_6938e_level0_row5\" class=\"row_heading level0 row5\" >Commodities</th>\n",
       "      <td id=\"T_6938e_row5_col0\" class=\"data row5 col0\" >-0.0000%</td>\n",
       "    </tr>\n",
       "    <tr>\n",
       "      <th id=\"T_6938e_level0_row6\" class=\"row_heading level0 row6\" >Cash</th>\n",
       "      <td id=\"T_6938e_row6_col0\" class=\"data row6 col0\" >-0.1828%</td>\n",
       "    </tr>\n",
       "    <tr>\n",
       "      <th id=\"T_6938e_level0_row7\" class=\"row_heading level0 row7\" >Private Equity</th>\n",
       "      <td id=\"T_6938e_row7_col0\" class=\"data row7 col0\" >-0.2675%</td>\n",
       "    </tr>\n",
       "    <tr>\n",
       "      <th id=\"T_6938e_level0_row8\" class=\"row_heading level0 row8\" >Foreign Equity</th>\n",
       "      <td id=\"T_6938e_row8_col0\" class=\"data row8 col0\" >-0.3170%</td>\n",
       "    </tr>\n",
       "    <tr>\n",
       "      <th id=\"T_6938e_level0_row9\" class=\"row_heading level0 row9\" >Absolute Return</th>\n",
       "      <td id=\"T_6938e_row9_col0\" class=\"data row9 col0\" >-0.3638%</td>\n",
       "    </tr>\n",
       "    <tr>\n",
       "      <th id=\"T_6938e_level0_row10\" class=\"row_heading level0 row10\" >Emerging Markets</th>\n",
       "      <td id=\"T_6938e_row10_col0\" class=\"data row10 col0\" >-0.4884%</td>\n",
       "    </tr>\n",
       "    <tr>\n",
       "      <th id=\"T_6938e_level0_row11\" class=\"row_heading level0 row11\" >Foreign Bonds</th>\n",
       "      <td id=\"T_6938e_row11_col0\" class=\"data row11 col0\" >-0.5718%</td>\n",
       "    </tr>\n",
       "  </tbody>\n",
       "</table>\n"
      ],
      "text/plain": [
       "<pandas.io.formats.style.Styler at 0x12f9a9ca0>"
      ]
     },
     "execution_count": 17,
     "metadata": {},
     "output_type": "execute_result"
    }
   ],
   "source": [
    "warnings.filterwarnings(\"ignore\", message=\"delta_grad == 0.0. Check if the approximated function is linear.\")\n",
    "\n",
    "TOL = 1e-12\n",
    "METHOD = 'trust-constr'\n",
    "\n",
    "w0 = wstar['Bounded: Numerical']\n",
    "solutionALT = minimize(objective, w0, method=METHOD, bounds=bounds,constraints=cons, tol=TOL)\n",
    "\n",
    "pd.DataFrame(solutionALT.v[-1], index=mean.index, columns=['Lagrange Multipliers']).sort_values('Lagrange Multipliers',ascending=False).style.format('{:.4%}'.format)"
   ]
  },
  {
   "cell_type": "markdown",
   "id": "8926dd38",
   "metadata": {},
   "source": [
    "# Figures"
   ]
  },
  {
   "cell_type": "code",
   "execution_count": 18,
   "id": "5fe1bc05",
   "metadata": {},
   "outputs": [
    {
     "data": {
      "image/png": "[encoded data removed]",
      "text/plain": [
       "<Figure size 720x720 with 1 Axes>"
      ]
     },
     "metadata": {
      "needs_background": "light"
     },
     "output_type": "display_data"
    }
   ],
   "source": [
    "warnings.filterwarnings(\"ignore\", message=\"Values in x were outside bounds during a \")\n",
    "\n",
    "if DO_MV:\n",
    "    omega = pd.DataFrame(MVweights(mean=mean,cov=cov,isexcess=False,target='TAN'), index=mean.index).rename({0:'Tangency'},axis=1)\n",
    "\n",
    "    mean_ex = mean-mean[CASH]\n",
    "    cov_ex = cov.drop(columns=[CASH],index=[CASH])\n",
    "    omega['GMV'] = MVweights(mean=mean,cov=cov,isexcess=False,target='GMV')\n",
    "\n",
    "    omega_tan = omega['Tangency']\n",
    "    omega_gmv = omega['GMV']\n",
    "\n",
    "    vols = pd.Series(np.sqrt(np.diag(cov)), index=cov.index)\n",
    "    special_vols = pd.Series(np.sqrt(np.diag(omega.T @ cov @ omega)), index=omega.columns)\n",
    "    special_means = mean.T @ omega\n",
    "\n",
    "    if USE_LONGONLY_CONSTRAINT:\n",
    "        MVgridmax = 60\n",
    "    else:\n",
    "        MVgridmax = 100\n",
    "\n",
    "    delta_grid = np.linspace(-25,MVgridmax,100)\n",
    "    mv_frame = pd.DataFrame(columns=['mean','vol'],index=delta_grid)\n",
    "    for i, delta in enumerate(delta_grid):\n",
    "        omega_mv = delta * omega_tan + (1-delta) * omega_gmv\n",
    "        mv_frame['mean'].iloc[i] = omega_mv.T @ mean.T\n",
    "        mv_frame['vol'].iloc[i] = np.sqrt(omega_mv.T @ cov @ omega_mv)\n",
    "\n",
    "    mv_assets = pd.concat([mean, vols],axis=1)\n",
    "    mv_special = pd.concat([special_means, special_vols],axis=1)\n",
    "    mv_assets.columns = ['mean','vol']\n",
    "    mv_special.columns = ['mean','vol']\n",
    "\n",
    "    ax = mv_frame.plot.scatter(x='vol',y='mean', c='k', figsize=(10,10), title='MV Frontier')\n",
    "    mv_assets.plot.scatter(x='vol',y='mean',ax=ax, c='b', marker='^', linewidth=4)\n",
    "    mv_special.plot.scatter(x='vol',y='mean',ax=ax, c='g', marker='o', linewidth=4)\n",
    "\n",
    "    for i in range(mv_assets.shape[0]):\n",
    "        plt.text(x=mv_assets['vol'][i]+.0005, y=mv_assets['mean'][i]+.001, s=mv_assets.index[i])\n",
    "\n",
    "    TOL = 1e-12\n",
    "    METHOD = 'SLSQP'\n",
    "    w0 = np.ones(nAssets) / nAssets\n",
    "\n",
    "\n",
    "    if USE_LONGONLY_CONSTRAINT:\n",
    "        maxmu = .20\n",
    "        minmu = 0\n",
    "    else:\n",
    "        maxmu = .30\n",
    "        minmu = .0\n",
    "\n",
    "    mu_grid = np.linspace(minmu,maxmu,20)\n",
    "    mvcon_frame = pd.DataFrame(columns=['mean','vol'],index=mu_grid)\n",
    "    for i, mu in enumerate(mu_grid):\n",
    "        TARGET_MEAN = mu\n",
    "        omega_con = minimize(objective, w0, method=METHOD, bounds=bounds,constraints=cons, tol=TOL).x\n",
    "        mvcon_frame['mean'].iloc[i] = omega_con.T @ mean.T\n",
    "        mvcon_frame['vol'].iloc[i] = np.sqrt(omega_con.T @ cov @ omega_con)\n",
    "\n",
    "    mvcon_frame.plot.scatter(x='vol',y='mean', c='r', marker = 's', ax=ax, linewidth=5)\n",
    "\n",
    "    plt.legend(['Classic MV', 'Assets', 'TAN & GMV', 'Bounded MV'])\n",
    "    full_fig = plt.gcf()"
   ]
  },
  {
   "cell_type": "markdown",
   "id": "d6a5fdb8",
   "metadata": {},
   "source": [
    "### Plot of Sharpe Ratio as short constraint varies\n",
    "#### Holding target mean return fixed\n",
    "This is the numerical equivalent to the LaGrangian constraints reported above.\n",
    "\n",
    "<span style='color:red'>In development</span>"
   ]
  }
 ],
 "metadata": {
  "hide_input": false,
  "kernelspec": {
   "display_name": "Python 3 (ipykernel)",
   "language": "python",
   "name": "python3"
  },
  "language_info": {
   "codemirror_mode": {
    "name": "ipython",
    "version": 3
   },
   "file_extension": ".py",
   "mimetype": "text/x-python",
   "name": "python",
   "nbconvert_exporter": "python",
   "pygments_lexer": "ipython3",
   "version": "3.9.7"
  }
 },
 "nbformat": 4,
 "nbformat_minor": 5
}
